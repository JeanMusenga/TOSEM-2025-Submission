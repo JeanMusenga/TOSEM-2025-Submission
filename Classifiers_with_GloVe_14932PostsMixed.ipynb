{
  "nbformat": 4,
  "nbformat_minor": 0,
  "metadata": {
    "colab": {
      "provenance": [],
      "toc_visible": true,
      "include_colab_link": true
    },
    "kernelspec": {
      "name": "python3",
      "display_name": "Python 3"
    },
    "language_info": {
      "name": "python"
    }
  },
  "cells": [
    {
      "cell_type": "markdown",
      "metadata": {
        "id": "view-in-github",
        "colab_type": "text"
      },
      "source": [
        "<a href=\"https://colab.research.google.com/github/JeanMusenga/TOSEM-2025-Submission/blob/main/Classifiers_with_GloVe_14932PostsMixed.ipynb\" target=\"_parent\"><img src=\"https://colab.research.google.com/assets/colab-badge.svg\" alt=\"Open In Colab\"/></a>"
      ]
    },
    {
      "cell_type": "markdown",
      "source": [
        "https://chatgpt.com/share/7bf0971e-4d5c-47f4-abc5-4c29d6735f27"
      ],
      "metadata": {
        "id": "5tDUAyIvqhAR"
      }
    },
    {
      "cell_type": "markdown",
      "source": [
        "# Load GloVe Embeddings from Google Drive\n",
        "In future sessions, you can load the embeddings directly from Google Drive without having to download and unzip them again:\n",
        "https://chatgpt.com/share/31751243-a735-41ad-b1a6-0e7952f9b67e\n",
        "\n",
        "import os\n",
        "\n",
        "glove_dir = \"/content/drive/My Drive/Thesis_Musenga/\"\n",
        "\n",
        "embeddings_index = {}\n",
        "#Replace \"glove.6B.100d.txt\" with the specific GloVe file you need.\n",
        "with open(os.path.join(glove_dir, \"glove.6B.100d.txt\"), encoding=\"utf-8\") as f:\n",
        "    for line in f:\n",
        "        values = line.split()\n",
        "        word = values[0]\n",
        "        coefs = np.asarray(values[1:], dtype=\"float32\")\n",
        "        embeddings_index[word] = coefs\n",
        "\n",
        "print(\"Loaded %s word vectors.\" % len(embeddings_index))"
      ],
      "metadata": {
        "id": "KTpfIhsBLO0y"
      }
    },
    {
      "cell_type": "code",
      "execution_count": null,
      "metadata": {
        "id": "nnsYUKHoYmBq"
      },
      "outputs": [],
      "source": [
        "import numpy as np\n",
        "import pandas as pd\n",
        "import nltk\n",
        "from nltk.corpus import stopwords\n",
        "from nltk.tokenize import word_tokenize\n",
        "from nltk.stem import WordNetLemmatizer\n",
        "from sklearn.model_selection import train_test_split\n",
        "from sklearn.svm import SVC\n",
        "from sklearn.metrics import classification_report, accuracy_score\n",
        "import os\n",
        "from tqdm import tqdm\n",
        "\n",
        "\n",
        "# Set random seed for reproducibility\n",
        "RANDOM_SEED = 42\n",
        "np.random.seed(RANDOM_SEED)"
      ]
    },
    {
      "cell_type": "markdown",
      "source": [
        "# Download necessary NLTK data"
      ],
      "metadata": {
        "id": "gsiBGpoeHooB"
      }
    },
    {
      "cell_type": "code",
      "source": [
        "# Download necessary NLTK data\n",
        "nltk.download('punkt')\n",
        "nltk.download('stopwords')\n",
        "nltk.download('wordnet')\n",
        "nltk.download('punkt_tab')"
      ],
      "metadata": {
        "id": "QzSKA8GcfMEI",
        "colab": {
          "base_uri": "https://localhost:8080/"
        },
        "outputId": "0af8cd50-3826-4fab-e189-24358f3d7931"
      },
      "execution_count": null,
      "outputs": [
        {
          "output_type": "stream",
          "name": "stderr",
          "text": [
            "[nltk_data] Downloading package punkt to /root/nltk_data...\n",
            "[nltk_data]   Unzipping tokenizers/punkt.zip.\n",
            "[nltk_data] Downloading package stopwords to /root/nltk_data...\n",
            "[nltk_data]   Unzipping corpora/stopwords.zip.\n",
            "[nltk_data] Downloading package wordnet to /root/nltk_data...\n",
            "[nltk_data] Downloading package punkt_tab to /root/nltk_data...\n",
            "[nltk_data]   Unzipping tokenizers/punkt_tab.zip.\n"
          ]
        },
        {
          "output_type": "execute_result",
          "data": {
            "text/plain": [
              "True"
            ]
          },
          "metadata": {},
          "execution_count": 2
        }
      ]
    },
    {
      "cell_type": "code",
      "source": [
        "# Load the dataset\n",
        "df = pd.read_excel('14932_ARPs_and_Programming_Posts.xlsx')"
      ],
      "metadata": {
        "id": "-ZI-0pTjYn9n"
      },
      "execution_count": null,
      "outputs": []
    },
    {
      "cell_type": "code",
      "source": [
        "df.shape"
      ],
      "metadata": {
        "id": "LSRkIW2o93qD",
        "colab": {
          "base_uri": "https://localhost:8080/"
        },
        "outputId": "2e255e27-cfb4-411d-d79d-8d1fec779685"
      },
      "execution_count": null,
      "outputs": [
        {
          "output_type": "execute_result",
          "data": {
            "text/plain": [
              "(14932, 2)"
            ]
          },
          "metadata": {},
          "execution_count": 4
        }
      ]
    },
    {
      "cell_type": "code",
      "source": [
        "class_distribution = df['Label'].value_counts()\n",
        "print(class_distribution)"
      ],
      "metadata": {
        "id": "nWgWjJiH5DX_",
        "colab": {
          "base_uri": "https://localhost:8080/"
        },
        "outputId": "352faa3e-e5e7-4c7c-ffd6-6adea7cf9312"
      },
      "execution_count": null,
      "outputs": [
        {
          "output_type": "stream",
          "name": "stdout",
          "text": [
            "Label\n",
            "0    7466\n",
            "1    7466\n",
            "Name: count, dtype: int64\n"
          ]
        }
      ]
    },
    {
      "cell_type": "markdown",
      "source": [
        "# Text preprocessing: Tokenization, Lemmatization, etc"
      ],
      "metadata": {
        "id": "5E-nzYSsHm_B"
      }
    },
    {
      "cell_type": "markdown",
      "source": [
        "### Cleaning data"
      ],
      "metadata": {
        "id": "EpT45Tr0FrHS"
      }
    },
    {
      "cell_type": "code",
      "source": [
        "import pandas as pd\n",
        "from bs4 import BeautifulSoup\n",
        "\n",
        "# Function to remove HTML tags and replace links, images, code snippets, and tables with placeholders\n",
        "def clean_html(text):\n",
        "    if not isinstance(text, str):\n",
        "        return text\n",
        "\n",
        "    soup = BeautifulSoup(text, \"html.parser\")\n",
        "\n",
        "    # Replace all links with '[external-link]'\n",
        "    for a in soup.find_all('a'):\n",
        "        a.replace_with('[external-link]')\n",
        "\n",
        "    # Replace all images with '[figure]'\n",
        "    for img in soup.find_all('img'):\n",
        "        img.replace_with('[figure]')\n",
        "\n",
        "    # Replace all code blocks with '[code-snippet]'\n",
        "    for code in soup.find_all('code'):  # Fixed this line\n",
        "        code.replace_with('[code-snippet]')\n",
        "\n",
        "    # Replace all tables with '[table]'\n",
        "    for table in soup.find_all('table'):\n",
        "        table.replace_with('[table]')\n",
        "\n",
        "    # Get the text without any remaining HTML tags\n",
        "    clean_text = soup.get_text()\n",
        "\n",
        "    return clean_text\n",
        "\n",
        "# Load your DataFrame (assuming df is already defined)\n",
        "# df = pd.read_csv('your_file.csv')  # Uncomment if loading from a file\n",
        "\n",
        "# Apply the function to 'Question_body' column\n",
        "df['Question_body_cleaned'] = df['Question_body'].apply(clean_html)\n",
        "\n",
        "\n",
        "# Print sample cleaned data\n",
        "print(df[['Question_body', 'Question_body_cleaned']].head())\n"
      ],
      "metadata": {
        "colab": {
          "base_uri": "https://localhost:8080/"
        },
        "id": "N2vIWHCzFo1c",
        "outputId": "104daf8b-9a39-4f01-e0cf-f464c1fa5c16"
      },
      "execution_count": null,
      "outputs": [
        {
          "output_type": "stream",
          "name": "stdout",
          "text": [
            "                                       Question_body  \\\n",
            "0  <p>When deploying a Windows EC2 instance with ...   \n",
            "1  I'm pretty new to my company (2 weeks) and we'...   \n",
            "2  <p>I am trying to figure out how to get <code>...   \n",
            "3  Say you have an application divided into 3-tie...   \n",
            "4  <p>I am trying to use the circuit breaker patt...   \n",
            "\n",
            "                               Question_body_cleaned  \n",
            "0  When deploying a Windows EC2 instance with Ter...  \n",
            "1  I'm pretty new to my company (2 weeks) and we'...  \n",
            "2  I am trying to figure out how to get [code-sni...  \n",
            "3  Say you have an application divided into 3-tie...  \n",
            "4  I am trying to use the circuit breaker pattern...  \n"
          ]
        }
      ]
    },
    {
      "cell_type": "code",
      "source": [
        "# Text preprocessing: Tokenization, Lemmatization, etc\n",
        "stop_words = set(stopwords.words('english'))\n",
        "lemmatizer = WordNetLemmatizer()\n",
        "\n",
        "def preprocess_text(text):\n",
        "    tokens = word_tokenize(text)\n",
        "    tokens = [word.lower() for word in tokens if word.isalpha()]\n",
        "    tokens = [word for word in tokens if word not in stop_words]\n",
        "    lemmatized = [lemmatizer.lemmatize(word) for word in tokens]\n",
        "    return ' '.join(lemmatized)\n",
        "\n",
        "# Ensure the column contains strings and handle NaN values\n",
        "#df['Question_body_cleaned'] = df['Question_body_cleaned'].astype(str).fillna(\"\")\n",
        "#df['Question_body_cleaned'] = df['Question_body_cleaned'].apply(preprocess_text)\n",
        "df['Question_body_cleaned'] = df['Question_body_cleaned'].fillna('').astype(str)\n",
        "\n",
        "# Apply the preprocessing function\n",
        "df['Question_body_preprocessed'] = df['Question_body_cleaned'].apply(preprocess_text)"
      ],
      "metadata": {
        "id": "X4MQJ1Z0fRMx"
      },
      "execution_count": null,
      "outputs": []
    },
    {
      "cell_type": "markdown",
      "source": [
        "# Save the updated DataFrame to an Excel file"
      ],
      "metadata": {
        "id": "tWVJOx4QHz6L"
      }
    },
    {
      "cell_type": "code",
      "source": [
        "df.to_excel('preprocessed_14932_ARPs_and_Programming_Posts.xlsx', index=False)"
      ],
      "metadata": {
        "id": "QgoxK8kgW-cp"
      },
      "execution_count": null,
      "outputs": []
    },
    {
      "cell_type": "code",
      "source": [
        "!wget http://nlp.stanford.edu/data/glove.6B.zip\n",
        "!unzip glove.6B.zip"
      ],
      "metadata": {
        "id": "iPQ54AabcAeA",
        "colab": {
          "base_uri": "https://localhost:8080/"
        },
        "outputId": "8407ba2d-fa59-439d-8e19-34c4c2db24f3"
      },
      "execution_count": null,
      "outputs": [
        {
          "output_type": "stream",
          "name": "stdout",
          "text": [
            "--2025-03-06 17:46:49--  http://nlp.stanford.edu/data/glove.6B.zip\n",
            "Resolving nlp.stanford.edu (nlp.stanford.edu)... 171.64.67.140\n",
            "Connecting to nlp.stanford.edu (nlp.stanford.edu)|171.64.67.140|:80... connected.\n",
            "HTTP request sent, awaiting response... 302 Found\n",
            "Location: https://nlp.stanford.edu/data/glove.6B.zip [following]\n",
            "--2025-03-06 17:46:49--  https://nlp.stanford.edu/data/glove.6B.zip\n",
            "Connecting to nlp.stanford.edu (nlp.stanford.edu)|171.64.67.140|:443... connected.\n",
            "HTTP request sent, awaiting response... 301 Moved Permanently\n",
            "Location: https://downloads.cs.stanford.edu/nlp/data/glove.6B.zip [following]\n",
            "--2025-03-06 17:46:49--  https://downloads.cs.stanford.edu/nlp/data/glove.6B.zip\n",
            "Resolving downloads.cs.stanford.edu (downloads.cs.stanford.edu)... 171.64.64.22\n",
            "Connecting to downloads.cs.stanford.edu (downloads.cs.stanford.edu)|171.64.64.22|:443... connected.\n",
            "HTTP request sent, awaiting response... 200 OK\n",
            "Length: 862182613 (822M) [application/zip]\n",
            "Saving to: ‘glove.6B.zip’\n",
            "\n",
            "glove.6B.zip        100%[===================>] 822.24M  5.04MB/s    in 2m 40s  \n",
            "\n",
            "2025-03-06 17:49:29 (5.14 MB/s) - ‘glove.6B.zip’ saved [862182613/862182613]\n",
            "\n",
            "Archive:  glove.6B.zip\n",
            "  inflating: glove.6B.50d.txt        \n",
            "  inflating: glove.6B.100d.txt       \n",
            "  inflating: glove.6B.200d.txt       \n",
            "  inflating: glove.6B.300d.txt       \n"
          ]
        }
      ]
    },
    {
      "cell_type": "code",
      "source": [
        "# Function to load GloVe embeddings efficiently\n",
        "def load_glove_embeddings(file_path):\n",
        "    embeddings_index = {}\n",
        "    with open(file_path, 'r', encoding='utf-8') as f:\n",
        "        for line in tqdm(f, desc=\"Loading GloVe embeddings\"):\n",
        "            values = line.split()\n",
        "            word = values[0]\n",
        "            embeddings = np.array(values[1:], dtype='float32')\n",
        "            embeddings_index[word] = embeddings\n",
        "    return embeddings_index\n",
        "\n",
        "# Load GloVe embeddings (check file path)\n",
        "glove_path = '/content/glove.6B.200d.txt'  # Modify if needed\n",
        "glove_embeddings_index = load_glove_embeddings(glove_path)\n",
        "\n",
        "# Function to convert question text into an embedding\n",
        "def question_to_embedding(question, embeddings_index, embedding_dim=200):\n",
        "    words = question.split()\n",
        "    valid_embeddings = [embeddings_index[word] for word in words if word in embeddings_index]\n",
        "\n",
        "    if valid_embeddings:\n",
        "        return np.mean(valid_embeddings, axis=0)\n",
        "    else:\n",
        "        return np.zeros(embedding_dim)  # Zero vector if no words found\n",
        "\n",
        "# Generate GloVe embeddings for each question\n",
        "glove_vectors = np.array([question_to_embedding(q, glove_embeddings_index) for q in df['Question_body_preprocessed']])\n",
        "\n",
        "# Convert the list of embeddings into a DataFrame\n",
        "glove_embeddings_df = pd.DataFrame(glove_vectors)\n",
        "\n",
        "# Prepare features and labels\n",
        "X = np.array(glove_vectors)  # Ensure correct format\n",
        "y = df['Label'].astype(int).values\n"
      ],
      "metadata": {
        "id": "ZZXJcPUybB_4",
        "colab": {
          "base_uri": "https://localhost:8080/"
        },
        "outputId": "97ea5e1a-cccc-4298-90b5-99f957c1af03"
      },
      "execution_count": null,
      "outputs": [
        {
          "output_type": "stream",
          "name": "stderr",
          "text": [
            "Loading GloVe embeddings: 400000it [00:22, 18121.26it/s]\n"
          ]
        }
      ]
    },
    {
      "cell_type": "markdown",
      "source": [
        "# Train-test split"
      ],
      "metadata": {
        "id": "6oiqZ1sGHXdR"
      }
    },
    {
      "cell_type": "code",
      "source": [
        "# Train-test split\n",
        "X_train, X_test, y_train, y_test = train_test_split(X, y, test_size=0.2, random_state=42)"
      ],
      "metadata": {
        "id": "iewIDERndry3"
      },
      "execution_count": null,
      "outputs": []
    },
    {
      "cell_type": "markdown",
      "source": [
        "# Naive Bayes with Glove"
      ],
      "metadata": {
        "id": "B6ED-6h7iVJW"
      }
    },
    {
      "cell_type": "code",
      "source": [
        "from sklearn.naive_bayes import GaussianNB\n",
        "from sklearn.metrics import precision_recall_fscore_support, confusion_matrix, accuracy_score\n",
        "\n",
        "# Train the Naive Bayes model\n",
        "nb_model = GaussianNB()\n",
        "nb_model = nb_model.fit(X_train, y_train)\n",
        "\n",
        "# Predict on the test set\n",
        "y_pred = nb_model.predict(X_test)\n",
        "\n",
        "# Compute precision, recall, and F1-score for each class\n",
        "precision_class, recall_class, f1_class, support_class = precision_recall_fscore_support(y_test, y_pred, average=None, labels=[0, 1])\n",
        "\n",
        "# Compute confusion matrix\n",
        "conf_matrix = confusion_matrix(y_test, y_pred, labels=[0, 1])\n",
        "\n",
        "# Extract TP, TN, FP, FN for each class\n",
        "TP_0 = conf_matrix[0, 0]\n",
        "FN_0 = conf_matrix[0, 1]\n",
        "FP_0 = conf_matrix[1, 0]\n",
        "TN_0 = conf_matrix[1, 1]\n",
        "\n",
        "TP_1 = conf_matrix[1, 1]\n",
        "FN_1 = conf_matrix[1, 0]\n",
        "FP_1 = conf_matrix[0, 1]\n",
        "TN_1 = conf_matrix[0, 0]\n",
        "\n",
        "# Calculate overall accuracy using accuracy_score\n",
        "overall_accuracy = accuracy_score(y_test, y_pred)\n",
        "\n",
        "# Print the overall accuracy and class-wise metrics\n",
        "print(f'Overall Accuracy: {overall_accuracy}')\n",
        "print(f'Class 0 - Precision: {precision_class[0]}, Recall: {recall_class[0]}, F1-score: {f1_class[0]}, Support: {support_class[0]}')\n",
        "print(f'Class 1 - Precision: {precision_class[1]}, Recall: {recall_class[1]}, F1-score: {f1_class[1]}, Support: {support_class[1]}')\n"
      ],
      "metadata": {
        "colab": {
          "base_uri": "https://localhost:8080/"
        },
        "id": "ZqB38s4QiPif",
        "outputId": "0647e07d-3544-4853-b339-cdb18ccdc8ab"
      },
      "execution_count": null,
      "outputs": [
        {
          "output_type": "stream",
          "name": "stdout",
          "text": [
            "Overall Accuracy: 0.8148644124539672\n",
            "Class 0 - Precision: 0.8250688705234159, Recall: 0.8002672010688042, F1-score: 0.8124788063750424, Support: 1497\n",
            "Class 1 - Precision: 0.8052117263843648, Recall: 0.8295302013422818, F1-score: 0.8171900826446281, Support: 1490\n"
          ]
        }
      ]
    },
    {
      "cell_type": "markdown",
      "source": [
        "## Overall"
      ],
      "metadata": {
        "id": "gyb52ZAPcYaT"
      }
    },
    {
      "cell_type": "code",
      "source": [
        "from sklearn.naive_bayes import GaussianNB\n",
        "from sklearn.metrics import precision_recall_fscore_support, confusion_matrix, accuracy_score\n",
        "\n",
        "# Train the Naive Bayes model\n",
        "nb_model = GaussianNB()\n",
        "nb_model = nb_model.fit(X_train, y_train)\n",
        "\n",
        "# Predict on the test set\n",
        "y_pred = nb_model.predict(X_test)\n",
        "\n",
        "# Compute precision, recall, and F1-score for each class (also including the average)\n",
        "precision_class, recall_class, f1_class, support_class = precision_recall_fscore_support(y_test, y_pred, average=None, labels=[0, 1])\n",
        "\n",
        "# Compute overall metrics (macro average or weighted average)\n",
        "precision_macro = precision_recall_fscore_support(y_test, y_pred, average='macro')[0]\n",
        "recall_macro = precision_recall_fscore_support(y_test, y_pred, average='macro')[1]\n",
        "f1_macro = precision_recall_fscore_support(y_test, y_pred, average='macro')[2]\n",
        "\n",
        "# Compute confusion matrix\n",
        "conf_matrix = confusion_matrix(y_test, y_pred, labels=[0, 1])\n",
        "\n",
        "# Calculate overall accuracy using accuracy_score\n",
        "overall_accuracy = accuracy_score(y_test, y_pred)\n",
        "\n",
        "# Print the overall accuracy and average metrics\n",
        "print(f'Overall Precision (Macro-average): {precision_macro}')\n",
        "print(f'Overall Recall (Macro-average): {recall_macro}')\n",
        "print(f'Overall F1-score (Macro-average): {f1_macro}')\n",
        "print(f'Overall Accuracy: {overall_accuracy}')\n"
      ],
      "metadata": {
        "id": "Q-Dx__BMcosh",
        "colab": {
          "base_uri": "https://localhost:8080/"
        },
        "outputId": "18a9a5a8-434e-4164-9d46-a6424bfb2248"
      },
      "execution_count": null,
      "outputs": [
        {
          "output_type": "stream",
          "name": "stdout",
          "text": [
            "Overall Precision (Macro-average): 0.8151402984538904\n",
            "Overall Recall (Macro-average): 0.8148987012055431\n",
            "Overall F1-score (Macro-average): 0.8148344445098352\n",
            "Overall Accuracy: 0.8148644124539672\n"
          ]
        }
      ]
    },
    {
      "cell_type": "code",
      "source": [
        "from sklearn.metrics import confusion_matrix\n",
        "import seaborn as sns\n",
        "import matplotlib.pyplot as plt\n",
        "\n",
        "cm = confusion_matrix(y_test, y_pred)\n",
        "sns.heatmap(cm, annot=True, fmt='d', cmap='Blues', xticklabels=['Predicted 0', 'Predicted 1'], yticklabels=['Actual 0', 'Actual 1'])\n",
        "plt.xlabel('Predicted')\n",
        "plt.ylabel('Actual')\n",
        "plt.show()"
      ],
      "metadata": {
        "colab": {
          "base_uri": "https://localhost:8080/",
          "height": 449
        },
        "id": "zS7U5jlWGx_5",
        "outputId": "9f821f2a-33b3-4301-cd37-2deed9139e53"
      },
      "execution_count": null,
      "outputs": [
        {
          "output_type": "display_data",
          "data": {
            "text/plain": [
              "<Figure size 640x480 with 2 Axes>"
            ],
            "image/png": "[encoded data removed]"
          },
          "metadata": {}
        }
      ]
    },
    {
      "cell_type": "markdown",
      "source": [
        "# kNN with Glove"
      ],
      "metadata": {
        "id": "yjjzfcNsjFMY"
      }
    },
    {
      "cell_type": "code",
      "source": [
        "from sklearn.neighbors import KNeighborsClassifier\n",
        "from sklearn.metrics import classification_report\n",
        "\n",
        "knn_model = KNeighborsClassifier(n_neighbors=1)\n",
        "knn_model.fit(X_train, y_train)\n",
        "\n",
        "knn_model.predict(X_test)\n",
        "\n",
        "# Predict on the test set\n",
        "y_pred = knn_model.predict(X_test)\n",
        "\n",
        "from sklearn.metrics import precision_recall_fscore_support, confusion_matrix\n",
        "\n",
        "# Compute precision, recall, and F1-score for each class\n",
        "precision_class, recall_class, f1_class, support_class = precision_recall_fscore_support(y_test, y_pred, average=None, labels=[0, 1])\n",
        "\n",
        "# Compute confusion matrix\n",
        "conf_matrix = confusion_matrix(y_test, y_pred, labels=[0, 1])\n",
        "\n",
        "# Extract TP, TN, FP, FN for each class\n",
        "TP_0 = conf_matrix[0, 0]\n",
        "FN_0 = conf_matrix[0, 1]\n",
        "FP_0 = conf_matrix[1, 0]\n",
        "TN_0 = conf_matrix[1, 1]\n",
        "\n",
        "TP_1 = conf_matrix[1, 1]\n",
        "FN_1 = conf_matrix[1, 0]\n",
        "FP_1 = conf_matrix[0, 1]\n",
        "TN_1 = conf_matrix[0, 0]\n",
        "\n",
        "# Calculate overall accuracy\n",
        "accuracy = (TP_0 + TP_1) / (TP_0 + TP_1 + FP_0 + FP_1 + FN_0 + FN_1)\n",
        "\n",
        "print(f'Overall Accuracy: {accuracy}')\n",
        "print(f'Class 0 - Precision: {precision_class[0]}, Recall: {recall_class[0]}, F1-score: {f1_class[0]}, Support: {support_class[0]}')\n",
        "print(f'Class 1 - Precision: {precision_class[1]}, Recall: {recall_class[1]}, F1-score: {f1_class[1]}, Support: {support_class[1]}')"
      ],
      "metadata": {
        "colab": {
          "base_uri": "https://localhost:8080/"
        },
        "id": "Kb97geA7iPSX",
        "outputId": "535283fa-2da7-4aa5-ba50-19fb9f2dc901"
      },
      "execution_count": null,
      "outputs": [
        {
          "output_type": "stream",
          "name": "stdout",
          "text": [
            "Overall Accuracy: 0.628680479825518\n",
            "Class 0 - Precision: 0.8344262295081967, Recall: 0.6800267201068805, F1-score: 0.749355907250644, Support: 1497\n",
            "Class 1 - Precision: 0.7289190718732315, Recall: 0.8644295302013423, F1-score: 0.7909118821000921, Support: 1490\n"
          ]
        }
      ]
    },
    {
      "cell_type": "markdown",
      "source": [
        "## Overall"
      ],
      "metadata": {
        "id": "rR1Mk6TWcbUc"
      }
    },
    {
      "cell_type": "code",
      "source": [
        "from sklearn.neighbors import KNeighborsClassifier\n",
        "from sklearn.metrics import precision_recall_fscore_support, confusion_matrix, accuracy_score\n",
        "\n",
        "# Train KNN model\n",
        "knn_model = KNeighborsClassifier(n_neighbors=1)\n",
        "knn_model.fit(X_train, y_train)\n",
        "\n",
        "# Predict on the test set (only once)\n",
        "y_pred = knn_model.predict(X_test)\n",
        "\n",
        "# Compute per-class precision, recall, F1-score\n",
        "precision_class, recall_class, f1_class, support_class = precision_recall_fscore_support(y_test, y_pred, average=None, labels=[0, 1])\n",
        "\n",
        "# Compute overall precision, recall, and F1-score (macro-average)\n",
        "precision_macro = precision_recall_fscore_support(y_test, y_pred, average='macro')[0]\n",
        "recall_macro = precision_recall_fscore_support(y_test, y_pred, average='macro')[1]\n",
        "f1_macro = precision_recall_fscore_support(y_test, y_pred, average='macro')[2]\n",
        "\n",
        "# Compute confusion matrix\n",
        "conf_matrix = confusion_matrix(y_test, y_pred, labels=[0, 1])\n",
        "\n",
        "# Compute overall accuracy\n",
        "overall_accuracy = accuracy_score(y_test, y_pred)\n",
        "\n",
        "# Print results\n",
        "print(f'Overall Precision (Macro-average): {precision_macro}')\n",
        "print(f'Overall Recall (Macro-average): {recall_macro}')\n",
        "print(f'Overall F1-score (Macro-average): {f1_macro}')\n",
        "print(f'Overall Accuracy: {overall_accuracy}')"
      ],
      "metadata": {
        "id": "z-8EdxPTeOb1",
        "colab": {
          "base_uri": "https://localhost:8080/"
        },
        "outputId": "263f9622-ca97-42c8-90b2-2d6f358a39bd"
      },
      "execution_count": null,
      "outputs": [
        {
          "output_type": "stream",
          "name": "stdout",
          "text": [
            "Overall Precision (Macro-average): 0.7816726506907141\n",
            "Overall Recall (Macro-average): 0.7722281251541114\n",
            "Overall F1-score (Macro-average): 0.7701338946753681\n",
            "Overall Accuracy: 0.7720120522263141\n"
          ]
        }
      ]
    },
    {
      "cell_type": "code",
      "source": [
        "from sklearn.metrics import confusion_matrix\n",
        "import seaborn as sns\n",
        "import matplotlib.pyplot as plt\n",
        "\n",
        "cm = confusion_matrix(y_test, y_pred)\n",
        "sns.heatmap(cm, annot=True, fmt='d', cmap='Blues', xticklabels=['Predicted 0', 'Predicted 1'], yticklabels=['Actual 0', 'Actual 1'])\n",
        "plt.xlabel('Predicted')\n",
        "plt.ylabel('Actual')\n",
        "plt.show()"
      ],
      "metadata": {
        "colab": {
          "base_uri": "https://localhost:8080/",
          "height": 449
        },
        "id": "TeE_GCT2GxNp",
        "outputId": "351924dc-022e-4897-faf5-3c7ab1687f76"
      },
      "execution_count": null,
      "outputs": [
        {
          "output_type": "display_data",
          "data": {
            "text/plain": [
              "<Figure size 640x480 with 2 Axes>"
            ],
            "image/png": "[encoded data removed]"
          },
          "metadata": {}
        }
      ]
    },
    {
      "cell_type": "markdown",
      "source": [
        "# Decison Tree with Glove"
      ],
      "metadata": {
        "id": "ZPQa6r_TjnFL"
      }
    },
    {
      "cell_type": "code",
      "source": [
        "from sklearn.tree import DecisionTreeClassifier\n",
        "dt_model = DecisionTreeClassifier()\n",
        "dt_model = dt_model.fit(X_train, y_train)\n",
        "# Predict on the test set\n",
        "y_pred = dt_model.predict(X_test)\n",
        "\n",
        "from sklearn.metrics import precision_recall_fscore_support, confusion_matrix\n",
        "\n",
        "# Compute precision, recall, and F1-score for each class\n",
        "precision_class, recall_class, f1_class, support_class = precision_recall_fscore_support(y_test, y_pred, average=None, labels=[0, 1])\n",
        "\n",
        "# Compute confusion matrix\n",
        "conf_matrix = confusion_matrix(y_test, y_pred, labels=[0, 1])\n",
        "\n",
        "# Extract TP, TN, FP, FN for each class\n",
        "TP_0 = conf_matrix[0, 0]\n",
        "FN_0 = conf_matrix[0, 1]\n",
        "FP_0 = conf_matrix[1, 0]\n",
        "TN_0 = conf_matrix[1, 1]\n",
        "\n",
        "TP_1 = conf_matrix[1, 1]\n",
        "FN_1 = conf_matrix[1, 0]\n",
        "FP_1 = conf_matrix[0, 1]\n",
        "TN_1 = conf_matrix[0, 0]\n",
        "\n",
        "# Calculate overall accuracy\n",
        "accuracy = (TP_0 + TP_1) / (TP_0 + TP_1 + FP_0 + FP_1 + FN_0 + FN_1)\n",
        "\n",
        "print(f'Overall Accuracy: {accuracy}')\n",
        "print(f'Class 0 - Precision: {precision_class[0]}, Recall: {recall_class[0]}, F1-score: {f1_class[0]}, Support: {support_class[0]}')\n",
        "print(f'Class 1 - Precision: {precision_class[1]}, Recall: {recall_class[1]}, F1-score: {f1_class[1]}, Support: {support_class[1]}')"
      ],
      "metadata": {
        "colab": {
          "base_uri": "https://localhost:8080/"
        },
        "id": "gfziVm78jkdQ",
        "outputId": "900dfe59-cd5e-4c95-8ec1-8896c7b4abac"
      },
      "execution_count": null,
      "outputs": [
        {
          "output_type": "stream",
          "name": "stdout",
          "text": [
            "Overall Accuracy: 0.5737618545837724\n",
            "Class 0 - Precision: 0.7299465240641712, Recall: 0.7294589178356713, F1-score: 0.7297026394921483, Support: 1497\n",
            "Class 1 - Precision: 0.7283702213279678, Recall: 0.7288590604026846, F1-score: 0.7286145588728614, Support: 1490\n"
          ]
        }
      ]
    },
    {
      "cell_type": "markdown",
      "source": [
        "## Overall"
      ],
      "metadata": {
        "id": "6HUcTwgXcegX"
      }
    },
    {
      "cell_type": "code",
      "source": [
        "from sklearn.tree import DecisionTreeClassifier\n",
        "from sklearn.metrics import accuracy_score, precision_recall_fscore_support\n",
        "\n",
        "# Train the Decision Tree model\n",
        "dt_model = DecisionTreeClassifier()\n",
        "dt_model.fit(X_train, y_train)\n",
        "\n",
        "# Predict on the test set\n",
        "y_pred = dt_model.predict(X_test)\n",
        "\n",
        "# Compute overall accuracy\n",
        "overall_accuracy = accuracy_score(y_test, y_pred)\n",
        "\n",
        "# Compute overall precision, recall, and F1-score (macro-average gives equal weight to both classes)\n",
        "precision, recall, f1, _ = precision_recall_fscore_support(y_test, y_pred, average='macro')\n",
        "\n",
        "# Print overall metrics\n",
        "print(f'Overall Precision: {precision}')\n",
        "print(f'Overall Recall: {recall}')\n",
        "print(f'Overall F1-score: {f1}')\n",
        "print(f'Overall Accuracy: {overall_accuracy}')"
      ],
      "metadata": {
        "id": "8OB3urrwddK8",
        "colab": {
          "base_uri": "https://localhost:8080/"
        },
        "outputId": "2bbba003-ad63-45f2-9948-86485616999b"
      },
      "execution_count": null,
      "outputs": [
        {
          "output_type": "stream",
          "name": "stdout",
          "text": [
            "Overall Precision: 0.7291582418823934\n",
            "Overall Recall: 0.7291574199853846\n",
            "Overall F1-score: 0.7291577492082866\n",
            "Overall Accuracy: 0.7291596919986608\n"
          ]
        }
      ]
    },
    {
      "cell_type": "code",
      "source": [
        "from sklearn.metrics import confusion_matrix\n",
        "import seaborn as sns\n",
        "import matplotlib.pyplot as plt\n",
        "\n",
        "cm = confusion_matrix(y_test, y_pred)\n",
        "sns.heatmap(cm, annot=True, fmt='d', cmap='Blues', xticklabels=['Predicted 0', 'Predicted 1'], yticklabels=['Actual 0', 'Actual 1'])\n",
        "plt.xlabel('Predicted')\n",
        "plt.ylabel('Actual')\n",
        "plt.show()"
      ],
      "metadata": {
        "colab": {
          "base_uri": "https://localhost:8080/",
          "height": 449
        },
        "id": "St_rYm9TGwcR",
        "outputId": "e589c197-7517-4870-8b51-2e683d300184"
      },
      "execution_count": null,
      "outputs": [
        {
          "output_type": "display_data",
          "data": {
            "text/plain": [
              "<Figure size 640x480 with 2 Axes>"
            ],
            "image/png": "[encoded data removed]"
          },
          "metadata": {}
        }
      ]
    },
    {
      "cell_type": "markdown",
      "source": [
        "# Logistic Regression with Glove"
      ],
      "metadata": {
        "id": "7SHw3XMej8TF"
      }
    },
    {
      "cell_type": "code",
      "source": [
        "from sklearn.linear_model import LogisticRegression\n",
        "from sklearn.metrics import precision_recall_fscore_support, confusion_matrix\n",
        "\n",
        "lg_model = LogisticRegression(C=5, penalty='l1', solver='liblinear')\n",
        "lg_model = lg_model.fit(X_train, y_train)\n",
        "\n",
        "# Predict on the test set\n",
        "y_pred = lg_model.predict(X_test)\n",
        "\n",
        "\n",
        "# Compute precision, recall, and F1-score for each class\n",
        "precision_class, recall_class, f1_class, support_class = precision_recall_fscore_support(y_test, y_pred, average=None, labels=[0, 1])\n",
        "\n",
        "# Compute confusion matrix\n",
        "conf_matrix = confusion_matrix(y_test, y_pred, labels=[0, 1])\n",
        "\n",
        "# Extract TP, TN, FP, FN for each class\n",
        "TP_0 = conf_matrix[0, 0]\n",
        "FN_0 = conf_matrix[0, 1]\n",
        "FP_0 = conf_matrix[1, 0]\n",
        "TN_0 = conf_matrix[1, 1]\n",
        "\n",
        "TP_1 = conf_matrix[1, 1]\n",
        "FN_1 = conf_matrix[1, 0]\n",
        "FP_1 = conf_matrix[0, 1]\n",
        "TN_1 = conf_matrix[0, 0]\n",
        "\n",
        "# Calculate overall accuracy\n",
        "accuracy = (TP_0 + TP_1) / (TP_0 + TP_1 + FP_0 + FP_1 + FN_0 + FN_1)\n",
        "\n",
        "print(f'Overall Accuracy: {accuracy}')\n",
        "print(f'Class 0 - Precision: {precision_class[0]}, Recall: {recall_class[0]}, F1-score: {f1_class[0]}, Support: {support_class[0]}')\n",
        "print(f'Class 1 - Precision: {precision_class[1]}, Recall: {recall_class[1]}, F1-score: {f1_class[1]}, Support: {support_class[1]}')"
      ],
      "metadata": {
        "colab": {
          "base_uri": "https://localhost:8080/"
        },
        "id": "5ZTzBkFcj7w5",
        "outputId": "743f3406-b64b-4cfd-d21b-0bc10d07dd6d"
      },
      "execution_count": null,
      "outputs": [
        {
          "output_type": "stream",
          "name": "stdout",
          "text": [
            "Overall Accuracy: 0.799939740885809\n",
            "Class 0 - Precision: 0.885506287227002, Recall: 0.8937875751503006, F1-score: 0.8896276595744681, Support: 1497\n",
            "Class 1 - Precision: 0.8922764227642277, Recall: 0.8838926174496644, F1-score: 0.8880647336480108, Support: 1490\n"
          ]
        }
      ]
    },
    {
      "cell_type": "markdown",
      "source": [
        "## Overall"
      ],
      "metadata": {
        "id": "LONQkvH5cg4B"
      }
    },
    {
      "cell_type": "code",
      "source": [
        "from sklearn.linear_model import LogisticRegression\n",
        "from sklearn.metrics import precision_recall_fscore_support, confusion_matrix, accuracy_score\n",
        "\n",
        "# Train Logistic Regression model\n",
        "lg_model = LogisticRegression(C=5, penalty='l1', solver='liblinear')\n",
        "lg_model.fit(X_train, y_train)\n",
        "\n",
        "# Predict on the test set\n",
        "y_pred = lg_model.predict(X_test)\n",
        "\n",
        "# Compute per-class precision, recall, F1-score\n",
        "precision_class, recall_class, f1_class, support_class = precision_recall_fscore_support(y_test, y_pred, average=None, labels=[0, 1])\n",
        "\n",
        "# Compute overall precision, recall, and F1-score (macro-average)\n",
        "precision_macro = precision_recall_fscore_support(y_test, y_pred, average='macro')[0]\n",
        "recall_macro = precision_recall_fscore_support(y_test, y_pred, average='macro')[1]\n",
        "f1_macro = precision_recall_fscore_support(y_test, y_pred, average='macro')[2]\n",
        "\n",
        "# Compute confusion matrix\n",
        "conf_matrix = confusion_matrix(y_test, y_pred, labels=[0, 1])\n",
        "\n",
        "# Compute overall accuracy\n",
        "overall_accuracy = accuracy_score(y_test, y_pred)\n",
        "\n",
        "# Print results\n",
        "print(f'Overall Precision (Macro-average): {precision_macro}')\n",
        "print(f'Overall Recall (Macro-average): {recall_macro}')\n",
        "print(f'Overall F1-score (Macro-average): {f1_macro}')\n",
        "print(f'Overall Accuracy: {overall_accuracy}')"
      ],
      "metadata": {
        "id": "uEHDeJHpcjJB",
        "colab": {
          "base_uri": "https://localhost:8080/"
        },
        "outputId": "dc143561-958a-47ac-a996-b3c0c40f1f57"
      },
      "execution_count": null,
      "outputs": [
        {
          "output_type": "stream",
          "name": "stdout",
          "text": [
            "Overall Precision (Macro-average): 0.8888913549956148\n",
            "Overall Recall (Macro-average): 0.8888400962999825\n",
            "Overall F1-score (Macro-average): 0.8888461966112394\n",
            "Overall Accuracy: 0.8888516906595246\n"
          ]
        }
      ]
    },
    {
      "cell_type": "code",
      "source": [
        "from sklearn.metrics import confusion_matrix\n",
        "import seaborn as sns\n",
        "import matplotlib.pyplot as plt\n",
        "\n",
        "cm = confusion_matrix(y_test, y_pred)\n",
        "sns.heatmap(cm, annot=True, fmt='d', cmap='Blues', xticklabels=['Predicted 0', 'Predicted 1'], yticklabels=['Actual 0', 'Actual 1'])\n",
        "plt.xlabel('Predicted')\n",
        "plt.ylabel('Actual')\n",
        "plt.show()"
      ],
      "metadata": {
        "colab": {
          "base_uri": "https://localhost:8080/",
          "height": 449
        },
        "id": "G5TaQb0OGvlp",
        "outputId": "f390b351-59f1-4071-d4d5-6d7ee2d50887"
      },
      "execution_count": null,
      "outputs": [
        {
          "output_type": "display_data",
          "data": {
            "text/plain": [
              "<Figure size 640x480 with 2 Axes>"
            ],
            "image/png": "[encoded data removed]"
          },
          "metadata": {}
        }
      ]
    },
    {
      "cell_type": "markdown",
      "source": [
        "# SVM with GloVe"
      ],
      "metadata": {
        "id": "9f6Gq03gh6Qu"
      }
    },
    {
      "cell_type": "code",
      "source": [
        "# Train the SVM model\n",
        "from sklearn.metrics import precision_recall_fscore_support, confusion_matrix\n",
        "svm_model = SVC(kernel='linear')\n",
        "svm_model.fit(X_train, y_train)\n",
        "# Predict and evaluate\n",
        "y_pred = svm_model.predict(X_test)\n",
        "\n",
        "\n",
        "# Compute precision, recall, and F1-score for each class\n",
        "precision_class, recall_class, f1_class, support_class = precision_recall_fscore_support(y_test, y_pred, average=None, labels=[0, 1])\n",
        "\n",
        "# Compute confusion matrix\n",
        "conf_matrix = confusion_matrix(y_test, y_pred, labels=[0, 1])\n",
        "\n",
        "# Extract TP, TN, FP, FN for each class\n",
        "TP_0 = conf_matrix[0, 0]\n",
        "FN_0 = conf_matrix[0, 1]\n",
        "FP_0 = conf_matrix[1, 0]\n",
        "TN_0 = conf_matrix[1, 1]\n",
        "\n",
        "TP_1 = conf_matrix[1, 1]\n",
        "FN_1 = conf_matrix[1, 0]\n",
        "FP_1 = conf_matrix[0, 1]\n",
        "TN_1 = conf_matrix[0, 0]\n",
        "\n",
        "# Calculate overall accuracy\n",
        "accuracy = (TP_0 + TP_1) / (TP_0 + TP_1 + FP_0 + FP_1 + FN_0 + FN_1)\n",
        "\n",
        "print(f'Overall Accuracy: {accuracy}')\n",
        "print(f'Class 0 - Precision: {precision_class[0]}, Recall: {recall_class[0]}, F1-score: {f1_class[0]}, Support: {support_class[0]}')\n",
        "print(f'Class 1 - Precision: {precision_class[1]}, Recall: {recall_class[1]}, F1-score: {f1_class[1]}, Support: {support_class[1]}')"
      ],
      "metadata": {
        "colab": {
          "base_uri": "https://localhost:8080/"
        },
        "id": "M3sDM17EdrnQ",
        "outputId": "ac0b23ac-5f7a-4063-b66b-dd84879c7b43"
      },
      "execution_count": null,
      "outputs": [
        {
          "output_type": "stream",
          "name": "stdout",
          "text": [
            "Overall Accuracy: 0.8070175438596491\n",
            "Class 0 - Precision: 0.8869908015768725, Recall: 0.9018036072144289, F1-score: 0.8943358728055647, Support: 1497\n",
            "Class 1 - Precision: 0.8996587030716724, Recall: 0.8845637583892617, F1-score: 0.8920473773265651, Support: 1490\n"
          ]
        }
      ]
    },
    {
      "cell_type": "markdown",
      "source": [
        "## Overall"
      ],
      "metadata": {
        "id": "3tC0lIo2cktL"
      }
    },
    {
      "cell_type": "code",
      "source": [
        "from sklearn.svm import SVC\n",
        "from sklearn.metrics import precision_recall_fscore_support, confusion_matrix, accuracy_score\n",
        "\n",
        "# Train the SVM model\n",
        "svm_model = SVC(kernel='linear')\n",
        "svm_model.fit(X_train, y_train)\n",
        "\n",
        "# Predict on the test set\n",
        "y_pred = svm_model.predict(X_test)\n",
        "\n",
        "# Compute per-class precision, recall, F1-score\n",
        "precision_class, recall_class, f1_class, support_class = precision_recall_fscore_support(y_test, y_pred, average=None, labels=[0, 1])\n",
        "\n",
        "# Compute overall precision, recall, and F1-score (macro-average)\n",
        "precision_macro = precision_recall_fscore_support(y_test, y_pred, average='macro')[0]\n",
        "recall_macro = precision_recall_fscore_support(y_test, y_pred, average='macro')[1]\n",
        "f1_macro = precision_recall_fscore_support(y_test, y_pred, average='macro')[2]\n",
        "\n",
        "# Compute confusion matrix\n",
        "conf_matrix = confusion_matrix(y_test, y_pred, labels=[0, 1])\n",
        "\n",
        "# Compute overall accuracy\n",
        "overall_accuracy = accuracy_score(y_test, y_pred)\n",
        "\n",
        "# Print results\n",
        "print(f'Overall Precision (Macro-average): {precision_macro}')\n",
        "print(f'Overall Recall (Macro-average): {recall_macro}')\n",
        "print(f'Overall F1-score (Macro-average): {f1_macro}')\n",
        "print(f'Overall Accuracy: {overall_accuracy}')"
      ],
      "metadata": {
        "id": "W-Z62lPncnUL",
        "colab": {
          "base_uri": "https://localhost:8080/"
        },
        "outputId": "9666bda7-07cc-4eff-e0e0-c629c3ff89a4"
      },
      "execution_count": null,
      "outputs": [
        {
          "output_type": "stream",
          "name": "stdout",
          "text": [
            "Overall Precision (Macro-average): 0.8933247523242724\n",
            "Overall Recall (Macro-average): 0.8931836828018453\n",
            "Overall F1-score (Macro-average): 0.893191625066065\n",
            "Overall Accuracy: 0.8932038834951457\n"
          ]
        }
      ]
    },
    {
      "cell_type": "code",
      "source": [
        "from sklearn.metrics import confusion_matrix\n",
        "import seaborn as sns\n",
        "import matplotlib.pyplot as plt\n",
        "\n",
        "cm = confusion_matrix(y_test, y_pred)\n",
        "sns.heatmap(cm, annot=True, fmt='d', cmap='Blues', xticklabels=['Predicted 0', 'Predicted 1'], yticklabels=['Actual 0', 'Actual 1'])\n",
        "plt.xlabel('Predicted')\n",
        "plt.ylabel('Actual')\n",
        "plt.show()"
      ],
      "metadata": {
        "id": "oF-LB7flGupq",
        "colab": {
          "base_uri": "https://localhost:8080/",
          "height": 449
        },
        "outputId": "81c40acc-7c47-4cda-eee9-fe17608088f9"
      },
      "execution_count": null,
      "outputs": [
        {
          "output_type": "display_data",
          "data": {
            "text/plain": [
              "<Figure size 640x480 with 2 Axes>"
            ],
            "image/png": "[encoded data removed]"
          },
          "metadata": {}
        }
      ]
    },
    {
      "cell_type": "code",
      "source": [],
      "metadata": {
        "id": "QVxN34Ivdrew"
      },
      "execution_count": null,
      "outputs": []
    }
  ]
}