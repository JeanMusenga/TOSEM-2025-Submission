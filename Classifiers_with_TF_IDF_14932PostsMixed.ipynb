{
  "cells": [
    {
      "cell_type": "markdown",
      "metadata": {
        "id": "view-in-github",
        "colab_type": "text"
      },
      "source": [
        "<a href=\"https://colab.research.google.com/github/JeanMusenga/TOSEM-2025-Submission/blob/main/Classifiers_with_TF_IDF_14932PostsMixed.ipynb\" target=\"_parent\"><img src=\"https://colab.research.google.com/assets/colab-badge.svg\" alt=\"Open In Colab\"/></a>"
      ]
    },
    {
      "cell_type": "markdown",
      "metadata": {
        "id": "Izfk2EHVhMFC"
      },
      "source": [
        "#What is the difference between Word2Vec and TF-IDF vectorizer?\n",
        "Word2Vec vs. BoW and TF-IDF: Word2Vec is a neural network-based technique that learns continuous word embeddings, capturing the semantic relationships between words"
      ]
    },
    {
      "cell_type": "code",
      "execution_count": null,
      "metadata": {
        "id": "YJAzH3BbSb4W"
      },
      "outputs": [],
      "source": [
        "import pandas as pd\n",
        "import numpy as np\n",
        "from matplotlib import pyplot as plt\n",
        "import nltk\n",
        "import gensim\n",
        "from nltk.corpus import stopwords\n",
        "from nltk.tokenize import word_tokenize\n",
        "from spacy.tokenizer import Tokenizer\n",
        "from sklearn.model_selection import train_test_split\n",
        "from sklearn.feature_extraction.text import TfidfVectorizer\n",
        "from nltk.stem import WordNetLemmatizer\n",
        "import string\n",
        "\n",
        "RANDOM_SEED = 42 # Set random seed for reproducibility\n",
        "np.random.seed(RANDOM_SEED)"
      ]
    },
    {
      "cell_type": "code",
      "execution_count": null,
      "metadata": {
        "colab": {
          "base_uri": "https://localhost:8080/"
        },
        "id": "oBS1dT6MIkCO",
        "outputId": "6bbaae05-d84a-44aa-85f8-d1abf183697e"
      },
      "outputs": [
        {
          "output_type": "stream",
          "name": "stderr",
          "text": [
            "[nltk_data] Downloading package punkt to /root/nltk_data...\n",
            "[nltk_data]   Package punkt is already up-to-date!\n",
            "[nltk_data] Downloading package stopwords to /root/nltk_data...\n",
            "[nltk_data]   Package stopwords is already up-to-date!\n",
            "[nltk_data] Downloading package wordnet to /root/nltk_data...\n",
            "[nltk_data]   Package wordnet is already up-to-date!\n",
            "[nltk_data] Downloading package punkt_tab to /root/nltk_data...\n",
            "[nltk_data]   Package punkt_tab is already up-to-date!\n"
          ]
        },
        {
          "output_type": "execute_result",
          "data": {
            "text/plain": [
              "True"
            ]
          },
          "metadata": {},
          "execution_count": 46
        }
      ],
      "source": [
        "# Download necessary NLTK data\n",
        "nltk.download('punkt')\n",
        "nltk.download('stopwords')\n",
        "nltk.download('wordnet')\n",
        "nltk.download('punkt_tab')"
      ]
    },
    {
      "cell_type": "code",
      "source": [
        "dataset=pd.read_excel('14932_ARPs_and_Programming_Posts.xlsx')"
      ],
      "metadata": {
        "id": "-yZ7mX9Z1cpo"
      },
      "execution_count": null,
      "outputs": []
    },
    {
      "cell_type": "markdown",
      "metadata": {
        "id": "9gXEj3UOXcw0"
      },
      "source": [
        "# Tokenization"
      ]
    },
    {
      "cell_type": "code",
      "execution_count": null,
      "metadata": {
        "colab": {
          "base_uri": "https://localhost:8080/"
        },
        "id": "IoNUl_H92PYm",
        "outputId": "4bff8ea2-219e-4a10-eb48-ab0cb656a4f1"
      },
      "outputs": [
        {
          "output_type": "stream",
          "name": "stdout",
          "text": [
            "Label\n",
            "0    7466\n",
            "1    7466\n",
            "Name: count, dtype: int64\n"
          ]
        }
      ],
      "source": [
        "class_distribution = dataset['Label'].value_counts()\n",
        "print(class_distribution)"
      ]
    },
    {
      "cell_type": "code",
      "source": [
        "import pandas as pd\n",
        "from bs4 import BeautifulSoup\n",
        "\n",
        "# Function to remove HTML tags and replace links, images, code snippets, and tables with placeholders\n",
        "def clean_html(text):\n",
        "    if not isinstance(text, str):\n",
        "        return text\n",
        "\n",
        "    soup = BeautifulSoup(text, \"html.parser\")\n",
        "\n",
        "    # Replace all links with '[external-link]'\n",
        "    for a in soup.find_all('a'):\n",
        "        a.replace_with('[external-link]')\n",
        "\n",
        "    # Replace all images with '[figure]'\n",
        "    for img in soup.find_all('img'):\n",
        "        img.replace_with('[figure]')\n",
        "\n",
        "    # Replace all code blocks with '[code-snippet]'\n",
        "    for code in soup.find_all('code'):  # Fixed this line\n",
        "        code.replace_with('[code-snippet]')\n",
        "\n",
        "    # Replace all tables with '[table]'\n",
        "    for table in soup.find_all('table'):\n",
        "        table.replace_with('[table]')\n",
        "\n",
        "    # Get the text without any remaining HTML tags\n",
        "    clean_text = soup.get_text()\n",
        "\n",
        "    return clean_text\n",
        "\n",
        "# Load your DataFrame (assuming df is already defined)\n",
        "# df = pd.read_csv('your_file.csv')  # Uncomment if loading from a file\n",
        "\n",
        "# Apply the function to 'Question_body' column\n",
        "dataset['Question_body_cleaned'] = dataset['Question_body'].apply(clean_html)\n",
        "\n",
        "\n",
        "# Print sample cleaned data\n",
        "print(dataset[['Question_body', 'Question_body_cleaned']].head())\n"
      ],
      "metadata": {
        "id": "z7-gEn0zmpVb",
        "colab": {
          "base_uri": "https://localhost:8080/"
        },
        "outputId": "4f9df66e-7fa8-4609-c2ef-87cac832ce89"
      },
      "execution_count": null,
      "outputs": [
        {
          "output_type": "stream",
          "name": "stdout",
          "text": [
            "                                       Question_body  \\\n",
            "0  <p>When deploying a Windows EC2 instance with ...   \n",
            "1  I'm pretty new to my company (2 weeks) and we'...   \n",
            "2  <p>I am trying to figure out how to get <code>...   \n",
            "3  Say you have an application divided into 3-tie...   \n",
            "4  <p>I am trying to use the circuit breaker patt...   \n",
            "\n",
            "                               Question_body_cleaned  \n",
            "0  When deploying a Windows EC2 instance with Ter...  \n",
            "1  I'm pretty new to my company (2 weeks) and we'...  \n",
            "2  I am trying to figure out how to get [code-sni...  \n",
            "3  Say you have an application divided into 3-tie...  \n",
            "4  I am trying to use the circuit breaker pattern...  \n"
          ]
        }
      ]
    },
    {
      "cell_type": "markdown",
      "source": [
        "## Save the cleaned dataset"
      ],
      "metadata": {
        "id": "JCdpy7pSE5EV"
      }
    },
    {
      "cell_type": "code",
      "source": [
        "# Save the cleaned dataset as an Excel file\n",
        "dataset.to_excel('cleaned_14932_ARPs_and_Programming_Posts.xlsx', index=False, engine='openpyxl')"
      ],
      "metadata": {
        "id": "mMTy_BGR0R1J"
      },
      "execution_count": null,
      "outputs": []
    },
    {
      "cell_type": "markdown",
      "source": [
        "## lemmatizer, Remove stopwords, etc."
      ],
      "metadata": {
        "id": "nHb5lsJT2ALZ"
      }
    },
    {
      "cell_type": "code",
      "execution_count": null,
      "metadata": {
        "id": "5qmYvgr1Xjt0"
      },
      "outputs": [],
      "source": [
        "# Text preprocessing\n",
        "stop_words = set(stopwords.words('english'))\n",
        "lemmatizer = WordNetLemmatizer()\n",
        "\n",
        "def preprocess_text(text):\n",
        "    # Ensure the text is a string\n",
        "    if not isinstance(text, str):\n",
        "        text = str(text)\n",
        "\n",
        "    # Tokenize text\n",
        "    tokens = word_tokenize(text)\n",
        "    tokens = [word.lower() for word in tokens if word.isalpha()]  # Remove non-alphabetic tokens\n",
        "    tokens = [word for word in tokens if word not in stop_words]  # Remove stopwords\n",
        "    lemmatized = [lemmatizer.lemmatize(word) for word in tokens]  # Lemmatize words\n",
        "    return ' '.join(lemmatized)\n",
        "\n",
        "\n",
        "# Ensure all values in 'Question_body' are strings and handle NaNs and # Convert 'Question_body' to string (to avoid NaN issues)\n",
        "dataset['Question_body_cleaned'] = dataset['Question_body_cleaned'].fillna('').astype(str)\n",
        "\n",
        "# Apply the preprocessing function\n",
        "dataset['Question_body_preprocessed_tf_idf'] = dataset['Question_body_cleaned'].apply(preprocess_text)\n"
      ]
    },
    {
      "cell_type": "markdown",
      "source": [
        "## Save processed dataset"
      ],
      "metadata": {
        "id": "aftwxlWc2NQf"
      }
    },
    {
      "cell_type": "code",
      "execution_count": null,
      "metadata": {
        "id": "9-ftu6Y2UfLY"
      },
      "outputs": [],
      "source": [
        "# Save processed dataset\n",
        "dataset.to_excel('Preprocessed_14932_ARPs_and_Programming_Posts.xlsx', index=False)\n",
        "\n",
        "dataset.head()"
      ]
    },
    {
      "cell_type": "markdown",
      "metadata": {
        "id": "BVYjqFMWznsP"
      },
      "source": [
        "# Split dataset"
      ]
    },
    {
      "cell_type": "code",
      "execution_count": null,
      "metadata": {
        "id": "BGBSvOcvSb6p"
      },
      "outputs": [],
      "source": [
        "x = dataset['Question_body_preprocessed_tf_idf']\n",
        "y = dataset['Label']\n",
        "\n",
        "# Split into training and test sets\n",
        "X_train, X_test, y_train, y_test = train_test_split(x, y, test_size=0.2, random_state=125)\n"
      ]
    },
    {
      "cell_type": "markdown",
      "metadata": {
        "id": "3_j-xEaGUzCO"
      },
      "source": [
        "# Features Engineering with TF-IDF"
      ]
    },
    {
      "cell_type": "code",
      "execution_count": null,
      "metadata": {
        "id": "fWrfXh8JSfQO"
      },
      "outputs": [],
      "source": [
        "# Initialize TF-IDF vectorizer\n",
        "tf_idf_vector = TfidfVectorizer(min_df=2).fit(X_train)\n",
        "\n",
        "# Transform training and test data\n",
        "X_train_vect_tf_idf = tf_idf_vector.transform(X_train).toarray()\n",
        "X_test_vect_tf_idf = tf_idf_vector.transform(X_test).toarray()\n"
      ]
    },
    {
      "cell_type": "markdown",
      "metadata": {
        "id": "mJYg9gHFSjg6"
      },
      "source": [
        "## Save the TF-IDF embeddings for the entire dataset"
      ]
    },
    {
      "cell_type": "code",
      "execution_count": null,
      "metadata": {
        "id": "eXbbff_ySmke"
      },
      "outputs": [],
      "source": [
        "# Save the TF-IDF embeddings for the entire dataset\n",
        "embeddings = tf_idf_vector.transform(df['Question_body_preprocessed_tf_idf']).toarray()\n",
        "\n",
        "# Create a new DataFrame for the embeddings\n",
        "embeddings_df = pd.DataFrame(embeddings, columns=tf_idf_vector.get_feature_names_out())\n",
        "\n",
        "\n",
        "# Save the embeddings to an Excel file\n",
        "embeddings_df.to_excel('tfidf_embeddings.xlsx', index=False)\n",
        "\n",
        "# Print confirmation\n",
        "print(\"TF-IDF embeddings saved to 'tfidf_embeddings.xlsx'.\")"
      ]
    },
    {
      "cell_type": "markdown",
      "metadata": {
        "id": "Ce99DLK9Uoak"
      },
      "source": [
        "# NB_TF-IDF"
      ]
    },
    {
      "cell_type": "code",
      "execution_count": null,
      "metadata": {
        "id": "MLslns-AIoE1",
        "colab": {
          "base_uri": "https://localhost:8080/"
        },
        "outputId": "96110b96-75fb-451f-da71-caa51211e520"
      },
      "outputs": [
        {
          "output_type": "stream",
          "name": "stdout",
          "text": [
            "Overall Accuracy: 0.7854034147974557\n",
            "Class 0 - Precision: 0.7476580796252927, Recall: 0.8587760591795561, Accuracy: 0.7854034147974557, F1-score: 0.7993740219092331\n",
            "Class 1 - Precision: 0.8358092259577795, Recall: 0.7126666666666667, Accuracy: 0.7854034147974557, F1-score: 0.7693414897445124\n"
          ]
        }
      ],
      "source": [
        "from sklearn.naive_bayes import GaussianNB\n",
        "from sklearn.metrics import classification_report\n",
        "#nb_model = GaussianNB()\n",
        "nb_model=GaussianNB(\n",
        "    priors=None,      # No predefined class priors; computed from the data\n",
        "    var_smoothing=1e-9 # Small value added to variances for numerical stability\n",
        ")\n",
        "nb_model = nb_model.fit(X_train_vect_tf_idf, y_train)\n",
        "\n",
        "\n",
        "# Predict on the test set\n",
        "y_pred = nb_model.predict(X_test_vect_tf_idf)\n",
        "\n",
        "from sklearn.metrics import precision_recall_fscore_support, accuracy_score, confusion_matrix\n",
        "\n",
        "# Compute metrics for each class\n",
        "precision_class, recall_class, f1_class, support_class = precision_recall_fscore_support(y_test, y_pred, average=None, labels=[0, 1])\n",
        "\n",
        "# Compute confusion matrix\n",
        "conf_matrix = confusion_matrix(y_test, y_pred, labels=[0, 1])\n",
        "\n",
        "# Extract TP, TN, FP, FN for each class\n",
        "TP_0, FN_0 = conf_matrix[0, 0], conf_matrix[0, 1]\n",
        "FP_0, TN_0 = conf_matrix[1, 0], conf_matrix[1, 1]\n",
        "\n",
        "TP_1, FN_1 = conf_matrix[1, 1], conf_matrix[1, 0]\n",
        "FP_1, TN_1 = conf_matrix[0, 1], conf_matrix[0, 0]\n",
        "\n",
        "# Calculate accuracy for each class\n",
        "accuracy_class_0 = (TP_0 + TN_0) / (TP_0 + TN_0 + FP_0 + FN_0)\n",
        "accuracy_class_1 = (TP_1 + TN_1) / (TP_1 + TN_1 + FP_1 + FN_1)\n",
        "\n",
        "# Calculate overall accuracy\n",
        "overall_accuracy = accuracy_score(y_test, y_pred)\n",
        "\n",
        "print(f'Overall Accuracy: {overall_accuracy}')\n",
        "\n",
        "print(f'Class 0 - Precision: {precision_class[0]}, Recall: {recall_class[0]}, Accuracy: {accuracy_class_0}, F1-score: {f1_class[0]}')\n",
        "print(f'Class 1 - Precision: {precision_class[1]}, Recall: {recall_class[1]}, Accuracy: {accuracy_class_1}, F1-score: {f1_class[1]}')\n"
      ]
    },
    {
      "cell_type": "markdown",
      "source": [
        "### Overall-NB"
      ],
      "metadata": {
        "id": "R93sqG6uQZ9g"
      }
    },
    {
      "cell_type": "code",
      "source": [
        "from sklearn.naive_bayes import GaussianNB\n",
        "from sklearn.metrics import precision_recall_fscore_support, accuracy_score\n",
        "\n",
        "# Train Naive Bayes model\n",
        "#nb_model = GaussianNB()\n",
        "nb_model=GaussianNB(\n",
        "    priors=None,      # No predefined class priors; computed from the data\n",
        "    var_smoothing=1e-9 # Small value added to variances for numerical stability\n",
        ")\n",
        "\n",
        "nb_model = nb_model.fit(X_train_vect_tf_idf, y_train)\n",
        "\n",
        "# Predict on the test set\n",
        "y_pred = nb_model.predict(X_test_vect_tf_idf)\n",
        "\n",
        "# Compute overall metrics (precision, recall, f1-score) using 'binary' for 2-class problem\n",
        "precision, recall, f1, _ = precision_recall_fscore_support(y_test, y_pred, average='binary')  # Use 'binary' for 2-class problem\n",
        "\n",
        "# Compute overall accuracy\n",
        "overall_accuracy = accuracy_score(y_test, y_pred)\n",
        "\n",
        "# Print the overall metrics\n",
        "print(f'Overall Precision: {precision}')\n",
        "print(f'Overall Recall: {recall}')\n",
        "print(f'Overall F1-score: {f1}')\n",
        "print(f'Overall Accuracy: {overall_accuracy}')\n"
      ],
      "metadata": {
        "colab": {
          "base_uri": "https://localhost:8080/"
        },
        "id": "4D5VN8YsQd__",
        "outputId": "3bb77c68-a1d3-4a59-8924-abacf04ee384"
      },
      "execution_count": null,
      "outputs": [
        {
          "output_type": "stream",
          "name": "stdout",
          "text": [
            "Overall Precision: 0.8358092259577795\n",
            "Overall Recall: 0.7126666666666667\n",
            "Overall F1-score: 0.7693414897445124\n",
            "Overall Accuracy: 0.7854034147974557\n"
          ]
        }
      ]
    },
    {
      "cell_type": "markdown",
      "source": [
        "## Confusion_Matrix_NB"
      ],
      "metadata": {
        "id": "WigC21NXMfNf"
      }
    },
    {
      "cell_type": "code",
      "execution_count": null,
      "metadata": {
        "id": "M2Tsf87W_SHa",
        "colab": {
          "base_uri": "https://localhost:8080/",
          "height": 449
        },
        "outputId": "374dd46f-5223-490f-a3ff-66e75c8675ea"
      },
      "outputs": [
        {
          "output_type": "display_data",
          "data": {
            "text/plain": [
              "<Figure size 640x480 with 2 Axes>"
            ],
            "image/png": "[encoded data removed]"
          },
          "metadata": {}
        }
      ],
      "source": [
        "from sklearn.metrics import confusion_matrix\n",
        "import seaborn as sns\n",
        "import matplotlib.pyplot as plt\n",
        "\n",
        "cm = confusion_matrix(y_test, y_pred)\n",
        "sns.heatmap(cm, annot=True, fmt='d', cmap='BrBG', xticklabels=['Predicted 0', 'Predicted 1'], yticklabels=['Actual 0', 'Actual 1'])\n",
        "plt.xlabel('Predicted')\n",
        "plt.ylabel('Actual')\n",
        "plt.show()"
      ]
    },
    {
      "cell_type": "markdown",
      "metadata": {
        "id": "pco9uZ_jYCIu"
      },
      "source": [
        "# kNN_TF-IDF"
      ]
    },
    {
      "cell_type": "markdown",
      "source": [
        "## Normal Performance Evaluation for kNN"
      ],
      "metadata": {
        "id": "biQRiJQ0Knq7"
      }
    },
    {
      "cell_type": "code",
      "execution_count": null,
      "metadata": {
        "id": "J2w4IuCKJZZk",
        "colab": {
          "base_uri": "https://localhost:8080/"
        },
        "outputId": "a860714e-f6da-4647-ea9d-c8758e51fe15"
      },
      "outputs": [
        {
          "output_type": "stream",
          "name": "stdout",
          "text": [
            "Overall Accuracy: 0.5323066622028791\n",
            "Class 0 - Precision: 0.5158116654954322, Recall: 0.9872225958305313, Accuracy: 0.5323066622028791, F1-score: 0.6775905838910685\n",
            "Class 1 - Precision: 0.8652482269503546, Recall: 0.08133333333333333, Accuracy: 0.5323066622028791, F1-score: 0.14868982327848873\n"
          ]
        }
      ],
      "source": [
        "from sklearn.neighbors import KNeighborsClassifier\n",
        "from sklearn.metrics import classification_report\n",
        "\n",
        "#knn_model = KNeighborsClassifier(n_neighbors=1)\n",
        "knn_model=KNeighborsClassifier(\n",
        "    n_neighbors=1,      # Number of neighbors to consider (default is 5, but set to 1 in your case)\n",
        "    weights='uniform',  # All neighbors have equal weight ('distance' would weigh closer neighbors more)\n",
        "    algorithm='auto',   # Chooses the best algorithm based on data ('ball_tree', 'kd_tree', or 'brute' can be set manually)\n",
        "    leaf_size=30,       # Affects 'ball_tree' and 'kd_tree' algorithms (ignored for 'brute')\n",
        "    p=2,                # Power parameter for Minkowski distance (p=2 corresponds to Euclidean distance, p=1 is Manhattan)\n",
        "    metric='minkowski', # Default distance metric (with p=2, this is Euclidean distance)\n",
        "    metric_params=None, # No additional parameters for the metric\n",
        "    n_jobs=None         # No parallel processing (set to -1 to use all CPU cores)\n",
        ")\n",
        "\n",
        "knn_model.fit(X_train_vect_tf_idf, y_train)\n",
        "\n",
        "\n",
        "# Predict on the test set\n",
        "y_pred = knn_model.predict(X_test_vect_tf_idf)\n",
        "\n",
        "from sklearn.metrics import precision_recall_fscore_support, accuracy_score, confusion_matrix\n",
        "\n",
        "# Compute metrics for each class\n",
        "precision_class, recall_class, f1_class, support_class = precision_recall_fscore_support(y_test, y_pred, average=None, labels=[0, 1])\n",
        "\n",
        "# Compute confusion matrix\n",
        "conf_matrix = confusion_matrix(y_test, y_pred, labels=[0, 1])\n",
        "\n",
        "# Extract TP, TN, FP, FN for each class\n",
        "TP_0, FN_0 = conf_matrix[0, 0], conf_matrix[0, 1]\n",
        "FP_0, TN_0 = conf_matrix[1, 0], conf_matrix[1, 1]\n",
        "\n",
        "TP_1, FN_1 = conf_matrix[1, 1], conf_matrix[1, 0]\n",
        "FP_1, TN_1 = conf_matrix[0, 1], conf_matrix[0, 0]\n",
        "\n",
        "# Calculate accuracy for each class\n",
        "accuracy_class_0 = (TP_0 + TN_0) / (TP_0 + TN_0 + FP_0 + FN_0)\n",
        "accuracy_class_1 = (TP_1 + TN_1) / (TP_1 + TN_1 + FP_1 + FN_1)\n",
        "\n",
        "# Calculate overall accuracy\n",
        "overall_accuracy = accuracy_score(y_test, y_pred)\n",
        "\n",
        "print(f'Overall Accuracy: {overall_accuracy}')\n",
        "\n",
        "print(f'Class 0 - Precision: {precision_class[0]}, Recall: {recall_class[0]}, Accuracy: {accuracy_class_0}, F1-score: {f1_class[0]}')\n",
        "print(f'Class 1 - Precision: {precision_class[1]}, Recall: {recall_class[1]}, Accuracy: {accuracy_class_1}, F1-score: {f1_class[1]}')\n"
      ]
    },
    {
      "cell_type": "markdown",
      "source": [
        "### Overal- kNN"
      ],
      "metadata": {
        "id": "L8D5WqjAQvxL"
      }
    },
    {
      "cell_type": "code",
      "source": [
        "from sklearn.neighbors import KNeighborsClassifier\n",
        "from sklearn.metrics import precision_recall_fscore_support, accuracy_score, classification_report\n",
        "\n",
        "# Train KNN model\n",
        "#knn_model = KNeighborsClassifier(n_neighbors=1)\n",
        "knn_model=KNeighborsClassifier(\n",
        "    n_neighbors=1,      # Number of neighbors to consider (default is 5, but set to 1 in your case)\n",
        "    weights='uniform',  # All neighbors have equal weight ('distance' would weigh closer neighbors more)\n",
        "    algorithm='auto',   # Chooses the best algorithm based on data ('ball_tree', 'kd_tree', or 'brute' can be set manually)\n",
        "    leaf_size=30,       # Affects 'ball_tree' and 'kd_tree' algorithms (ignored for 'brute')\n",
        "    p=2,                # Power parameter for Minkowski distance (p=2 corresponds to Euclidean distance, p=1 is Manhattan)\n",
        "    metric='minkowski', # Default distance metric (with p=2, this is Euclidean distance)\n",
        "    metric_params=None, # No additional parameters for the metric\n",
        "    n_jobs=None         # No parallel processing (set to -1 to use all CPU cores)\n",
        ")\n",
        "knn_model.fit(X_train_vect_tf_idf, y_train)\n",
        "\n",
        "# Predict on the test set\n",
        "y_pred = knn_model.predict(X_test_vect_tf_idf)\n",
        "\n",
        "# Compute overall metrics (precision, recall, f1-score)\n",
        "precision, recall, f1, _ = precision_recall_fscore_support(y_test, y_pred, average='binary')  # Use 'binary' for 2-class problem\n",
        "\n",
        "# Compute overall accuracy\n",
        "overall_accuracy = accuracy_score(y_test, y_pred)\n",
        "\n",
        "# Print the overall metrics\n",
        "print(f'Overall Precision: {precision}')\n",
        "print(f'Overall Recall: {recall}')\n",
        "print(f'Overall F1-score: {f1}')\n",
        "print(f'Overall Accuracy: {overall_accuracy}')\n"
      ],
      "metadata": {
        "colab": {
          "base_uri": "https://localhost:8080/"
        },
        "id": "nY66rRb5NW9-",
        "outputId": "6757b945-58be-4ca4-cf66-9568b84921e2"
      },
      "execution_count": null,
      "outputs": [
        {
          "output_type": "stream",
          "name": "stdout",
          "text": [
            "Overall Precision: 0.8652482269503546\n",
            "Overall Recall: 0.08133333333333333\n",
            "Overall F1-score: 0.14868982327848873\n",
            "Overall Accuracy: 0.5323066622028791\n"
          ]
        }
      ]
    },
    {
      "cell_type": "markdown",
      "source": [
        "## Matrix_kNN"
      ],
      "metadata": {
        "id": "PnaLkGuEMZTF"
      }
    },
    {
      "cell_type": "code",
      "execution_count": null,
      "metadata": {
        "id": "EbbkpjBj_Ulb",
        "colab": {
          "base_uri": "https://localhost:8080/",
          "height": 449
        },
        "outputId": "0fe875bd-0e3e-42c3-8b7e-bbf6ad3c9641"
      },
      "outputs": [
        {
          "output_type": "display_data",
          "data": {
            "text/plain": [
              "<Figure size 640x480 with 2 Axes>"
            ],
            "image/png": "[encoded data removed]"
          },
          "metadata": {}
        }
      ],
      "source": [
        "from sklearn.metrics import confusion_matrix\n",
        "import seaborn as sns\n",
        "import matplotlib.pyplot as plt\n",
        "\n",
        "cm = confusion_matrix(y_test, y_pred)\n",
        "sns.heatmap(cm, annot=True, fmt='d', cmap='gray', xticklabels=['Predicted 0', 'Predicted 1'], yticklabels=['Actual 0', 'Actual 1'])\n",
        "plt.xlabel('Predicted')\n",
        "plt.ylabel('Actual')\n",
        "plt.show()"
      ]
    },
    {
      "cell_type": "markdown",
      "metadata": {
        "id": "HtfqmxfJYgiL"
      },
      "source": [
        "# DT_TF-IDF"
      ]
    },
    {
      "cell_type": "code",
      "execution_count": null,
      "metadata": {
        "id": "TaHn0kYBLHBz",
        "colab": {
          "base_uri": "https://localhost:8080/"
        },
        "outputId": "90457e07-eb83-47a4-f712-1d25afe44a12"
      },
      "outputs": [
        {
          "output_type": "stream",
          "name": "stdout",
          "text": [
            "Overall Accuracy: 0.8727820555741547\n",
            "Class 0 - Precision: 0.8658294778585591, Recall: 0.8809683927370545, Accuracy: 0.8727820555741547, F1-score: 0.8733333333333333\n",
            "Class 1 - Precision: 0.8799185888738128, Recall: 0.8646666666666667, Accuracy: 0.8727820555741547, F1-score: 0.8722259583053127\n"
          ]
        }
      ],
      "source": [
        "from sklearn.tree import DecisionTreeClassifier\n",
        "from sklearn.metrics import precision_recall_fscore_support, accuracy_score, confusion_matrix\n",
        "#dt_model = DecisionTreeClassifier()\n",
        "dt_model=DecisionTreeClassifier(\n",
        "    criterion='gini',          # Splitting criterion ('gini' for Gini impurity, or 'entropy' for information gain)\n",
        "    splitter='best',           # Chooses the best split at each node ('random' selects a random split)\n",
        "    max_depth=None,            # No depth limit (tree grows until all leaves are pure or min_samples_split is reached)\n",
        "    min_samples_split=2,       # Minimum samples required to split an internal node\n",
        "    min_samples_leaf=1,        # Minimum samples required to be a leaf node\n",
        "    min_weight_fraction_leaf=0.0, # Minimum weighted fraction of total samples required in a leaf node\n",
        "    max_features=None,         # No limit on the number of features considered for the best split\n",
        "    random_state=None,         # No fixed randomness by default\n",
        "    max_leaf_nodes=None,       # No limit on the number of leaf nodes\n",
        "    min_impurity_decrease=0.0, # A node splits if it decreases impurity by at least this amount\n",
        "    class_weight=None,         # No class weighting by default\n",
        "    ccp_alpha=0.0              # Complexity parameter for pruning (0 means no pruning)\n",
        ")\n",
        "\n",
        "dt_model = dt_model.fit(X_train_vect_tf_idf, y_train)\n",
        "\n",
        "\n",
        "# Predict on the test set\n",
        "y_pred = dt_model.predict(X_test_vect_tf_idf)\n",
        "\n",
        "# Compute metrics for each class\n",
        "precision_class, recall_class, f1_class, support_class = precision_recall_fscore_support(y_test, y_pred, average=None, labels=[0, 1])\n",
        "\n",
        "# Compute confusion matrix\n",
        "conf_matrix = confusion_matrix(y_test, y_pred, labels=[0, 1])\n",
        "\n",
        "# Extract TP, TN, FP, FN for each class\n",
        "TP_0, FN_0 = conf_matrix[0, 0], conf_matrix[0, 1]\n",
        "FP_0, TN_0 = conf_matrix[1, 0], conf_matrix[1, 1]\n",
        "\n",
        "TP_1, FN_1 = conf_matrix[1, 1], conf_matrix[1, 0]\n",
        "FP_1, TN_1 = conf_matrix[0, 1], conf_matrix[0, 0]\n",
        "\n",
        "# Calculate accuracy for each class\n",
        "accuracy_class_0 = (TP_0 + TN_0) / (TP_0 + TN_0 + FP_0 + FN_0)\n",
        "accuracy_class_1 = (TP_1 + TN_1) / (TP_1 + TN_1 + FP_1 + FN_1)\n",
        "\n",
        "# Calculate overall accuracy\n",
        "overall_accuracy = accuracy_score(y_test, y_pred)\n",
        "\n",
        "print(f'Overall Accuracy: {overall_accuracy}')\n",
        "\n",
        "print(f'Class 0 - Precision: {precision_class[0]}, Recall: {recall_class[0]}, Accuracy: {accuracy_class_0}, F1-score: {f1_class[0]}')\n",
        "print(f'Class 1 - Precision: {precision_class[1]}, Recall: {recall_class[1]}, Accuracy: {accuracy_class_1}, F1-score: {f1_class[1]}')"
      ]
    },
    {
      "cell_type": "markdown",
      "source": [
        "### Overall- DT"
      ],
      "metadata": {
        "id": "fRCdnq5lRGG6"
      }
    },
    {
      "cell_type": "code",
      "source": [
        "from sklearn.tree import DecisionTreeClassifier\n",
        "from sklearn.metrics import precision_recall_fscore_support, accuracy_score\n",
        "\n",
        "# Train Decision Tree model\n",
        "#dt_model = DecisionTreeClassifier()\n",
        "dt_model=DecisionTreeClassifier(\n",
        "    criterion='gini',          # Splitting criterion ('gini' for Gini impurity, or 'entropy' for information gain)\n",
        "    splitter='best',           # Chooses the best split at each node ('random' selects a random split)\n",
        "    max_depth=None,            # No depth limit (tree grows until all leaves are pure or min_samples_split is reached)\n",
        "    min_samples_split=2,       # Minimum samples required to split an internal node\n",
        "    min_samples_leaf=1,        # Minimum samples required to be a leaf node\n",
        "    min_weight_fraction_leaf=0.0, # Minimum weighted fraction of total samples required in a leaf node\n",
        "    max_features=None,         # No limit on the number of features considered for the best split\n",
        "    random_state=None,         # No fixed randomness by default\n",
        "    max_leaf_nodes=None,       # No limit on the number of leaf nodes\n",
        "    min_impurity_decrease=0.0, # A node splits if it decreases impurity by at least this amount\n",
        "    class_weight=None,         # No class weighting by default\n",
        "    ccp_alpha=0.0              # Complexity parameter for pruning (0 means no pruning)\n",
        ")\n",
        "dt_model = dt_model.fit(X_train_vect_tf_idf, y_train)\n",
        "\n",
        "# Predict on the test set\n",
        "y_pred = dt_model.predict(X_test_vect_tf_idf)\n",
        "\n",
        "# Compute overall metrics (precision, recall, f1-score) using 'binary' for 2-class problem\n",
        "precision, recall, f1, _ = precision_recall_fscore_support(y_test, y_pred, average='binary')  # Use 'binary' for 2-class problem\n",
        "\n",
        "# Compute overall accuracy\n",
        "overall_accuracy = accuracy_score(y_test, y_pred)\n",
        "\n",
        "# Print the overall metrics\n",
        "print(f'Overall Precision: {precision}')\n",
        "print(f'Overall Recall: {recall}')\n",
        "print(f'Overall F1-score: {f1}')\n",
        "print(f'Overall Accuracy: {overall_accuracy}')"
      ],
      "metadata": {
        "colab": {
          "base_uri": "https://localhost:8080/"
        },
        "id": "We-1AHI7RLuu",
        "outputId": "f85c2957-64a9-4d1f-b543-49ce9d6dc823"
      },
      "execution_count": null,
      "outputs": [
        {
          "output_type": "stream",
          "name": "stdout",
          "text": [
            "Overall Precision: 0.8910478834142956\n",
            "Overall Recall: 0.856\n",
            "Overall F1-score: 0.8731723903434206\n",
            "Overall Accuracy: 0.8751255440241045\n"
          ]
        }
      ]
    },
    {
      "cell_type": "markdown",
      "source": [
        "## Matrix_DT"
      ],
      "metadata": {
        "id": "nN8XuTkQMUnU"
      }
    },
    {
      "cell_type": "code",
      "execution_count": null,
      "metadata": {
        "id": "6t8SZCb5_V8N",
        "colab": {
          "base_uri": "https://localhost:8080/",
          "height": 449
        },
        "outputId": "917dfbf5-14dc-4902-d759-ad60647a8201"
      },
      "outputs": [
        {
          "output_type": "display_data",
          "data": {
            "text/plain": [
              "<Figure size 640x480 with 2 Axes>"
            ],
            "image/png": "[encoded data removed]"
          },
          "metadata": {}
        }
      ],
      "source": [
        "from sklearn.metrics import confusion_matrix\n",
        "import seaborn as sns\n",
        "import matplotlib.pyplot as plt\n",
        "\n",
        "cm = confusion_matrix(y_test, y_pred)\n",
        "sns.heatmap(cm, annot=True, fmt='d', cmap='cividis', xticklabels=['Predicted 0', 'Predicted 1'], yticklabels=['Actual 0', 'Actual 1'])\n",
        "plt.xlabel('Predicted')\n",
        "plt.ylabel('Actual')\n",
        "plt.show()"
      ]
    },
    {
      "cell_type": "markdown",
      "metadata": {
        "id": "UNAHupNXYyZv"
      },
      "source": [
        "# LG_TF-IDF"
      ]
    },
    {
      "cell_type": "code",
      "execution_count": null,
      "metadata": {
        "id": "gZvrF3CyLXdE",
        "colab": {
          "base_uri": "https://localhost:8080/"
        },
        "outputId": "157e949e-65c7-4091-b2ee-ae544cfcef99"
      },
      "outputs": [
        {
          "output_type": "stream",
          "name": "stderr",
          "text": [
            "/usr/local/lib/python3.11/dist-packages/sklearn/linear_model/_logistic.py:1247: FutureWarning: 'multi_class' was deprecated in version 1.5 and will be removed in 1.7. From then on, it will always use 'multinomial'. Leave it to its default value to avoid this warning.\n",
            "  warnings.warn(\n"
          ]
        },
        {
          "output_type": "stream",
          "name": "stdout",
          "text": [
            "Overall Accuracy: 0.9357214596585203\n",
            "Class 0 - Precision: 0.9147982062780269, Recall: 0.9603227975790182, Accuracy: 0.9357214596585203, F1-score: 0.937007874015748\n",
            "Class 1 - Precision: 0.958625525946704, Recall: 0.9113333333333333, Accuracy: 0.9357214596585203, F1-score: 0.9343814080656186\n"
          ]
        }
      ],
      "source": [
        "from sklearn.linear_model import LogisticRegression\n",
        "#lg_model = LogisticRegression(C=5, penalty='l1', solver='liblinear')\n",
        "lg_model=LogisticRegression(\n",
        "    penalty='l2',      # Default is L2 regularization (Ridge)\n",
        "    dual=False,        # Dual formulation is only used when `penalty='l2'` and the number of samples > number of features\n",
        "    tol=1e-4,          # Tolerance for stopping criteria\n",
        "    C=1.0,             # Inverse of regularization strength (1.0 means moderate regularization)\n",
        "    fit_intercept=True,# Whether to include an intercept term\n",
        "    intercept_scaling=1, # Only relevant for `solver='liblinear'`\n",
        "    class_weight=None, # No class weighting by default\n",
        "    random_state=None, # No fixed randomness\n",
        "    solver='lbfgs',    # Default solver (good for most cases, but does not support `l1` penalty)\n",
        "    max_iter=100,      # Maximum number of iterations for convergence\n",
        "    multi_class='auto',# Automatically chooses between 'ovr' (one-vs-rest) and 'multinomial'\n",
        "    verbose=0,         # No verbosity (silent mode)\n",
        "    warm_start=False,  # Whether to reuse previous solution for faster convergence\n",
        "    n_jobs=None,       # No parallelization (only relevant for solvers like 'saga' or 'lbfgs')\n",
        "    l1_ratio=None      # Only used if `penalty='elasticnet'`\n",
        ")\n",
        "\n",
        "lg_model = lg_model.fit(X_train_vect_tf_idf, y_train)\n",
        "\n",
        "\n",
        "# Predict on the test set\n",
        "y_pred = lg_model.predict(X_test_vect_tf_idf)\n",
        "\n",
        "from sklearn.metrics import precision_recall_fscore_support, accuracy_score, confusion_matrix\n",
        "\n",
        "# Compute metrics for each class\n",
        "precision_class, recall_class, f1_class, support_class = precision_recall_fscore_support(y_test, y_pred, average=None, labels=[0, 1])\n",
        "\n",
        "# Compute confusion matrix\n",
        "conf_matrix = confusion_matrix(y_test, y_pred, labels=[0, 1])\n",
        "\n",
        "# Extract TP, TN, FP, FN for each class\n",
        "TP_0, FN_0 = conf_matrix[0, 0], conf_matrix[0, 1]\n",
        "FP_0, TN_0 = conf_matrix[1, 0], conf_matrix[1, 1]\n",
        "\n",
        "TP_1, FN_1 = conf_matrix[1, 1], conf_matrix[1, 0]\n",
        "FP_1, TN_1 = conf_matrix[0, 1], conf_matrix[0, 0]\n",
        "\n",
        "# Calculate accuracy for each class\n",
        "accuracy_class_0 = (TP_0 + TN_0) / (TP_0 + TN_0 + FP_0 + FN_0)\n",
        "accuracy_class_1 = (TP_1 + TN_1) / (TP_1 + TN_1 + FP_1 + FN_1)\n",
        "\n",
        "# Calculate overall accuracy\n",
        "overall_accuracy = accuracy_score(y_test, y_pred)\n",
        "\n",
        "print(f'Overall Accuracy: {overall_accuracy}')\n",
        "\n",
        "print(f'Class 0 - Precision: {precision_class[0]}, Recall: {recall_class[0]}, Accuracy: {accuracy_class_0}, F1-score: {f1_class[0]}')\n",
        "print(f'Class 1 - Precision: {precision_class[1]}, Recall: {recall_class[1]}, Accuracy: {accuracy_class_1}, F1-score: {f1_class[1]}')\n"
      ]
    },
    {
      "cell_type": "markdown",
      "source": [
        "### Overall- LG"
      ],
      "metadata": {
        "id": "UqOwuWzXRuRI"
      }
    },
    {
      "cell_type": "code",
      "source": [
        "from sklearn.linear_model import LogisticRegression\n",
        "from sklearn.metrics import precision_recall_fscore_support, accuracy_score\n",
        "\n",
        "# Train Logistic Regression model\n",
        "#lg_model = LogisticRegression(C=5, penalty='l1', solver='liblinear')\n",
        "lg_model=LogisticRegression(\n",
        "    penalty='l2',      # Default is L2 regularization (Ridge)\n",
        "    dual=False,        # Dual formulation is only used when `penalty='l2'` and the number of samples > number of features\n",
        "    tol=1e-4,          # Tolerance for stopping criteria\n",
        "    C=1.0,             # Inverse of regularization strength (1.0 means moderate regularization)\n",
        "    fit_intercept=True,# Whether to include an intercept term\n",
        "    intercept_scaling=1, # Only relevant for `solver='liblinear'`\n",
        "    class_weight=None, # No class weighting by default\n",
        "    random_state=None, # No fixed randomness\n",
        "    solver='lbfgs',    # Default solver (good for most cases, but does not support `l1` penalty)\n",
        "    max_iter=100,      # Maximum number of iterations for convergence\n",
        "    multi_class='auto',# Automatically chooses between 'ovr' (one-vs-rest) and 'multinomial'\n",
        "    verbose=0,         # No verbosity (silent mode)\n",
        "    warm_start=False,  # Whether to reuse previous solution for faster convergence\n",
        "    n_jobs=None,       # No parallelization (only relevant for solvers like 'saga' or 'lbfgs')\n",
        "    l1_ratio=None      # Only used if `penalty='elasticnet'`\n",
        ")\n",
        "lg_model = lg_model.fit(X_train_vect_tf_idf, y_train)\n",
        "\n",
        "# Predict on the test set\n",
        "y_pred = lg_model.predict(X_test_vect_tf_idf)\n",
        "\n",
        "# Compute overall metrics (precision, recall, f1-score) using 'binary' for 2-class problem\n",
        "precision, recall, f1, _ = precision_recall_fscore_support(y_test, y_pred, average='binary')  # Use 'binary' for 2-class problem\n",
        "\n",
        "# Compute overall accuracy\n",
        "overall_accuracy = accuracy_score(y_test, y_pred)\n",
        "\n",
        "# Print the overall metrics\n",
        "print(f'Overall Precision: {precision}')\n",
        "print(f'Overall Recall: {recall}')\n",
        "print(f'Overall F1-score: {f1}')\n",
        "print(f'Overall Accuracy: {overall_accuracy}')"
      ],
      "metadata": {
        "colab": {
          "base_uri": "https://localhost:8080/"
        },
        "id": "CnN8pUZwRxd-",
        "outputId": "a111af65-0633-4c83-d254-0c2a59720b38"
      },
      "execution_count": null,
      "outputs": [
        {
          "output_type": "stream",
          "name": "stderr",
          "text": [
            "/usr/local/lib/python3.11/dist-packages/sklearn/linear_model/_logistic.py:1247: FutureWarning: 'multi_class' was deprecated in version 1.5 and will be removed in 1.7. From then on, it will always use 'multinomial'. Leave it to its default value to avoid this warning.\n",
            "  warnings.warn(\n"
          ]
        },
        {
          "output_type": "stream",
          "name": "stdout",
          "text": [
            "Overall Precision: 0.958625525946704\n",
            "Overall Recall: 0.9113333333333333\n",
            "Overall F1-score: 0.9343814080656186\n",
            "Overall Accuracy: 0.9357214596585203\n"
          ]
        }
      ]
    },
    {
      "cell_type": "markdown",
      "source": [
        "## Matrix_LG"
      ],
      "metadata": {
        "id": "Wl2cCmxqMNe8"
      }
    },
    {
      "cell_type": "code",
      "execution_count": null,
      "metadata": {
        "id": "jmVif6Ol_XLs",
        "colab": {
          "base_uri": "https://localhost:8080/",
          "height": 449
        },
        "outputId": "cc480870-8e1e-4bdc-9b65-9a3f05d0991c"
      },
      "outputs": [
        {
          "output_type": "display_data",
          "data": {
            "text/plain": [
              "<Figure size 640x480 with 2 Axes>"
            ],
            "image/png": "[encoded data removed]"
          },
          "metadata": {}
        }
      ],
      "source": [
        "from sklearn.metrics import confusion_matrix\n",
        "import seaborn as sns\n",
        "import matplotlib.pyplot as plt\n",
        "\n",
        "cm = confusion_matrix(y_test, y_pred)\n",
        "sns.heatmap(cm, annot=True, fmt='d', cmap='Blues', xticklabels=['Predicted PRPs', 'Predicted ARPs'], yticklabels=['Actual PRPs', 'Actual ARPs'])\n",
        "plt.xlabel('Predicted')\n",
        "plt.ylabel('Actual')\n",
        "plt.show()"
      ]
    },
    {
      "cell_type": "markdown",
      "metadata": {
        "id": "RncXwdgDZF4U"
      },
      "source": [
        "# SVM_TF-IDF"
      ]
    },
    {
      "cell_type": "code",
      "execution_count": null,
      "metadata": {
        "id": "2H11qWCYLZg2",
        "colab": {
          "base_uri": "https://localhost:8080/"
        },
        "outputId": "afd270d9-f8c3-45ac-b701-72c2245fd077"
      },
      "outputs": [
        {
          "output_type": "stream",
          "name": "stdout",
          "text": [
            "Overall Accuracy: 0.9347171074656846\n",
            "Class 0 - Precision: 0.9189364461738002, Recall: 0.952925353059852, Accuracy: 0.9347171074656846, F1-score: 0.9356223175965666\n",
            "Class 1 - Precision: 0.9515570934256056, Recall: 0.9166666666666666, Accuracy: 0.9347171074656846, F1-score: 0.933786078098472\n"
          ]
        }
      ],
      "source": [
        "from sklearn.svm import SVC\n",
        "from sklearn.svm import SVC, LinearSVC\n",
        "#svm_model = SVC()\n",
        "#svm_model = LinearSVC()\n",
        "svm_model =LinearSVC(\n",
        "    penalty='l2',       # Uses L2 regularization by default\n",
        "    loss='squared_hinge', # Loss function (squared hinge loss for better optimization)\n",
        "    dual=True,          # Uses dual formulation when n_samples > n_features\n",
        "    tol=1e-4,           # Tolerance for stopping criteria\n",
        "    C=1.0,              # Regularization strength (inverse of lambda)\n",
        "    multi_class='ovr',  # One-vs-Rest (OvR) for multi-class classification\n",
        "    fit_intercept=True, # Includes an intercept term\n",
        "    intercept_scaling=1,# Scaling factor for intercept (only when fit_intercept=True)\n",
        "    class_weight=None,  # No class weighting by default\n",
        "    verbose=0,          # No logging output\n",
        "    random_state=None,  # No fixed randomness\n",
        "    max_iter=1000       # Maximum number of iterations for convergence\n",
        ")\n",
        "\n",
        "svm_model = svm_model.fit(X_train_vect_tf_idf, y_train)\n",
        "\n",
        "# Predict on the test set\n",
        "y_pred = svm_model.predict(X_test_vect_tf_idf)\n",
        "\n",
        "from sklearn.metrics import precision_recall_fscore_support, accuracy_score, confusion_matrix\n",
        "\n",
        "# Compute metrics for each class\n",
        "precision_class, recall_class, f1_class, support_class = precision_recall_fscore_support(y_test, y_pred, average=None, labels=[0, 1])\n",
        "\n",
        "# Compute confusion matrix\n",
        "conf_matrix = confusion_matrix(y_test, y_pred, labels=[0, 1])\n",
        "\n",
        "# Extract TP, TN, FP, FN for each class\n",
        "TP_0, FN_0 = conf_matrix[0, 0], conf_matrix[0, 1]\n",
        "FP_0, TN_0 = conf_matrix[1, 0], conf_matrix[1, 1]\n",
        "\n",
        "TP_1, FN_1 = conf_matrix[1, 1], conf_matrix[1, 0]\n",
        "FP_1, TN_1 = conf_matrix[0, 1], conf_matrix[0, 0]\n",
        "\n",
        "# Calculate accuracy for each class\n",
        "accuracy_class_0 = (TP_0 + TN_0) / (TP_0 + TN_0 + FP_0 + FN_0)\n",
        "accuracy_class_1 = (TP_1 + TN_1) / (TP_1 + TN_1 + FP_1 + FN_1)\n",
        "\n",
        "# Calculate overall accuracy\n",
        "overall_accuracy = accuracy_score(y_test, y_pred)\n",
        "\n",
        "print(f'Overall Accuracy: {overall_accuracy}')\n",
        "\n",
        "print(f'Class 0 - Precision: {precision_class[0]}, Recall: {recall_class[0]}, Accuracy: {accuracy_class_0}, F1-score: {f1_class[0]}')\n",
        "print(f'Class 1 - Precision: {precision_class[1]}, Recall: {recall_class[1]}, Accuracy: {accuracy_class_1}, F1-score: {f1_class[1]}')\n"
      ]
    },
    {
      "cell_type": "markdown",
      "source": [
        "## Overall Performance:SVM"
      ],
      "metadata": {
        "id": "UaBjgoDjRzeE"
      }
    },
    {
      "cell_type": "code",
      "source": [
        "from sklearn.svm import LinearSVC\n",
        "from sklearn.metrics import precision_recall_fscore_support, accuracy_score\n",
        "\n",
        "# Train LinearSVC model\n",
        "#svm_model = LinearSVC()\n",
        "svm_model =LinearSVC(\n",
        "    penalty='l2',       # Uses L2 regularization by default\n",
        "    loss='squared_hinge', # Loss function (squared hinge loss for better optimization)\n",
        "    dual=True,          # Uses dual formulation when n_samples > n_features\n",
        "    tol=1e-4,           # Tolerance for stopping criteria\n",
        "    C=1.0,              # Regularization strength (inverse of lambda)\n",
        "    multi_class='ovr',  # One-vs-Rest (OvR) for multi-class classification\n",
        "    fit_intercept=True, # Includes an intercept term\n",
        "    intercept_scaling=1,# Scaling factor for intercept (only when fit_intercept=True)\n",
        "    class_weight=None,  # No class weighting by default\n",
        "    verbose=0,          # No logging output\n",
        "    random_state=None,  # No fixed randomness\n",
        "    max_iter=1000       # Maximum number of iterations for convergence\n",
        ")\n",
        "svm_model = svm_model.fit(X_train_vect_tf_idf, y_train)\n",
        "\n",
        "# Predict on the test set\n",
        "y_pred = svm_model.predict(X_test_vect_tf_idf)\n",
        "\n",
        "# Compute overall metrics (precision, recall, f1-score) using 'binary' for 2-class problem\n",
        "precision, recall, f1, _ = precision_recall_fscore_support(y_test, y_pred, average='binary')  # Use 'binary' for 2-class problem\n",
        "\n",
        "# Compute overall accuracy\n",
        "overall_accuracy = accuracy_score(y_test, y_pred)\n",
        "\n",
        "# Print the overall metrics\n",
        "print(f'Overall Precision: {precision}')\n",
        "print(f'Overall Recall: {recall}')\n",
        "print(f'Overall F1-score: {f1}')\n",
        "print(f'Overall Accuracy: {overall_accuracy}')"
      ],
      "metadata": {
        "colab": {
          "base_uri": "https://localhost:8080/"
        },
        "id": "B8pPj_L7R1wu",
        "outputId": "01f1d31b-c52e-4603-c56d-bd8a5e59f37d"
      },
      "execution_count": null,
      "outputs": [
        {
          "output_type": "stream",
          "name": "stdout",
          "text": [
            "Overall Precision: 0.9515570934256056\n",
            "Overall Recall: 0.9166666666666666\n",
            "Overall F1-score: 0.933786078098472\n",
            "Overall Accuracy: 0.9347171074656846\n"
          ]
        }
      ]
    },
    {
      "cell_type": "markdown",
      "source": [
        "## Matrix_SVM"
      ],
      "metadata": {
        "id": "mDzS7iruMDj2"
      }
    },
    {
      "cell_type": "code",
      "execution_count": null,
      "metadata": {
        "id": "uqRr0CXa_K2h",
        "colab": {
          "base_uri": "https://localhost:8080/",
          "height": 450
        },
        "outputId": "fe60cc79-efe4-41bc-a352-635337198d98"
      },
      "outputs": [
        {
          "output_type": "display_data",
          "data": {
            "text/plain": [
              "<Figure size 640x480 with 2 Axes>"
            ],
            "image/png": "[encoded data removed]"
          },
          "metadata": {}
        }
      ],
      "source": [
        "from sklearn.metrics import confusion_matrix\n",
        "import seaborn as sns\n",
        "import matplotlib.pyplot as plt\n",
        "\n",
        "cm = confusion_matrix(y_test, y_pred)\n",
        "sns.heatmap(cm, annot=True, fmt='d', cmap='Blues', xticklabels=['Predicted PRPs', 'Predicted ARPs'], yticklabels=['Actual PRPs', 'Actual ARPs'])\n",
        "plt.xlabel('Predicted')\n",
        "plt.ylabel('Actual')\n",
        "plt.show()"
      ]
    },
    {
      "cell_type": "markdown",
      "metadata": {
        "id": "K8ImKu4dYEuU"
      },
      "source": [
        "# GridSearchCV\n",
        "\n",
        "https://chatgpt.com/share/2d177bbf-aa11-4e78-a40b-04e4504d2933 this is a link with a working example\n",
        "\n",
        "https://chatgpt.com/share/4200614f-4ded-4cff-8d85-f3d721492adb : this is a link for me to learn about GridSearchCV"
      ]
    },
    {
      "cell_type": "markdown",
      "source": [
        "## kNN with GriSeach and Corss-validation techiniques"
      ],
      "metadata": {
        "id": "zDlHL1MLLrAv"
      }
    },
    {
      "cell_type": "markdown",
      "source": [
        "from sklearn.model_selection import GridSearchCV\n",
        "from sklearn.neighbors import KNeighborsClassifier\n",
        "from sklearn.metrics import classification_report\n",
        "from sklearn.metrics import precision_recall_fscore_support, accuracy_score, confusion_matrix\n",
        "\n",
        "# Define the parameter grid to search over\n",
        "param_grid = {\n",
        "    'n_neighbors': [1, 3, 5, 7, 10],  # Possible values for n_neighbors\n",
        "    'weights': ['uniform', 'distance'],  # Weights to assign to neighbors\n",
        "    'algorithm': ['auto', 'ball_tree', 'kd_tree', 'brute']  # Search for different algorithms\n",
        "}\n",
        "\n",
        "# Initialize KNN model\n",
        "knn_model = KNeighborsClassifier()\n",
        "\n",
        "# Setup GridSearchCV\n",
        "grid_search = GridSearchCV(estimator=knn_model, param_grid=param_grid, cv=5, scoring='accuracy', verbose=1)\n",
        "\n",
        "# Fit the model to the training data with cross-validation\n",
        "grid_search.fit(X_train_vect_tf_idf, y_train)\n",
        "\n",
        "# Get the best parameters from GridSearchCV\n",
        "best_params = grid_search.best_params_\n",
        "print(f\"Best parameters found by GridSearchCV: {best_params}\")\n",
        "\n",
        "# Best model\n",
        "best_knn_model = grid_search.best_estimator_\n",
        "\n",
        "# Predict on the test set\n",
        "y_pred = best_knn_model.predict(X_test_vect_tf_idf)\n",
        "\n",
        "# Compute metrics for each class\n",
        "precision_class, recall_class, f1_class, support_class = precision_recall_fscore_support(y_test, y_pred, average=None, labels=[0, 1])\n",
        "\n",
        "# Compute confusion matrix\n",
        "conf_matrix = confusion_matrix(y_test, y_pred, labels=[0, 1])\n",
        "\n",
        "# Extract TP, TN, FP, FN for each class\n",
        "TP_0, FN_0 = conf_matrix[0, 0], conf_matrix[0, 1]\n",
        "FP_0, TN_0 = conf_matrix[1, 0], conf_matrix[1, 1]\n",
        "\n",
        "TP_1, FN_1 = conf_matrix[1, 1], conf_matrix[1, 0]\n",
        "FP_1, TN_1 = conf_matrix[0, 1], conf_matrix[0, 0]\n",
        "\n",
        "# Calculate accuracy for each class\n",
        "accuracy_class_0 = (TP_0 + TN_0) / (TP_0 + TN_0 + FP_0 + FN_0)\n",
        "accuracy_class_1 = (TP_1 + TN_1) / (TP_1 + TN_1 + FP_1 + FN_1)\n",
        "\n",
        "# Calculate overall accuracy\n",
        "overall_accuracy = accuracy_score(y_test, y_pred)\n",
        "\n",
        "# Print out the results\n",
        "print(f'Overall Accuracy: {overall_accuracy}')\n",
        "print(f'Class 0 - Precision: {precision_class[0]}, Recall: {recall_class[0]}, Accuracy: {accuracy_class_0}, F1-score: {f1_class[0]}')\n",
        "print(f'Class 1 - Precision: {precision_class[1]}, Recall: {recall_class[1]}, Accuracy: {accuracy_class_1}, F1-score: {f1_class[1]}')\n"
      ],
      "metadata": {
        "id": "2KEXi6U9NWtC"
      }
    },
    {
      "cell_type": "markdown",
      "metadata": {
        "id": "YoT4Hwj7_cja"
      },
      "source": []
    }
  ],
  "metadata": {
    "colab": {
      "provenance": [],
      "toc_visible": true,
      "include_colab_link": true
    },
    "kernelspec": {
      "display_name": "Python 3",
      "name": "python3"
    },
    "language_info": {
      "name": "python"
    }
  },
  "nbformat": 4,
  "nbformat_minor": 0
}