{
  "nbformat": 4,
  "nbformat_minor": 0,
  "metadata": {
    "colab": {
      "provenance": [],
      "include_colab_link": true
    },
    "kernelspec": {
      "name": "python3",
      "display_name": "Python 3"
    },
    "language_info": {
      "name": "python"
    }
  },
  "cells": [
    {
      "cell_type": "markdown",
      "metadata": {
        "id": "view-in-github",
        "colab_type": "text"
      },
      "source": [
        "<a href=\"https://colab.research.google.com/github/JeanMusenga/TOSEM-2025-Submission/blob/main/Classifiers_with_Word2Vec_14932PostsMixed.ipynb\" target=\"_parent\"><img src=\"https://colab.research.google.com/assets/colab-badge.svg\" alt=\"Open In Colab\"/></a>"
      ]
    },
    {
      "cell_type": "markdown",
      "source": [
        "# Important and helpful sources\n",
        "https://www.youtube.com/watch?v=P47raNuzAW0\n",
        "https://github.com/PradipNichite/Youtube-Tutorials/blob/main/Yotutube_WordVectors.ipynb\n"
      ],
      "metadata": {
        "id": "dn9Y0q6Kie18"
      }
    },
    {
      "cell_type": "code",
      "execution_count": null,
      "metadata": {
        "id": "kb5WEyMzjEgd"
      },
      "outputs": [],
      "source": [
        "import pandas as pd\n",
        "import numpy as np\n",
        "from matplotlib import pyplot as plt\n",
        "import nltk\n",
        "import gensim\n",
        "from spacy.tokenizer import Tokenizer\n",
        "from sklearn.model_selection import train_test_split\n",
        "from matplotlib import pyplot as plt\n",
        "from nltk.corpus import stopwords\n",
        "from nltk.tokenize import word_tokenize\n",
        "from spacy.tokenizer import Tokenizer\n",
        "from nltk.stem import WordNetLemmatizer\n",
        "from sklearn.feature_extraction.text import TfidfVectorizer\n",
        "import string\n",
        "\n",
        "\n",
        "# Set random seed for reproducibility\n",
        "RANDOM_SEED = 42\n",
        "np.random.seed(RANDOM_SEED)"
      ]
    },
    {
      "cell_type": "code",
      "source": [
        "# Download necessary NLTK data\n",
        "nltk.download('punkt')\n",
        "nltk.download('stopwords')\n",
        "nltk.download('wordnet')\n",
        "nltk.download('punkt_tab')"
      ],
      "metadata": {
        "colab": {
          "base_uri": "https://localhost:8080/"
        },
        "id": "ECEcrJa2Y8fO",
        "outputId": "e29efbc4-c31b-4714-a613-92b71138b207"
      },
      "execution_count": null,
      "outputs": [
        {
          "output_type": "stream",
          "name": "stderr",
          "text": [
            "[nltk_data] Downloading package punkt to /root/nltk_data...\n",
            "[nltk_data]   Unzipping tokenizers/punkt.zip.\n",
            "[nltk_data] Downloading package stopwords to /root/nltk_data...\n",
            "[nltk_data]   Unzipping corpora/stopwords.zip.\n",
            "[nltk_data] Downloading package wordnet to /root/nltk_data...\n",
            "[nltk_data] Downloading package punkt_tab to /root/nltk_data...\n",
            "[nltk_data]   Unzipping tokenizers/punkt_tab.zip.\n"
          ]
        },
        {
          "output_type": "execute_result",
          "data": {
            "text/plain": [
              "True"
            ]
          },
          "metadata": {},
          "execution_count": 2
        }
      ]
    },
    {
      "cell_type": "code",
      "source": [
        "dataset=pd.read_excel('14932_ARPs_and_Programming_Posts.xlsx')"
      ],
      "metadata": {
        "id": "L7c_vEIdjVbq"
      },
      "execution_count": null,
      "outputs": []
    },
    {
      "cell_type": "code",
      "source": [
        "#dataset.shape"
      ],
      "metadata": {
        "id": "alXSMszbK40x"
      },
      "execution_count": null,
      "outputs": []
    },
    {
      "cell_type": "code",
      "source": [
        "class_distribution = dataset['Label'].value_counts()\n",
        "print(class_distribution)"
      ],
      "metadata": {
        "id": "ikCuVNpc4Y9h",
        "colab": {
          "base_uri": "https://localhost:8080/"
        },
        "outputId": "0b13de66-1dc7-4cfa-b957-2d9c75cce1f8"
      },
      "execution_count": null,
      "outputs": [
        {
          "output_type": "stream",
          "name": "stdout",
          "text": [
            "Label\n",
            "0    7466\n",
            "1    7466\n",
            "Name: count, dtype: int64\n"
          ]
        }
      ]
    },
    {
      "cell_type": "code",
      "source": [
        "#dataset.head()"
      ],
      "metadata": {
        "id": "FIgJqYQ6Al7t"
      },
      "execution_count": null,
      "outputs": []
    },
    {
      "cell_type": "markdown",
      "source": [
        "# Proporcessing"
      ],
      "metadata": {
        "id": "3K6kM8yp35SQ"
      }
    },
    {
      "cell_type": "markdown",
      "source": [
        "### Cleaning data"
      ],
      "metadata": {
        "id": "XoY09le6HVTf"
      }
    },
    {
      "cell_type": "code",
      "source": [
        "import pandas as pd\n",
        "from bs4 import BeautifulSoup\n",
        "\n",
        "# Function to remove HTML tags and replace links, images, code snippets, and tables with placeholders\n",
        "def clean_html(text):\n",
        "    if not isinstance(text, str):\n",
        "        return text\n",
        "\n",
        "    soup = BeautifulSoup(text, \"html.parser\")\n",
        "\n",
        "    # Replace all links with '[external-link]'\n",
        "    for a in soup.find_all('a'):\n",
        "        a.replace_with('[external-link]')\n",
        "\n",
        "    # Replace all images with '[figure]'\n",
        "    for img in soup.find_all('img'):\n",
        "        img.replace_with('[figure]')\n",
        "\n",
        "    # Replace all code blocks with '[code-snippet]'\n",
        "    for code in soup.find_all('code'):\n",
        "        code.replace_with('[code-snippet]')\n",
        "\n",
        "    # Replace all tables with '[table]'\n",
        "    for table in soup.find_all('table'):\n",
        "        table.replace_with('[table]')\n",
        "\n",
        "    # Get the text without any remaining HTML tags\n",
        "    clean_text = soup.get_text()\n",
        "\n",
        "    return clean_text\n",
        "\n",
        "# Load your DataFrame (assuming df is already defined)\n",
        "# df = pd.read_csv('your_file.csv')  # Uncomment if loading from a file\n",
        "\n",
        "# Apply the function to 'Question_body' column\n",
        "dataset['Question_body_cleaned'] = dataset['Question_body'].apply(clean_html)\n",
        "\n",
        "\n",
        "# Print sample cleaned data\n",
        "print(dataset[['Question_body', 'Question_body_cleaned']].head())\n"
      ],
      "metadata": {
        "id": "C-oGCnajHSl0"
      },
      "execution_count": null,
      "outputs": []
    },
    {
      "cell_type": "code",
      "source": [
        "# Text preprocessing\n",
        "stop_words = set(stopwords.words('english'))\n",
        "lemmatizer = WordNetLemmatizer()\n",
        "\n",
        "def preprocess_text(text):\n",
        "    # Ensure the text is a string\n",
        "    if not isinstance(text, str):\n",
        "        text = str(text)\n",
        "\n",
        "    # Tokenize text\n",
        "    tokens = word_tokenize(text)\n",
        "    tokens = [word.lower() for word in tokens if word.isalpha()]  # Remove non-alphabetic tokens\n",
        "    tokens = [word for word in tokens if word not in stop_words]  # Remove stopwords\n",
        "    lemmatized = [lemmatizer.lemmatize(word) for word in tokens]  # Lemmatize words\n",
        "    return ' '.join(lemmatized)\n",
        "\n",
        "\n",
        "# Ensure all values in 'Question_body' are strings and handle NaNs and # Convert 'Question_body' to string (to avoid NaN issues)\n",
        "dataset['Question_body_cleaned'] = dataset['Question_body_cleaned'].fillna('').astype(str)\n",
        "\n",
        "# Apply the preprocessing function\n",
        "dataset['Question_body_preprocessed'] = dataset['Question_body_cleaned'].apply(preprocess_text)"
      ],
      "metadata": {
        "id": "xB5HR_Mn499_"
      },
      "execution_count": null,
      "outputs": []
    },
    {
      "cell_type": "code",
      "source": [
        "# Save the updated DataFrame to an Excel file\n",
        "#dataset.to_excel('14932_ARPs_and_Programming_Posts.xlsx', index=False)\n",
        "\n",
        "#dataset.head()"
      ],
      "metadata": {
        "id": "YSc6ft3LgUMs"
      },
      "execution_count": null,
      "outputs": []
    },
    {
      "cell_type": "markdown",
      "source": [
        "# Feature Vectors Engineering"
      ],
      "metadata": {
        "id": "JLtUecUtG6va"
      }
    },
    {
      "cell_type": "code",
      "source": [
        "import gensim.downloader as api\n",
        "print(list(gensim.downloader.info()['models'].keys()))"
      ],
      "metadata": {
        "colab": {
          "base_uri": "https://localhost:8080/"
        },
        "id": "E-Ddw1MhHqqM",
        "outputId": "534a312f-d122-4b98-87ea-15d7abc4e22f"
      },
      "execution_count": null,
      "outputs": [
        {
          "output_type": "stream",
          "name": "stdout",
          "text": [
            "['fasttext-wiki-news-subwords-300', 'conceptnet-numberbatch-17-06-300', 'word2vec-ruscorpora-300', 'word2vec-google-news-300', 'glove-wiki-gigaword-50', 'glove-wiki-gigaword-100', 'glove-wiki-gigaword-200', 'glove-wiki-gigaword-300', 'glove-twitter-25', 'glove-twitter-50', 'glove-twitter-100', 'glove-twitter-200', '__testing_word2vec-matrix-synopsis']\n"
          ]
        }
      ]
    },
    {
      "cell_type": "markdown",
      "source": [
        "## Loading the 'word2vec-google-news-300"
      ],
      "metadata": {
        "id": "Vn7dtakkeA44"
      }
    },
    {
      "cell_type": "code",
      "source": [
        "pretrained_Word2vec_Model = api.load('word2vec-google-news-300')"
      ],
      "metadata": {
        "id": "KVFu37l8H4US",
        "colab": {
          "base_uri": "https://localhost:8080/"
        },
        "outputId": "7c55de00-0d9c-4b3a-8c16-8ad05da6f34e"
      },
      "execution_count": null,
      "outputs": [
        {
          "output_type": "stream",
          "name": "stdout",
          "text": [
            "[==================================================] 100.0% 1662.8/1662.8MB downloaded\n"
          ]
        }
      ]
    },
    {
      "cell_type": "markdown",
      "source": [
        "##  Download and Save the Model to Google Drive: This is for my internal learning"
      ],
      "metadata": {
        "id": "N5S8UAskuuzq"
      }
    },
    {
      "cell_type": "code",
      "source": [
        "def sent_vec(sent):\n",
        "    vector_size = pretrained_Word2vec_Model.vector_size\n",
        "    pretrained_res = np.zeros(vector_size)\n",
        "    # print(wv_res)\n",
        "    string = 1\n",
        "    for w in sent:\n",
        "        if w in pretrained_Word2vec_Model:\n",
        "            string += 1\n",
        "            pretrained_res += pretrained_Word2vec_Model[w]\n",
        "    pretrained_res = pretrained_res/string\n",
        "    return pretrained_res\n",
        "\n",
        "dataset['Embeddings_W2V'] = dataset['Question_body_preprocessed'].apply(sent_vec)"
      ],
      "metadata": {
        "id": "-EqDKi5cGzm8"
      },
      "execution_count": null,
      "outputs": []
    },
    {
      "cell_type": "markdown",
      "source": [
        "### Saving Embeddings"
      ],
      "metadata": {
        "id": "K9hXUExLJd04"
      }
    },
    {
      "cell_type": "code",
      "source": [
        "# Save the embedding to dataframce in an Excel file\n",
        "dataset.to_excel('Embeddings_W2V_14932_ARPs_and_Programming_Posts.xlsx', index=False)\n",
        "\n",
        "dataset.head()"
      ],
      "metadata": {
        "id": "JbeZDpzNg3gk"
      },
      "execution_count": null,
      "outputs": []
    },
    {
      "cell_type": "code",
      "source": [
        "x = dataset['Embeddings_W2V'].to_list()\n",
        "y = dataset['Label'].to_list()"
      ],
      "metadata": {
        "id": "wYAbemrkReIw"
      },
      "execution_count": null,
      "outputs": []
    },
    {
      "cell_type": "markdown",
      "source": [
        "# Split dataset"
      ],
      "metadata": {
        "id": "zJGeAGlhzPQz"
      }
    },
    {
      "cell_type": "code",
      "source": [
        "from sklearn.model_selection import train_test_split\n",
        "X_train, X_test, y_train, y_test = train_test_split(x , y, test_size=0.2, random_state=125)"
      ],
      "metadata": {
        "id": "EWOgWWpAR_Eq"
      },
      "execution_count": null,
      "outputs": []
    },
    {
      "cell_type": "markdown",
      "source": [
        "# Naive Bayes with W2vect"
      ],
      "metadata": {
        "id": "2HL1AQ8oS6s1"
      }
    },
    {
      "cell_type": "code",
      "source": [
        "from sklearn.naive_bayes import GaussianNB\n",
        "from sklearn.metrics import classification_report\n",
        "\n",
        "#nb_model = GaussianNB()\n",
        "nb_model=GaussianNB(\n",
        "    priors=None,      # No predefined class priors; computed from the data\n",
        "    var_smoothing=1e-9 # Small value added to variances for numerical stability\n",
        ")\n",
        "nb_model = nb_model.fit(X_train, y_train)\n",
        "\n",
        "\n",
        "y_pred = nb_model.predict(X_test)\n",
        "\n",
        "from sklearn.metrics import precision_recall_fscore_support, confusion_matrix\n",
        "\n",
        "# Compute precision, recall, and F1-score for each class\n",
        "precision_class, recall_class, f1_class, support_class = precision_recall_fscore_support(y_test, y_pred, average=None, labels=[0, 1])\n",
        "\n",
        "# Compute confusion matrix\n",
        "conf_matrix = confusion_matrix(y_test, y_pred, labels=[0, 1])\n",
        "\n",
        "# Extract TP, TN, FP, FN for each class\n",
        "TP_0 = conf_matrix[0, 0]\n",
        "FN_0 = conf_matrix[0, 1]\n",
        "FP_0 = conf_matrix[1, 0]\n",
        "TN_0 = conf_matrix[1, 1]\n",
        "\n",
        "TP_1 = conf_matrix[1, 1]\n",
        "FN_1 = conf_matrix[1, 0]\n",
        "FP_1 = conf_matrix[0, 1]\n",
        "TN_1 = conf_matrix[0, 0]\n",
        "\n",
        "# Calculate overall accuracy\n",
        "accuracy = (TP_0 + TP_1) / (TP_0 + TP_1 + FP_0 + FP_1 + FN_0 + FN_1)\n",
        "\n",
        "print(f'Overall Accuracy: {accuracy}')\n",
        "print(f'Class 0 - Precision: {precision_class[0]}, Recall: {recall_class[0]}, F1-score: {f1_class[0]}')\n",
        "print(f'Class 1 - Precision: {precision_class[1]}, Recall: {recall_class[1]}, F1-score: {f1_class[1]}')"
      ],
      "metadata": {
        "colab": {
          "base_uri": "https://localhost:8080/"
        },
        "id": "pHgIIPKRZ5lW",
        "outputId": "c9acc9e2-2fdd-48b4-ef48-46c5abe113dd"
      },
      "execution_count": null,
      "outputs": [
        {
          "output_type": "stream",
          "name": "stdout",
          "text": [
            "Overall Accuracy: 0.4620655898188938\n",
            "Class 0 - Precision: 0.6826741996233522, Recall: 0.48755884330867516, F1-score: 0.5688505296194586\n",
            "Class 1 - Precision: 0.6041558441558441, Recall: 0.7753333333333333, F1-score: 0.6791240875912409\n"
          ]
        }
      ]
    },
    {
      "cell_type": "markdown",
      "source": [
        "## Naive Bayes Overall Performance"
      ],
      "metadata": {
        "id": "DVf9U9TUWwSS"
      }
    },
    {
      "cell_type": "code",
      "source": [
        "from sklearn.naive_bayes import GaussianNB\n",
        "from sklearn.metrics import precision_recall_fscore_support, accuracy_score, confusion_matrix\n",
        "\n",
        "# Train Gaussian Naive Bayes model\n",
        "#nb_model = GaussianNB()\n",
        "nb_model=GaussianNB(\n",
        "    priors=None,      # No predefined class priors; computed from the data\n",
        "    var_smoothing=1e-9 # Small value added to variances for numerical stability\n",
        ")\n",
        "nb_model = nb_model.fit(X_train, y_train)\n",
        "\n",
        "# Predict on the test set\n",
        "y_pred = nb_model.predict(X_test)\n",
        "\n",
        "# Compute overall metrics (precision, recall, f1-score) using 'binary' for 2-class problem\n",
        "precision, recall, f1, _ = precision_recall_fscore_support(y_test, y_pred, average='binary')  # Use 'binary' for 2-class problem\n",
        "\n",
        "# Compute overall accuracy\n",
        "overall_accuracy = accuracy_score(y_test, y_pred)\n",
        "\n",
        "# Print the overall metrics\n",
        "print(f'Overall Precision: {precision}')\n",
        "print(f'Overall Recall: {recall}')\n",
        "print(f'Overall F1-score: {f1}')\n",
        "print(f'Overall Accuracy: {overall_accuracy}')\n"
      ],
      "metadata": {
        "id": "YHomW5b7YKIz",
        "colab": {
          "base_uri": "https://localhost:8080/"
        },
        "outputId": "242468cb-376e-4f1a-e814-51c1522605bc"
      },
      "execution_count": null,
      "outputs": [
        {
          "output_type": "stream",
          "name": "stdout",
          "text": [
            "Overall Precision: 0.6041558441558441\n",
            "Overall Recall: 0.7753333333333333\n",
            "Overall F1-score: 0.6791240875912409\n",
            "Overall Accuracy: 0.6320723133578842\n"
          ]
        }
      ]
    },
    {
      "cell_type": "code",
      "source": [
        "from sklearn.metrics import confusion_matrix\n",
        "import seaborn as sns\n",
        "import matplotlib.pyplot as plt\n",
        "\n",
        "cm = confusion_matrix(y_test, y_pred)\n",
        "sns.heatmap(cm, annot=True, fmt='d', cmap='Blues', xticklabels=['Predicted 0', 'Predicted 1'], yticklabels=['Actual 0', 'Actual 1'])\n",
        "plt.xlabel('Predicted')\n",
        "plt.ylabel('Actual')\n",
        "plt.show()"
      ],
      "metadata": {
        "colab": {
          "base_uri": "https://localhost:8080/",
          "height": 449
        },
        "id": "S9t09J9NtEzC",
        "outputId": "5cf3a59c-5aaa-42a7-e5bf-809056d3fa6c"
      },
      "execution_count": null,
      "outputs": [
        {
          "output_type": "display_data",
          "data": {
            "text/plain": [
              "<Figure size 640x480 with 2 Axes>"
            ],
            "image/png": "[encoded data removed]"
          },
          "metadata": {}
        }
      ]
    },
    {
      "cell_type": "markdown",
      "source": [
        "# kNN with W2vect"
      ],
      "metadata": {
        "id": "UBHyHHhWTNdl"
      }
    },
    {
      "cell_type": "code",
      "source": [
        "from sklearn.neighbors import KNeighborsClassifier\n",
        "from sklearn.metrics import classification_report\n",
        "from sklearn.metrics import precision_recall_fscore_support, confusion_matrix\n",
        "\n",
        "#knn_model = KNeighborsClassifier(n_neighbors=1)\n",
        "knn_model=KNeighborsClassifier(\n",
        "    n_neighbors=1,      # Number of neighbors to consider (default is 5, but set to 1 in your case)\n",
        "    weights='uniform',  # All neighbors have equal weight ('distance' would weigh closer neighbors more)\n",
        "    algorithm='auto',   # Chooses the best algorithm based on data ('ball_tree', 'kd_tree', or 'brute' can be set manually)\n",
        "    leaf_size=30,       # Affects 'ball_tree' and 'kd_tree' algorithms (ignored for 'brute')\n",
        "    p=2,                # Power parameter for Minkowski distance (p=2 corresponds to Euclidean distance, p=1 is Manhattan)\n",
        "    metric='minkowski', # Default distance metric (with p=2, this is Euclidean distance)\n",
        "    metric_params=None, # No additional parameters for the metric\n",
        "    n_jobs=None         # No parallel processing (set to -1 to use all CPU cores)\n",
        ")\n",
        "\n",
        "knn_model.fit(X_train, y_train)\n",
        "y_pred = knn_model.predict(X_test)\n",
        "\n",
        "\n",
        "# Compute precision, recall, and F1-score for each class\n",
        "precision_class, recall_class, f1_class, support_class = precision_recall_fscore_support(y_test, y_pred, average=None, labels=[0, 1])\n",
        "\n",
        "# Compute confusion matrix\n",
        "conf_matrix = confusion_matrix(y_test, y_pred, labels=[0, 1])\n",
        "\n",
        "# Extract TP, TN, FP, FN for each class\n",
        "TP_0 = conf_matrix[0, 0]\n",
        "FN_0 = conf_matrix[0, 1]\n",
        "FP_0 = conf_matrix[1, 0]\n",
        "TN_0 = conf_matrix[1, 1]\n",
        "\n",
        "TP_1 = conf_matrix[1, 1]\n",
        "FN_1 = conf_matrix[1, 0]\n",
        "FP_1 = conf_matrix[0, 1]\n",
        "TN_1 = conf_matrix[0, 0]\n",
        "\n",
        "# Calculate overall accuracy\n",
        "accuracy = (TP_0 + TP_1) / (TP_0 + TP_1 + FP_0 + FP_1 + FN_0 + FN_1)\n",
        "\n",
        "print(f'Overall Accuracy: {accuracy}')\n",
        "print(f'Class 0 - Precision: {precision_class[0]}, Recall: {recall_class[0]}, F1-score: {f1_class[0]}')\n",
        "print(f'Class 1 - Precision: {precision_class[1]}, Recall: {recall_class[1]}, F1-score: {f1_class[1]}')\n"
      ],
      "metadata": {
        "colab": {
          "base_uri": "https://localhost:8080/"
        },
        "id": "sxTHVneDaVMQ",
        "outputId": "c6255323-ccfd-4bb6-fd51-8a096a71640a"
      },
      "execution_count": null,
      "outputs": [
        {
          "output_type": "stream",
          "name": "stdout",
          "text": [
            "Overall Accuracy: 0.4206896551724138\n",
            "Class 0 - Precision: 0.6108821104699094, Recall: 0.49831876260928043, F1-score: 0.5488888888888889\n",
            "Class 1 - Precision: 0.5794813979706878, Recall: 0.6853333333333333, F1-score: 0.6279780085522297\n"
          ]
        }
      ]
    },
    {
      "cell_type": "markdown",
      "source": [
        "## kNN Overall Performance"
      ],
      "metadata": {
        "id": "IMde4bEEW_8w"
      }
    },
    {
      "cell_type": "code",
      "source": [
        "from sklearn.neighbors import KNeighborsClassifier\n",
        "from sklearn.metrics import precision_recall_fscore_support, accuracy_score, confusion_matrix\n",
        "\n",
        "# Train K-Nearest Neighbors model\n",
        "#knn_model = KNeighborsClassifier(n_neighbors=1)\n",
        "knn_model=KNeighborsClassifier(\n",
        "    n_neighbors=1,      # Number of neighbors to consider (default is 5, but set to 1 in your case)\n",
        "    weights='uniform',  # All neighbors have equal weight ('distance' would weigh closer neighbors more)\n",
        "    algorithm='auto',   # Chooses the best algorithm based on data ('ball_tree', 'kd_tree', or 'brute' can be set manually)\n",
        "    leaf_size=30,       # Affects 'ball_tree' and 'kd_tree' algorithms (ignored for 'brute')\n",
        "    p=2,                # Power parameter for Minkowski distance (p=2 corresponds to Euclidean distance, p=1 is Manhattan)\n",
        "    metric='minkowski', # Default distance metric (with p=2, this is Euclidean distance)\n",
        "    metric_params=None, # No additional parameters for the metric\n",
        "    n_jobs=None         # No parallel processing (set to -1 to use all CPU cores)\n",
        ")\n",
        "\n",
        "knn_model.fit(X_train, y_train)\n",
        "\n",
        "# Predict on the test set\n",
        "y_pred = knn_model.predict(X_test)\n",
        "\n",
        "# Compute overall metrics (precision, recall, f1-score) using 'binary' for 2-class problem\n",
        "precision, recall, f1, _ = precision_recall_fscore_support(y_test, y_pred, average='binary')  # Use 'binary' for 2-class problem\n",
        "\n",
        "# Compute overall accuracy\n",
        "overall_accuracy = accuracy_score(y_test, y_pred)\n",
        "\n",
        "# Print the overall metrics\n",
        "print(f'Overall Precision: {precision}')\n",
        "print(f'Overall Recall: {recall}')\n",
        "print(f'Overall F1-score: {f1}')\n",
        "print(f'Overall Accuracy: {overall_accuracy}')\n"
      ],
      "metadata": {
        "id": "dSu-4CqoXEZ6",
        "colab": {
          "base_uri": "https://localhost:8080/"
        },
        "outputId": "3b5d616f-44c8-432b-ff17-ea56d78552cf"
      },
      "execution_count": null,
      "outputs": [
        {
          "output_type": "stream",
          "name": "stdout",
          "text": [
            "Overall Precision: 0.5794813979706878\n",
            "Overall Recall: 0.6853333333333333\n",
            "Overall F1-score: 0.6279780085522297\n",
            "Overall Accuracy: 0.5922330097087378\n"
          ]
        }
      ]
    },
    {
      "cell_type": "code",
      "source": [
        "from sklearn.metrics import confusion_matrix\n",
        "import seaborn as sns\n",
        "import matplotlib.pyplot as plt\n",
        "\n",
        "cm = confusion_matrix(y_test, y_pred)\n",
        "sns.heatmap(cm, annot=True, fmt='d', cmap='Blues', xticklabels=['Predicted 0', 'Predicted 1'], yticklabels=['Actual 0', 'Actual 1'])\n",
        "plt.xlabel('Predicted')\n",
        "plt.ylabel('Actual')\n",
        "plt.show()"
      ],
      "metadata": {
        "colab": {
          "base_uri": "https://localhost:8080/",
          "height": 449
        },
        "id": "keURlEyBtCTz",
        "outputId": "47128677-55e0-4b61-a45e-42a839dc7701"
      },
      "execution_count": null,
      "outputs": [
        {
          "output_type": "display_data",
          "data": {
            "text/plain": [
              "<Figure size 640x480 with 2 Axes>"
            ],
            "image/png": "[encoded data removed]"
          },
          "metadata": {}
        }
      ]
    },
    {
      "cell_type": "markdown",
      "source": [
        "# Logistic Regression"
      ],
      "metadata": {
        "id": "2aURx612S0ZV"
      }
    },
    {
      "cell_type": "code",
      "source": [
        "from sklearn.linear_model import LogisticRegression\n",
        "from sklearn.metrics import precision_recall_fscore_support, confusion_matrix\n",
        "\n",
        "#lg_model = LogisticRegression(C=5, penalty='l1', solver='liblinear')\n",
        "lg_model=LogisticRegression(\n",
        "    penalty='l2',      # Default is L2 regularization (Ridge)\n",
        "    dual=False,        # Dual formulation is only used when `penalty='l2'` and the number of samples > number of features\n",
        "    tol=1e-4,          # Tolerance for stopping criteria\n",
        "    C=1.0,             # Inverse of regularization strength (1.0 means moderate regularization)\n",
        "    fit_intercept=True,# Whether to include an intercept term\n",
        "    intercept_scaling=1, # Only relevant for `solver='liblinear'`\n",
        "    class_weight=None, # No class weighting by default\n",
        "    random_state=None, # No fixed randomness\n",
        "    solver='lbfgs',    # Default solver (good for most cases, but does not support `l1` penalty)\n",
        "    max_iter=100,      # Maximum number of iterations for convergence\n",
        "    multi_class='auto',# Automatically chooses between 'ovr' (one-vs-rest) and 'multinomial'\n",
        "    verbose=0,         # No verbosity (silent mode)\n",
        "    warm_start=False,  # Whether to reuse previous solution for faster convergence\n",
        "    n_jobs=None,       # No parallelization (only relevant for solvers like 'saga' or 'lbfgs')\n",
        "    l1_ratio=None      # Only used if `penalty='elasticnet'`\n",
        ")\n",
        "lg_model = lg_model.fit(X_train, y_train)\n",
        "y_pred = lg_model.predict(X_test)\n",
        "\n",
        "\n",
        "# Compute precision, recall, and F1-score for each class\n",
        "precision_class, recall_class, f1_class, support_class = precision_recall_fscore_support(y_test, y_pred, average=None, labels=[0, 1])\n",
        "\n",
        "# Compute confusion matrix\n",
        "conf_matrix = confusion_matrix(y_test, y_pred, labels=[0, 1])\n",
        "\n",
        "# Extract TP, TN, FP, FN for each class\n",
        "TP_0 = conf_matrix[0, 0]\n",
        "FN_0 = conf_matrix[0, 1]\n",
        "FP_0 = conf_matrix[1, 0]\n",
        "TN_0 = conf_matrix[1, 1]\n",
        "\n",
        "TP_1 = conf_matrix[1, 1]\n",
        "FN_1 = conf_matrix[1, 0]\n",
        "FP_1 = conf_matrix[0, 1]\n",
        "TN_1 = conf_matrix[0, 0]\n",
        "\n",
        "# Calculate overall accuracy\n",
        "accuracy = (TP_0 + TP_1) / (TP_0 + TP_1 + FP_0 + FP_1 + FN_0 + FN_1)\n",
        "\n",
        "print(f'Overall Accuracy: {accuracy}')\n",
        "print(f'Class 0 - Precision: {precision_class[0]}, Recall: {recall_class[0]}, F1-score: {f1_class[0]}')\n",
        "print(f'Class 1 - Precision: {precision_class[1]}, Recall: {recall_class[1]}, F1-score: {f1_class[1]}')"
      ],
      "metadata": {
        "colab": {
          "base_uri": "https://localhost:8080/"
        },
        "id": "c2M1iVmvachs",
        "outputId": "37750616-be10-40f0-c336-aa771d422b6e"
      },
      "execution_count": null,
      "outputs": [
        {
          "output_type": "stream",
          "name": "stdout",
          "text": [
            "Overall Accuracy: 0.4994979919678715\n",
            "Class 0 - Precision: 0.6653171390013495, Recall: 0.6630800268997983, F1-score: 0.6641966992253284\n",
            "Class 1 - Precision: 0.667109634551495, Recall: 0.6693333333333333, F1-score: 0.6682196339434276\n"
          ]
        },
        {
          "output_type": "stream",
          "name": "stderr",
          "text": [
            "/usr/local/lib/python3.11/dist-packages/sklearn/linear_model/_logistic.py:1247: FutureWarning: 'multi_class' was deprecated in version 1.5 and will be removed in 1.7. From then on, it will always use 'multinomial'. Leave it to its default value to avoid this warning.\n",
            "  warnings.warn(\n"
          ]
        }
      ]
    },
    {
      "cell_type": "markdown",
      "source": [
        "## LG Overall Performance"
      ],
      "metadata": {
        "id": "eraeH9jFXGWp"
      }
    },
    {
      "cell_type": "code",
      "source": [
        "from sklearn.linear_model import LogisticRegression\n",
        "from sklearn.metrics import precision_recall_fscore_support, accuracy_score, confusion_matrix\n",
        "\n",
        "# Train Logistic Regression model\n",
        "#lg_model = LogisticRegression(C=5, penalty='l1', solver='liblinear')\n",
        "lg_model=LogisticRegression(\n",
        "    penalty='l2',      # Default is L2 regularization (Ridge)\n",
        "    dual=False,        # Dual formulation is only used when `penalty='l2'` and the number of samples > number of features\n",
        "    tol=1e-4,          # Tolerance for stopping criteria\n",
        "    C=1.0,             # Inverse of regularization strength (1.0 means moderate regularization)\n",
        "    fit_intercept=True,# Whether to include an intercept term\n",
        "    intercept_scaling=1, # Only relevant for `solver='liblinear'`\n",
        "    class_weight=None, # No class weighting by default\n",
        "    random_state=None, # No fixed randomness\n",
        "    solver='lbfgs',    # Default solver (good for most cases, but does not support `l1` penalty)\n",
        "    max_iter=100,      # Maximum number of iterations for convergence\n",
        "    multi_class='auto',# Automatically chooses between 'ovr' (one-vs-rest) and 'multinomial'\n",
        "    verbose=0,         # No verbosity (silent mode)\n",
        "    warm_start=False,  # Whether to reuse previous solution for faster convergence\n",
        "    n_jobs=None,       # No parallelization (only relevant for solvers like 'saga' or 'lbfgs')\n",
        "    l1_ratio=None      # Only used if `penalty='elasticnet'`\n",
        ")\n",
        "lg_model = lg_model.fit(X_train, y_train)\n",
        "\n",
        "# Predict on the test set\n",
        "y_pred = lg_model.predict(X_test)\n",
        "\n",
        "# Compute overall metrics (precision, recall, f1-score) using 'binary' for 2-class problem\n",
        "precision, recall, f1, _ = precision_recall_fscore_support(y_test, y_pred, average='binary')  # Use 'binary' for 2-class problem\n",
        "\n",
        "# Compute overall accuracy\n",
        "overall_accuracy = accuracy_score(y_test, y_pred)\n",
        "\n",
        "# Print the overall metrics\n",
        "print(f'Overall Precision: {precision}')\n",
        "print(f'Overall Recall: {recall}')\n",
        "print(f'Overall F1-score: {f1}')\n",
        "print(f'Overall Accuracy: {overall_accuracy}')\n"
      ],
      "metadata": {
        "id": "v0V-tfEkXJhm",
        "colab": {
          "base_uri": "https://localhost:8080/"
        },
        "outputId": "b880b99a-95e1-4e54-bdb5-0dfded1c4f4d"
      },
      "execution_count": null,
      "outputs": [
        {
          "output_type": "stream",
          "name": "stdout",
          "text": [
            "Overall Precision: 0.667109634551495\n",
            "Overall Recall: 0.6693333333333333\n",
            "Overall F1-score: 0.6682196339434276\n",
            "Overall Accuracy: 0.6662202879142953\n"
          ]
        },
        {
          "output_type": "stream",
          "name": "stderr",
          "text": [
            "/usr/local/lib/python3.11/dist-packages/sklearn/linear_model/_logistic.py:1247: FutureWarning: 'multi_class' was deprecated in version 1.5 and will be removed in 1.7. From then on, it will always use 'multinomial'. Leave it to its default value to avoid this warning.\n",
            "  warnings.warn(\n"
          ]
        }
      ]
    },
    {
      "cell_type": "code",
      "source": [
        "from sklearn.metrics import confusion_matrix\n",
        "import seaborn as sns\n",
        "import matplotlib.pyplot as plt\n",
        "\n",
        "cm = confusion_matrix(y_test, y_pred)\n",
        "sns.heatmap(cm, annot=True, fmt='d', cmap='Blues', xticklabels=['Predicted 0', 'Predicted 1'], yticklabels=['Actual 0', 'Actual 1'])\n",
        "plt.xlabel('Predicted')\n",
        "plt.ylabel('Actual')\n",
        "plt.show()"
      ],
      "metadata": {
        "colab": {
          "base_uri": "https://localhost:8080/",
          "height": 452
        },
        "id": "beFegLrcs-nq",
        "outputId": "ac068bcb-487b-4943-a3f9-677f586e7923"
      },
      "execution_count": null,
      "outputs": [
        {
          "output_type": "display_data",
          "data": {
            "text/plain": [
              "<Figure size 640x480 with 2 Axes>"
            ],
            "image/png": "[encoded data removed]"
          },
          "metadata": {}
        }
      ]
    },
    {
      "cell_type": "markdown",
      "source": [
        "# Decison Tree"
      ],
      "metadata": {
        "id": "zaiQ1RDJStLU"
      }
    },
    {
      "cell_type": "code",
      "source": [
        "from sklearn.tree import DecisionTreeClassifier\n",
        "from sklearn.metrics import precision_recall_fscore_support, confusion_matrix\n",
        "\n",
        "#dt_model = DecisionTreeClassifier()\n",
        "dt_model=DecisionTreeClassifier(\n",
        "    criterion='gini',          # Splitting criterion ('gini' for Gini impurity, or 'entropy' for information gain)\n",
        "    splitter='best',           # Chooses the best split at each node ('random' selects a random split)\n",
        "    max_depth=None,            # No depth limit (tree grows until all leaves are pure or min_samples_split is reached)\n",
        "    min_samples_split=2,       # Minimum samples required to split an internal node\n",
        "    min_samples_leaf=1,        # Minimum samples required to be a leaf node\n",
        "    min_weight_fraction_leaf=0.0, # Minimum weighted fraction of total samples required in a leaf node\n",
        "    max_features=None,         # No limit on the number of features considered for the best split\n",
        "    random_state=None,         # No fixed randomness by default\n",
        "    max_leaf_nodes=None,       # No limit on the number of leaf nodes\n",
        "    min_impurity_decrease=0.0, # A node splits if it decreases impurity by at least this amount\n",
        "    class_weight=None,         # No class weighting by default\n",
        "    ccp_alpha=0.0              # Complexity parameter for pruning (0 means no pruning)\n",
        ")\n",
        "dt_model = dt_model.fit(X_train, y_train)\n",
        "y_pred = dt_model.predict(X_test)\n",
        "\n",
        "\n",
        "\n",
        "# Compute precision, recall, and F1-score for each class\n",
        "precision_class, recall_class, f1_class, support_class = precision_recall_fscore_support(y_test, y_pred, average=None, labels=[0, 1])\n",
        "\n",
        "# Compute confusion matrix\n",
        "conf_matrix = confusion_matrix(y_test, y_pred, labels=[0, 1])\n",
        "\n",
        "# Extract TP, TN, FP, FN for each class\n",
        "TP_0 = conf_matrix[0, 0]\n",
        "FN_0 = conf_matrix[0, 1]\n",
        "FP_0 = conf_matrix[1, 0]\n",
        "TN_0 = conf_matrix[1, 1]\n",
        "\n",
        "TP_1 = conf_matrix[1, 1]\n",
        "FN_1 = conf_matrix[1, 0]\n",
        "FP_1 = conf_matrix[0, 1]\n",
        "TN_1 = conf_matrix[0, 0]\n",
        "\n",
        "# Calculate overall accuracy\n",
        "accuracy = (TP_0 + TP_1) / (TP_0 + TP_1 + FP_0 + FP_1 + FN_0 + FN_1)\n",
        "\n",
        "print(f'Overall Accuracy: {accuracy}')\n",
        "print(f'Class 0 - Precision: {precision_class[0]}, Recall: {recall_class[0]}, F1-score: {f1_class[0]}')\n",
        "print(f'Class 1 - Precision: {precision_class[1]}, Recall: {recall_class[1]}, F1-score: {f1_class[1]}')"
      ],
      "metadata": {
        "colab": {
          "base_uri": "https://localhost:8080/"
        },
        "id": "lC-7lzakaePA",
        "outputId": "56eb2114-efc7-4e6a-c92e-a1c52349315f"
      },
      "execution_count": null,
      "outputs": [
        {
          "output_type": "stream",
          "name": "stdout",
          "text": [
            "Overall Accuracy: 0.4298707515557683\n",
            "Class 0 - Precision: 0.6010928961748634, Recall: 0.5917955615332885, F1-score: 0.5964079972890546\n",
            "Class 1 - Precision: 0.6014445173998687, Recall: 0.6106666666666667, F1-score: 0.6060205094277208\n"
          ]
        }
      ]
    },
    {
      "cell_type": "markdown",
      "source": [
        "Confusion Matrix for DT Model :\n",
        "Display the matrix with TP, TN, FP, FN counts.\n",
        "https://chatgpt.com/share/2f5dfec4-026c-4017-944e-7720f539930f"
      ],
      "metadata": {
        "id": "0FXE3vXNrvTL"
      }
    },
    {
      "cell_type": "markdown",
      "source": [
        "## DT Overall Performance"
      ],
      "metadata": {
        "id": "siDSIJxQXR96"
      }
    },
    {
      "cell_type": "code",
      "source": [
        "from sklearn.tree import DecisionTreeClassifier\n",
        "from sklearn.metrics import precision_recall_fscore_support, accuracy_score, confusion_matrix\n",
        "\n",
        "# Train Decision Tree model\n",
        "#dt_model = DecisionTreeClassifier()\n",
        "dt_model=DecisionTreeClassifier(\n",
        "    criterion='gini',          # Splitting criterion ('gini' for Gini impurity, or 'entropy' for information gain)\n",
        "    splitter='best',           # Chooses the best split at each node ('random' selects a random split)\n",
        "    max_depth=None,            # No depth limit (tree grows until all leaves are pure or min_samples_split is reached)\n",
        "    min_samples_split=2,       # Minimum samples required to split an internal node\n",
        "    min_samples_leaf=1,        # Minimum samples required to be a leaf node\n",
        "    min_weight_fraction_leaf=0.0, # Minimum weighted fraction of total samples required in a leaf node\n",
        "    max_features=None,         # No limit on the number of features considered for the best split\n",
        "    random_state=None,         # No fixed randomness by default\n",
        "    max_leaf_nodes=None,       # No limit on the number of leaf nodes\n",
        "    min_impurity_decrease=0.0, # A node splits if it decreases impurity by at least this amount\n",
        "    class_weight=None,         # No class weighting by default\n",
        "    ccp_alpha=0.0              # Complexity parameter for pruning (0 means no pruning)\n",
        ")\n",
        "dt_model = dt_model.fit(X_train, y_train)\n",
        "\n",
        "# Predict on the test set\n",
        "y_pred = dt_model.predict(X_test)\n",
        "\n",
        "# Compute overall metrics (precision, recall, f1-score) using 'binary' for 2-class problem\n",
        "precision, recall, f1, _ = precision_recall_fscore_support(y_test, y_pred, average='binary')  # Use 'binary' for 2-class problem\n",
        "\n",
        "# Compute overall accuracy\n",
        "overall_accuracy = accuracy_score(y_test, y_pred)\n",
        "\n",
        "# Print the overall metrics\n",
        "print(f'Overall Precision: {precision}')\n",
        "print(f'Overall Recall: {recall}')\n",
        "print(f'Overall F1-score: {f1}')\n",
        "print(f'Overall Accuracy: {overall_accuracy}')\n"
      ],
      "metadata": {
        "id": "4uS1CMXcYhzD",
        "colab": {
          "base_uri": "https://localhost:8080/"
        },
        "outputId": "d4ff3a51-40b5-43c2-92d3-c67977857375"
      },
      "execution_count": null,
      "outputs": [
        {
          "output_type": "stream",
          "name": "stdout",
          "text": [
            "Overall Precision: 0.6075522589345921\n",
            "Overall Recall: 0.6006666666666667\n",
            "Overall F1-score: 0.6040898424404961\n",
            "Overall Accuracy: 0.6046200200870439\n"
          ]
        }
      ]
    },
    {
      "cell_type": "code",
      "source": [
        "from sklearn.metrics import confusion_matrix\n",
        "import seaborn as sns\n",
        "import matplotlib.pyplot as plt\n",
        "\n",
        "cm = confusion_matrix(y_test, y_pred)\n",
        "sns.heatmap(cm, annot=True, fmt='d', cmap='Blues', xticklabels=['Predicted 0', 'Predicted 1'], yticklabels=['Actual 0', 'Actual 1'])\n",
        "plt.xlabel('Predicted')\n",
        "plt.ylabel('Actual')\n",
        "plt.show()"
      ],
      "metadata": {
        "colab": {
          "base_uri": "https://localhost:8080/",
          "height": 449
        },
        "id": "ZsjBHzKfryzZ",
        "outputId": "7fbd9203-2f8c-477e-e649-850f31a393b3"
      },
      "execution_count": null,
      "outputs": [
        {
          "output_type": "display_data",
          "data": {
            "text/plain": [
              "<Figure size 640x480 with 2 Axes>"
            ],
            "image/png": "[encoded data removed]"
          },
          "metadata": {}
        }
      ]
    },
    {
      "cell_type": "markdown",
      "source": [
        "# SVM"
      ],
      "metadata": {
        "id": "-hq49S9bSlxs"
      }
    },
    {
      "cell_type": "code",
      "source": [
        "from sklearn.svm import SVC\n",
        "from sklearn.svm import LinearSVC\n",
        "from sklearn.metrics import precision_recall_fscore_support, confusion_matrix\n",
        "\n",
        "#svm_model = LinearSVC()\n",
        "svm_model =LinearSVC(\n",
        "    penalty='l2',       # Uses L2 regularization by default\n",
        "    loss='squared_hinge', # Loss function (squared hinge loss for better optimization)\n",
        "    dual=True,          # Uses dual formulation when n_samples > n_features\n",
        "    tol=1e-4,           # Tolerance for stopping criteria\n",
        "    C=1.0,              # Regularization strength (inverse of lambda)\n",
        "    multi_class='ovr',  # One-vs-Rest (OvR) for multi-class classification\n",
        "    fit_intercept=True, # Includes an intercept term\n",
        "    intercept_scaling=1,# Scaling factor for intercept (only when fit_intercept=True)\n",
        "    class_weight=None,  # No class weighting by default\n",
        "    verbose=0,          # No logging output\n",
        "    random_state=None,  # No fixed randomness\n",
        "    max_iter=1000       # Maximum number of iterations for convergence\n",
        ")\n",
        "svm_model = svm_model.fit(X_train, y_train)\n",
        "\n",
        "# Compute predictions\n",
        "y_pred = svm_model.predict(X_test)\n",
        "\n",
        "\n",
        "# Compute precision, recall, and F1-score for each class\n",
        "precision_class, recall_class, f1_class, support_class = precision_recall_fscore_support(y_test, y_pred, average=None, labels=[0, 1])\n",
        "\n",
        "# Compute confusion matrix\n",
        "conf_matrix = confusion_matrix(y_test, y_pred, labels=[0, 1])\n",
        "\n",
        "# Extract TP, TN, FP, FN for each class\n",
        "TP_0 = conf_matrix[0, 0]\n",
        "FN_0 = conf_matrix[0, 1]\n",
        "FP_0 = conf_matrix[1, 0]\n",
        "TN_0 = conf_matrix[1, 1]\n",
        "\n",
        "TP_1 = conf_matrix[1, 1]\n",
        "FN_1 = conf_matrix[1, 0]\n",
        "FP_1 = conf_matrix[0, 1]\n",
        "TN_1 = conf_matrix[0, 0]\n",
        "\n",
        "# Calculate overall accuracy\n",
        "accuracy = (TP_0 + TP_1) / (TP_0 + TP_1 + FP_0 + FP_1 + FN_0 + FN_1)\n",
        "\n",
        "print(f'Overall Accuracy: {accuracy}')\n",
        "print(f'Class 0 - Precision: {precision_class[0]}, Recall: {recall_class[0]}, F1-score: {f1_class[0]}')\n",
        "print(f'Class 1 - Precision: {precision_class[1]}, Recall: {recall_class[1]}, F1-score: {f1_class[1]}')"
      ],
      "metadata": {
        "colab": {
          "base_uri": "https://localhost:8080/"
        },
        "id": "KbPpot8iagey",
        "outputId": "38925e8b-0737-4658-9d0c-83ac8af3b8a5"
      },
      "execution_count": null,
      "outputs": [
        {
          "output_type": "stream",
          "name": "stdout",
          "text": [
            "Overall Accuracy: 0.5306174737381502\n",
            "Class 0 - Precision: 0.6932972241029113, Recall: 0.6886348352387357, F1-score: 0.6909581646423751\n",
            "Class 1 - Precision: 0.6933774834437086, Recall: 0.698, F1-score: 0.6956810631229235\n"
          ]
        }
      ]
    },
    {
      "cell_type": "markdown",
      "source": [
        "## SVM Overall Performance"
      ],
      "metadata": {
        "id": "gGU9iSLPXXgR"
      }
    },
    {
      "cell_type": "code",
      "source": [
        "from sklearn.svm import SVC\n",
        "from sklearn.svm import LinearSVC\n",
        "from sklearn.metrics import precision_recall_fscore_support, accuracy_score\n",
        "\n",
        "# Train SVM model\n",
        "#svm_model = LinearSVC()\n",
        "svm_model =LinearSVC(\n",
        "    penalty='l2',       # Uses L2 regularization by default\n",
        "    loss='squared_hinge', # Loss function (squared hinge loss for better optimization)\n",
        "    dual=True,          # Uses dual formulation when n_samples > n_features\n",
        "    tol=1e-4,           # Tolerance for stopping criteria\n",
        "    C=1.0,              # Regularization strength (inverse of lambda)\n",
        "    multi_class='ovr',  # One-vs-Rest (OvR) for multi-class classification\n",
        "    fit_intercept=True, # Includes an intercept term\n",
        "    intercept_scaling=1,# Scaling factor for intercept (only when fit_intercept=True)\n",
        "    class_weight=None,  # No class weighting by default\n",
        "    verbose=0,          # No logging output\n",
        "    random_state=None,  # No fixed randomness\n",
        "    max_iter=1000       # Maximum number of iterations for convergence\n",
        ")\n",
        "svm_model = svm_model.fit(X_train, y_train)\n",
        "\n",
        "# Predict on the test set\n",
        "y_pred = svm_model.predict(X_test)\n",
        "\n",
        "# Compute overall metrics (precision, recall, f1-score) using 'binary' for 2-class problem\n",
        "precision, recall, f1, _ = precision_recall_fscore_support(y_test, y_pred, average='binary')  # Use 'binary' for 2-class problem\n",
        "\n",
        "# Compute overall accuracy\n",
        "overall_accuracy = accuracy_score(y_test, y_pred)\n",
        "\n",
        "# Print the overall metrics\n",
        "print(f'Overall Precision: {precision}')\n",
        "print(f'Overall Recall: {recall}')\n",
        "print(f'Overall F1-score: {f1}')\n",
        "print(f'Overall Accuracy: {overall_accuracy}')\n"
      ],
      "metadata": {
        "id": "WwRKBQ1mXcuv",
        "colab": {
          "base_uri": "https://localhost:8080/"
        },
        "outputId": "07768ca4-beee-4951-f1c4-0461b5cb16b1"
      },
      "execution_count": null,
      "outputs": [
        {
          "output_type": "stream",
          "name": "stdout",
          "text": [
            "Overall Precision: 0.6933774834437086\n",
            "Overall Recall: 0.698\n",
            "Overall F1-score: 0.6956810631229235\n",
            "Overall Accuracy: 0.6933377971208571\n"
          ]
        }
      ]
    },
    {
      "cell_type": "code",
      "source": [
        "from sklearn.metrics import confusion_matrix\n",
        "import seaborn as sns\n",
        "import matplotlib.pyplot as plt\n",
        "\n",
        "cm = confusion_matrix(y_test, y_pred)\n",
        "sns.heatmap(cm, annot=True, fmt='d', cmap='Blues', xticklabels=['Predicted 0', 'Predicted 1'], yticklabels=['Actual 0', 'Actual 1'])\n",
        "plt.xlabel('Predicted')\n",
        "plt.ylabel('Actual')\n",
        "plt.show()"
      ],
      "metadata": {
        "colab": {
          "base_uri": "https://localhost:8080/",
          "height": 449
        },
        "id": "Ur1BjIiFsoay",
        "outputId": "b36feef9-8926-4a5f-f987-f36d27a86d01"
      },
      "execution_count": null,
      "outputs": [
        {
          "output_type": "display_data",
          "data": {
            "text/plain": [
              "<Figure size 640x480 with 2 Axes>"
            ],
            "image/png": "[encoded data removed]"
          },
          "metadata": {}
        }
      ]
    }
  ]
}