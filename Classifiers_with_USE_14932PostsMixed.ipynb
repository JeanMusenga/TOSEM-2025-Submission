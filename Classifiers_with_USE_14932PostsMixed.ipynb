{
  "cells": [
    {
      "cell_type": "markdown",
      "metadata": {
        "id": "view-in-github",
        "colab_type": "text"
      },
      "source": [
        "<a href=\"https://colab.research.google.com/github/JeanMusenga/TOSEM-2025-Submission/blob/main/Classifiers_with_USE_14932PostsMixed.ipynb\" target=\"_parent\"><img src=\"https://colab.research.google.com/assets/colab-badge.svg\" alt=\"Open In Colab\"/></a>"
      ]
    },
    {
      "cell_type": "markdown",
      "metadata": {
        "id": "saECMI27qwv4"
      },
      "source": [
        "https://chatgpt.com/share/7bf0971e-4d5c-47f4-abc5-4c29d6735f27"
      ]
    },
    {
      "cell_type": "code",
      "execution_count": null,
      "metadata": {
        "id": "o7jQoiQwl0mg"
      },
      "outputs": [],
      "source": [
        "import numpy as np\n",
        "import pandas as pd\n",
        "import nltk\n",
        "import tensorflow_hub as hub\n",
        "from nltk.corpus import stopwords\n",
        "from nltk.tokenize import word_tokenize\n",
        "from nltk.stem import WordNetLemmatizer\n",
        "from sklearn.model_selection import train_test_split\n",
        "from sklearn.svm import SVC\n",
        "from sklearn.metrics import classification_report, accuracy_score, confusion_matrix\n",
        "\n",
        "# Set random seed for reproducibility\n",
        "RANDOM_SEED = 42\n",
        "np.random.seed(RANDOM_SEED)\n"
      ]
    },
    {
      "cell_type": "code",
      "execution_count": null,
      "metadata": {
        "colab": {
          "base_uri": "https://localhost:8080/"
        },
        "id": "_5dDDpkMl2UX",
        "outputId": "4ba3dea1-3674-4bd7-a209-2bf514debee5"
      },
      "outputs": [
        {
          "output_type": "stream",
          "name": "stderr",
          "text": [
            "[nltk_data] Downloading package punkt to /root/nltk_data...\n",
            "[nltk_data]   Package punkt is already up-to-date!\n",
            "[nltk_data] Downloading package stopwords to /root/nltk_data...\n",
            "[nltk_data]   Package stopwords is already up-to-date!\n",
            "[nltk_data] Downloading package wordnet to /root/nltk_data...\n",
            "[nltk_data]   Package wordnet is already up-to-date!\n",
            "[nltk_data] Downloading package punkt_tab to /root/nltk_data...\n",
            "[nltk_data]   Package punkt_tab is already up-to-date!\n"
          ]
        },
        {
          "output_type": "execute_result",
          "data": {
            "text/plain": [
              "True"
            ]
          },
          "metadata": {},
          "execution_count": 3
        }
      ],
      "source": [
        "# Download necessary NLTK data\n",
        "nltk.download('punkt')\n",
        "nltk.download('stopwords')\n",
        "nltk.download('wordnet')\n",
        "nltk.download('punkt_tab')"
      ]
    },
    {
      "cell_type": "code",
      "execution_count": null,
      "metadata": {
        "id": "Bp_r9-lzl2R2"
      },
      "outputs": [],
      "source": [
        "# Load the dataset\n",
        "df = pd.read_excel('14932_ARPs_and_Programming_Posts.xlsx')"
      ]
    },
    {
      "cell_type": "code",
      "execution_count": null,
      "metadata": {
        "colab": {
          "base_uri": "https://localhost:8080/"
        },
        "id": "bXFHoN_F9thp",
        "outputId": "22d13b3c-b465-4767-a06c-9752e6287ab4"
      },
      "outputs": [
        {
          "output_type": "execute_result",
          "data": {
            "text/plain": [
              "(14932, 2)"
            ]
          },
          "metadata": {},
          "execution_count": 5
        }
      ],
      "source": [
        "df.shape"
      ]
    },
    {
      "cell_type": "code",
      "execution_count": null,
      "metadata": {
        "colab": {
          "base_uri": "https://localhost:8080/"
        },
        "id": "vcmca1Fo5F4q",
        "outputId": "88df4c1d-6e13-45ea-aa7a-86935e936772"
      },
      "outputs": [
        {
          "output_type": "stream",
          "name": "stdout",
          "text": [
            "Label\n",
            "0    7466\n",
            "1    7466\n",
            "Name: count, dtype: int64\n"
          ]
        }
      ],
      "source": [
        "class_distribution = df['Label'].value_counts()\n",
        "print(class_distribution)"
      ]
    },
    {
      "cell_type": "markdown",
      "metadata": {
        "id": "RcCp_PpmFS2b"
      },
      "source": [
        "### Cleaning Post"
      ]
    },
    {
      "cell_type": "code",
      "execution_count": null,
      "metadata": {
        "colab": {
          "base_uri": "https://localhost:8080/"
        },
        "id": "VNcYonX4FQ-m",
        "outputId": "dae9b6d8-5c45-4112-bf33-5acf0236abf2"
      },
      "outputs": [
        {
          "metadata": {
            "tags": null
          },
          "name": "stdout",
          "output_type": "stream",
          "text": [
            "                                       Question_body  \\\n",
            "0  <p>When deploying a Windows EC2 instance with ...   \n",
            "1  I'm pretty new to my company (2 weeks) and we'...   \n",
            "2  <p>I am trying to figure out how to get <code>...   \n",
            "3  Say you have an application divided into 3-tie...   \n",
            "4  <p>I am trying to use the circuit breaker patt...   \n",
            "\n",
            "                               Question_body_cleaned  \n",
            "0  When deploying a Windows EC2 instance with Ter...  \n",
            "1  I'm pretty new to my company (2 weeks) and we'...  \n",
            "2  I am trying to figure out how to get [code-sni...  \n",
            "3  Say you have an application divided into 3-tie...  \n",
            "4  I am trying to use the circuit breaker pattern...  \n"
          ]
        }
      ],
      "source": [
        "import pandas as pd\n",
        "from bs4 import BeautifulSoup\n",
        "\n",
        "# Function to remove HTML tags and replace links, images, code snippets, and tables with placeholders\n",
        "def clean_html(text):\n",
        "    if not isinstance(text, str):\n",
        "        return text\n",
        "\n",
        "    soup = BeautifulSoup(text, \"html.parser\")\n",
        "\n",
        "    # Replace all links with '[external-link]'\n",
        "    for a in soup.find_all('a'):\n",
        "        a.replace_with('[external-link]')\n",
        "\n",
        "    # Replace all images with '[figure]'\n",
        "    for img in soup.find_all('img'):\n",
        "        img.replace_with('[figure]')\n",
        "\n",
        "    # Replace all code blocks with '[code-snippet]'\n",
        "    for code in soup.find_all('code'):\n",
        "        code.replace_with('[code-snippet]')\n",
        "\n",
        "    # Replace all tables with '[table]'\n",
        "    for table in soup.find_all('table'):\n",
        "        table.replace_with('[table]')\n",
        "\n",
        "    # Get the text without any remaining HTML tags\n",
        "    clean_text = soup.get_text()\n",
        "\n",
        "    return clean_text\n",
        "\n",
        "# Load your DataFrame (assuming df is already defined)\n",
        "# df = pd.read_csv('your_file.csv')  # Uncomment if loading from a file\n",
        "\n",
        "# Apply the function to 'Question_body' column\n",
        "df['Question_body_cleaned'] = df['Question_body'].apply(clean_html)\n",
        "\n",
        "\n",
        "# Print sample cleaned data\n",
        "print(df[['Question_body', 'Question_body_cleaned']].head())\n"
      ]
    },
    {
      "cell_type": "code",
      "execution_count": null,
      "metadata": {
        "id": "5TDcunJyl2PP"
      },
      "outputs": [],
      "source": [
        "# Text preprocessing\n",
        "stop_words = set(stopwords.words('english'))\n",
        "lemmatizer = WordNetLemmatizer()\n",
        "\n",
        "def preprocess_text(text):\n",
        "    # Ensure the text is a string\n",
        "    if not isinstance(text, str):\n",
        "        text = str(text)\n",
        "\n",
        "    # Tokenize text\n",
        "    tokens = word_tokenize(text)\n",
        "    tokens = [word.lower() for word in tokens if word.isalpha()]\n",
        "    tokens = [word for word in tokens if word not in stop_words]\n",
        "    lemmatized = [lemmatizer.lemmatize(word) for word in tokens]\n",
        "    return ' '.join(lemmatized)\n",
        "\n",
        "# Ensure all values in 'Question_body' are strings and handle NaNs\n",
        "#df['Question_body_cleaned'] = df['Question_body_cleaned'].fillna('')\n",
        "#df['Question_body_cleaned'] = df['Question_body_cleaned'].astype(str)\n",
        "df['Question_body_cleaned'] = df['Question_body_cleaned'].fillna('').astype(str)\n",
        "\n",
        "# Apply the preprocessing function\n",
        "df['Question_body_preprocessed'] = df['Question_body_cleaned'].apply(preprocess_text)\n"
      ]
    },
    {
      "cell_type": "markdown",
      "metadata": {
        "id": "LeCzQx39GTSZ"
      },
      "source": [
        "## # Save the updated DataFrame to an Excel file"
      ]
    },
    {
      "cell_type": "code",
      "execution_count": null,
      "metadata": {
        "id": "XiWmha8uErpC"
      },
      "outputs": [],
      "source": [
        "# Save the updated DataFrame to an Excel file\n",
        "df.to_excel('Preprocessed_14932_ARPs_and_Programming_Posts.xlsx', index=False)"
      ]
    },
    {
      "cell_type": "code",
      "execution_count": null,
      "metadata": {
        "id": "sFurRvRKl2Mu"
      },
      "outputs": [],
      "source": [
        "# Load Universal Sentence Encoder\n",
        "use_model = hub.load(\"https://tfhub.dev/google/universal-sentence-encoder/4\")"
      ]
    },
    {
      "cell_type": "markdown",
      "metadata": {
        "id": "ZIsWQp3TGuSk"
      },
      "source": [
        "# Embeddings with USE"
      ]
    },
    {
      "cell_type": "code",
      "execution_count": null,
      "metadata": {
        "id": "fVRH5xaTl2KJ"
      },
      "outputs": [],
      "source": [
        "# 'The embed_use' function converts preprocessed text into embeddings using the USE model.\n",
        "#def embed_use(sentences):\n",
        "    #return use_model([sentences]).numpy().flatten()  # Flatten the embeddings to make it 1D\n",
        "\n",
        "# Apply the USE embeddings to the Tokens column and save to 'df'\n",
        "#df['USE_Embeddings'] = df['Question_body_preprocessed'].apply(embed_use)\n",
        "\n",
        "# Expand the embeddings into separate columns (512 dimensions)\n",
        "#use_embeddings_df = pd.DataFrame(df['USE_Embeddings'].to_list(), index=df.index)\n",
        "\n",
        "\n",
        "\n",
        "# Function to convert text into embeddings\n",
        "def embed_use(sentences):\n",
        "    return use_model(sentences).numpy()  # No need to flatten for batch processing\n",
        "\n",
        "# Convert the entire column at once (faster)\n",
        "sentences = df['Question_body_preprocessed'].dropna().tolist()  # Remove NaNs before processing\n",
        "embeddings = embed_use(sentences)\n",
        "\n",
        "# Add embeddings to DataFrame\n",
        "df = df.loc[df['Question_body_preprocessed'].notna()]  # Keep only valid rows\n",
        "df['USE_Embeddings'] = list(embeddings)  # Store as a list\n",
        "\n",
        "# Expand embeddings into separate columns (512 dimensions)\n",
        "use_embeddings_df = pd.DataFrame(embeddings, index=df.index)\n"
      ]
    },
    {
      "cell_type": "markdown",
      "metadata": {
        "id": "ltIAMmW8DztK"
      },
      "source": [
        "### Save the updated DataFrame with embeddings to an Excel file"
      ]
    },
    {
      "cell_type": "code",
      "execution_count": null,
      "metadata": {
        "id": "uTEUp08fDtxF"
      },
      "outputs": [],
      "source": [
        "# Save the updated DataFrame with embeddings to an Excel file\n",
        "use_embeddings_df.to_excel('posts_embeddings.xlsx', index=False)"
      ]
    },
    {
      "cell_type": "code",
      "execution_count": null,
      "metadata": {
        "id": "rFDcHl5YDsK6"
      },
      "outputs": [],
      "source": [
        "# Prepare features and labels\n",
        "X = np.array(embed_use(df['USE_Embeddings'].tolist()))\n",
        "y = df['Label'].astype(int).values\n"
      ]
    },
    {
      "cell_type": "code",
      "execution_count": null,
      "metadata": {
        "id": "x300OJsFD4w1"
      },
      "outputs": [],
      "source": [
        "# Prepare features and labels\n",
        "X = np.vstack(df['USE_Embeddings'].values)  # Stack lists into a 2D array\n",
        "y = df['Label'].astype(int).values  # Convert labels to int"
      ]
    },
    {
      "cell_type": "markdown",
      "metadata": {
        "id": "dq0HUDFl7NRE"
      },
      "source": [
        "# Train-test split"
      ]
    },
    {
      "cell_type": "code",
      "execution_count": null,
      "metadata": {
        "id": "rMvOHw1_l2C2"
      },
      "outputs": [],
      "source": [
        "# Split the data, using the specific number of samples for the test set\n",
        "X_train, X_test, y_train, y_test = train_test_split(X, y, test_size=0.2, random_state=42, stratify=y)\n"
      ]
    },
    {
      "cell_type": "markdown",
      "metadata": {
        "id": "bf49levbn-yG"
      },
      "source": [
        "# NB_USE"
      ]
    },
    {
      "cell_type": "code",
      "execution_count": null,
      "metadata": {
        "colab": {
          "base_uri": "https://localhost:8080/"
        },
        "id": "lcnojrIqoF4g",
        "outputId": "d731b4fa-786d-4814-af62-1ccb85ffe5e2"
      },
      "outputs": [
        {
          "output_type": "stream",
          "name": "stdout",
          "text": [
            "Overall Accuracy: 0.8985604285236023\n",
            "Class 0 - Precision: 0.8742928975487115, Recall: 0.9310575635876841, Accuracy: 0.8985604285236023, F1-score: 0.9017828200972448, Support: 1494\n",
            "Class 1 - Precision: 0.9262177650429799, Recall: 0.8660415271265908, Accuracy: 0.8985604285236023, F1-score: 0.8951194184839044, Support: 1493\n"
          ]
        }
      ],
      "source": [
        "from sklearn.naive_bayes import GaussianNB\n",
        "from sklearn.metrics import classification_report\n",
        "from sklearn.metrics import precision_recall_fscore_support, confusion_matrix\n",
        "\n",
        "#nb_model = GaussianNB()\n",
        "nb_model=GaussianNB(\n",
        "    priors=None,      # No predefined class priors; computed from the data\n",
        "    var_smoothing=1e-9 # Small value added to variances for numerical stability\n",
        ")\n",
        "nb_model = nb_model.fit(X_train, y_train)\n",
        "y_pred = nb_model.predict(X_test)\n",
        "\n",
        "\n",
        "# Compute metrics for each class\n",
        "precision_class, recall_class, f1_class, support_class = precision_recall_fscore_support(y_test, y_pred, average=None, labels=[0, 1])\n",
        "\n",
        "# Compute confusion matrix\n",
        "conf_matrix = confusion_matrix(y_test, y_pred, labels=[0, 1])\n",
        "\n",
        "# Extract TP, TN, FP, FN for each class\n",
        "TP_0, FN_0 = conf_matrix[0, 0], conf_matrix[0, 1]\n",
        "FP_0, TN_0 = conf_matrix[1, 0], conf_matrix[1, 1]\n",
        "\n",
        "TP_1, FN_1 = conf_matrix[1, 1], conf_matrix[1, 0]\n",
        "FP_1, TN_1 = conf_matrix[0, 1], conf_matrix[0, 0]\n",
        "\n",
        "# Calculate accuracy for each class\n",
        "accuracy_class_0 = (TP_0 + TN_0) / (TP_0 + TN_0 + FP_0 + FN_0)\n",
        "accuracy_class_1 = (TP_1 + TN_1) / (TP_1 + TN_1 + FP_1 + FN_1)\n",
        "\n",
        "# Calculate overall accuracy\n",
        "overall_accuracy = accuracy_score(y_test, y_pred)\n",
        "\n",
        "print(f'Overall Accuracy: {overall_accuracy}')\n",
        "\n",
        "print(f'Class 0 - Precision: {precision_class[0]}, Recall: {recall_class[0]}, Accuracy: {accuracy_class_0}, F1-score: {f1_class[0]}, Support: {support_class[0]}')\n",
        "print(f'Class 1 - Precision: {precision_class[1]}, Recall: {recall_class[1]}, Accuracy: {accuracy_class_1}, F1-score: {f1_class[1]}, Support: {support_class[1]}')\n"
      ]
    },
    {
      "cell_type": "markdown",
      "metadata": {
        "id": "0I-qWt-qZXHC"
      },
      "source": [
        "## NB Overall Performance"
      ]
    },
    {
      "cell_type": "code",
      "execution_count": null,
      "metadata": {
        "colab": {
          "base_uri": "https://localhost:8080/"
        },
        "id": "tZHgD71UZf1z",
        "outputId": "459b0068-0c66-4b23-8ee9-111eb378fd9a"
      },
      "outputs": [
        {
          "output_type": "stream",
          "name": "stdout",
          "text": [
            "Overall Precision: 0.9262177650429799\n",
            "Overall Recall: 0.8660415271265908\n",
            "Overall F1-score: 0.8951194184839044\n",
            "Overall Accuracy: 0.8985604285236023\n"
          ]
        }
      ],
      "source": [
        "from sklearn.naive_bayes import GaussianNB\n",
        "from sklearn.metrics import precision_recall_fscore_support, accuracy_score, confusion_matrix\n",
        "\n",
        "# Train Naive Bayes model\n",
        "#nb_model = GaussianNB()\n",
        "nb_model=GaussianNB(\n",
        "    priors=None,      # No predefined class priors; computed from the data\n",
        "    var_smoothing=1e-9 # Small value added to variances for numerical stability\n",
        ")\n",
        "nb_model = nb_model.fit(X_train, y_train)\n",
        "\n",
        "# Predict on the test set\n",
        "y_pred = nb_model.predict(X_test)\n",
        "\n",
        "# Compute overall precision, recall, F1-score using average='binary' (for binary classification)\n",
        "precision, recall, f1, support = precision_recall_fscore_support(y_test, y_pred, average='binary')\n",
        "\n",
        "# Compute overall accuracy\n",
        "accuracy = accuracy_score(y_test, y_pred)\n",
        "\n",
        "# Print overall metrics\n",
        "print(f'Overall Precision: {precision}')\n",
        "print(f'Overall Recall: {recall}')\n",
        "print(f'Overall F1-score: {f1}')\n",
        "print(f'Overall Accuracy: {accuracy}')"
      ]
    },
    {
      "cell_type": "code",
      "execution_count": null,
      "metadata": {
        "colab": {
          "base_uri": "https://localhost:8080/",
          "height": 449
        },
        "id": "AcbP3v2HGXG6",
        "outputId": "4e010221-316c-4b91-852f-4e0bdb12c61f"
      },
      "outputs": [
        {
          "output_type": "display_data",
          "data": {
            "text/plain": [
              "<Figure size 640x480 with 2 Axes>"
            ],
            "image/png": "[encoded data removed]"
          },
          "metadata": {}
        }
      ],
      "source": [
        "from sklearn.metrics import confusion_matrix\n",
        "import seaborn as sns\n",
        "import matplotlib.pyplot as plt\n",
        "\n",
        "cm = confusion_matrix(y_test, y_pred)\n",
        "sns.heatmap(cm, annot=True, fmt='d', cmap='Blues', xticklabels=['Predicted 0', 'Predicted 1'], yticklabels=['Actual 0', 'Actual 1'])\n",
        "plt.xlabel('Predicted')\n",
        "plt.ylabel('Actual')\n",
        "plt.show()"
      ]
    },
    {
      "cell_type": "markdown",
      "metadata": {
        "id": "nUSj6mxtpLUn"
      },
      "source": [
        "# kNN_USE"
      ]
    },
    {
      "cell_type": "code",
      "execution_count": null,
      "metadata": {
        "id": "4p3VrPwCpKsA",
        "colab": {
          "base_uri": "https://localhost:8080/"
        },
        "outputId": "135b70b3-c586-4f4f-9b55-45e434c92d7b"
      },
      "outputs": [
        {
          "output_type": "stream",
          "name": "stdout",
          "text": [
            "Overall Accuracy: 0.8767994643454972\n",
            "Class 0 - Precision: 0.8804054054054054, Recall: 0.8721552878179384, Accuracy: 0.8767994643454972, F1-score: 0.8762609280430397\n",
            "Class 1 - Precision: 0.8732581287325812, Recall: 0.8814467515070328, Accuracy: 0.8767994643454972, F1-score: 0.8773333333333333\n"
          ]
        }
      ],
      "source": [
        "from sklearn.neighbors import KNeighborsClassifier\n",
        "from sklearn.metrics import classification_report\n",
        "from sklearn.metrics import precision_recall_fscore_support, confusion_matrix\n",
        "\n",
        "#knn_model = KNeighborsClassifier(n_neighbors=1)\n",
        "knn_model=KNeighborsClassifier(\n",
        "    n_neighbors=1,      # Number of neighbors to consider (default is 5, but set to 1 in your case)\n",
        "    weights='uniform',  # All neighbors have equal weight ('distance' would weigh closer neighbors more)\n",
        "    algorithm='auto',   # Chooses the best algorithm based on data ('ball_tree', 'kd_tree', or 'brute' can be set manually)\n",
        "    leaf_size=30,       # Affects 'ball_tree' and 'kd_tree' algorithms (ignored for 'brute')\n",
        "    p=2,                # Power parameter for Minkowski distance (p=2 corresponds to Euclidean distance, p=1 is Manhattan)\n",
        "    metric='minkowski', # Default distance metric (with p=2, this is Euclidean distance)\n",
        "    metric_params=None, # No additional parameters for the metric\n",
        "    n_jobs=None         # No parallel processing (set to -1 to use all CPU cores)\n",
        ")\n",
        "\n",
        "knn_model.fit(X_train, y_train)\n",
        "\n",
        "y_pred = knn_model.predict(X_test)\n",
        "\n",
        "\n",
        "# Compute metrics for each class\n",
        "precision_class, recall_class, f1_class, support_class = precision_recall_fscore_support(y_test, y_pred, average=None, labels=[0, 1])\n",
        "\n",
        "# Compute confusion matrix\n",
        "conf_matrix = confusion_matrix(y_test, y_pred, labels=[0, 1])\n",
        "\n",
        "# Extract TP, TN, FP, FN for each class\n",
        "TP_0, FN_0 = conf_matrix[0, 0], conf_matrix[0, 1]\n",
        "FP_0, TN_0 = conf_matrix[1, 0], conf_matrix[1, 1]\n",
        "\n",
        "TP_1, FN_1 = conf_matrix[1, 1], conf_matrix[1, 0]\n",
        "FP_1, TN_1 = conf_matrix[0, 1], conf_matrix[0, 0]\n",
        "\n",
        "# Calculate accuracy for each class\n",
        "accuracy_class_0 = (TP_0 + TN_0) / (TP_0 + TN_0 + FP_0 + FN_0)\n",
        "accuracy_class_1 = (TP_1 + TN_1) / (TP_1 + TN_1 + FP_1 + FN_1)\n",
        "\n",
        "# Calculate overall accuracy\n",
        "overall_accuracy = accuracy_score(y_test, y_pred)\n",
        "\n",
        "print(f'Overall Accuracy: {overall_accuracy}')\n",
        "\n",
        "print(f'Class 0 - Precision: {precision_class[0]}, Recall: {recall_class[0]}, Accuracy: {accuracy_class_0}, F1-score: {f1_class[0]}')\n",
        "print(f'Class 1 - Precision: {precision_class[1]}, Recall: {recall_class[1]}, Accuracy: {accuracy_class_1}, F1-score: {f1_class[1]}')\n"
      ]
    },
    {
      "cell_type": "markdown",
      "metadata": {
        "id": "OFvwg1lPaOiO"
      },
      "source": [
        "## Overall"
      ]
    },
    {
      "cell_type": "code",
      "execution_count": null,
      "metadata": {
        "colab": {
          "base_uri": "https://localhost:8080/"
        },
        "id": "KTiX7kYuaROn",
        "outputId": "2c4a0d59-284b-41ab-c58f-7fc83fb18762"
      },
      "outputs": [
        {
          "output_type": "stream",
          "name": "stdout",
          "text": [
            "Overall Precision: 0.8732581287325812\n",
            "Overall Recall: 0.8814467515070328\n",
            "Overall F1-score: 0.8773333333333333\n",
            "Overall Accuracy: 0.8767994643454972\n"
          ]
        }
      ],
      "source": [
        "from sklearn.neighbors import KNeighborsClassifier\n",
        "from sklearn.metrics import precision_recall_fscore_support, accuracy_score\n",
        "\n",
        "# Train KNeighbors model\n",
        "#knn_model = KNeighborsClassifier(n_neighbors=1)\n",
        "knn_model=KNeighborsClassifier(\n",
        "    n_neighbors=1,      # Number of neighbors to consider (default is 5, but set to 1 in your case)\n",
        "    weights='uniform',  # All neighbors have equal weight ('distance' would weigh closer neighbors more)\n",
        "    algorithm='auto',   # Chooses the best algorithm based on data ('ball_tree', 'kd_tree', or 'brute' can be set manually)\n",
        "    leaf_size=30,       # Affects 'ball_tree' and 'kd_tree' algorithms (ignored for 'brute')\n",
        "    p=2,                # Power parameter for Minkowski distance (p=2 corresponds to Euclidean distance, p=1 is Manhattan)\n",
        "    metric='minkowski', # Default distance metric (with p=2, this is Euclidean distance)\n",
        "    metric_params=None, # No additional parameters for the metric\n",
        "    n_jobs=None         # No parallel processing (set to -1 to use all CPU cores)\n",
        ")\n",
        "\n",
        "knn_model.fit(X_train, y_train)\n",
        "\n",
        "# Predict on the test set\n",
        "y_pred = knn_model.predict(X_test)\n",
        "\n",
        "# Compute overall precision, recall, and F1-score using average='binary' for binary classification\n",
        "precision, recall, f1, support = precision_recall_fscore_support(y_test, y_pred, average='binary')\n",
        "\n",
        "# Compute overall accuracy\n",
        "accuracy = accuracy_score(y_test, y_pred)\n",
        "\n",
        "# Print overall metrics\n",
        "print(f'Overall Precision: {precision}')\n",
        "print(f'Overall Recall: {recall}')\n",
        "print(f'Overall F1-score: {f1}')\n",
        "print(f'Overall Accuracy: {accuracy}')"
      ]
    },
    {
      "cell_type": "code",
      "execution_count": null,
      "metadata": {
        "colab": {
          "base_uri": "https://localhost:8080/",
          "height": 449
        },
        "id": "SDQUDOQUGUQC",
        "outputId": "44ffce08-44a5-4086-e69c-755d2185a2a0"
      },
      "outputs": [
        {
          "output_type": "display_data",
          "data": {
            "text/plain": [
              "<Figure size 640x480 with 2 Axes>"
            ],
            "image/png": "[encoded data removed]"
          },
          "metadata": {}
        }
      ],
      "source": [
        "from sklearn.metrics import confusion_matrix\n",
        "import seaborn as sns\n",
        "import matplotlib.pyplot as plt\n",
        "\n",
        "cm = confusion_matrix(y_test, y_pred)\n",
        "sns.heatmap(cm, annot=True, fmt='d', cmap='Blues', xticklabels=['Predicted 0', 'Predicted 1'], yticklabels=['Actual 0', 'Actual 1'])\n",
        "plt.xlabel('Predicted')\n",
        "plt.ylabel('Actual')\n",
        "plt.show()"
      ]
    },
    {
      "cell_type": "markdown",
      "metadata": {
        "id": "iy9iXOGopoXP"
      },
      "source": [
        "# DT_USE"
      ]
    },
    {
      "cell_type": "code",
      "execution_count": null,
      "metadata": {
        "colab": {
          "base_uri": "https://localhost:8080/"
        },
        "id": "F__vBnbmpnjm",
        "outputId": "a3d41995-f889-4672-e784-3eb0f6f5eb4a"
      },
      "outputs": [
        {
          "output_type": "stream",
          "name": "stdout",
          "text": [
            "Overall Accuracy: 0.8155339805825242\n",
            "Class 0 - Precision: 0.8196610169491525, Recall: 0.8092369477911646, Accuracy: 0.8155339805825242, F1-score: 0.8144156281576288\n",
            "Class 1 - Precision: 0.8115079365079365, Recall: 0.8218352310783658, Accuracy: 0.8155339805825242, F1-score: 0.8166389351081531\n"
          ]
        }
      ],
      "source": [
        "from sklearn.tree import DecisionTreeClassifier\n",
        "from sklearn.metrics import precision_recall_fscore_support, confusion_matrix\n",
        "#dt_model = DecisionTreeClassifier()\n",
        "dt_model=DecisionTreeClassifier(\n",
        "    criterion='gini',          # Splitting criterion ('gini' for Gini impurity, or 'entropy' for information gain)\n",
        "    splitter='best',           # Chooses the best split at each node ('random' selects a random split)\n",
        "    max_depth=None,            # No depth limit (tree grows until all leaves are pure or min_samples_split is reached)\n",
        "    min_samples_split=2,       # Minimum samples required to split an internal node\n",
        "    min_samples_leaf=1,        # Minimum samples required to be a leaf node\n",
        "    min_weight_fraction_leaf=0.0, # Minimum weighted fraction of total samples required in a leaf node\n",
        "    max_features=None,         # No limit on the number of features considered for the best split\n",
        "    random_state=None,         # No fixed randomness by default\n",
        "    max_leaf_nodes=None,       # No limit on the number of leaf nodes\n",
        "    min_impurity_decrease=0.0, # A node splits if it decreases impurity by at least this amount\n",
        "    class_weight=None,         # No class weighting by default\n",
        "    ccp_alpha=0.0              # Complexity parameter for pruning (0 means no pruning)\n",
        ")\n",
        "dt_model = dt_model.fit(X_train, y_train)\n",
        "y_pred = dt_model.predict(X_test)\n",
        "\n",
        "\n",
        "\n",
        "# Compute metrics for each class\n",
        "precision_class, recall_class, f1_class, support_class = precision_recall_fscore_support(y_test, y_pred, average=None, labels=[0, 1])\n",
        "\n",
        "# Compute confusion matrix\n",
        "conf_matrix = confusion_matrix(y_test, y_pred, labels=[0, 1])\n",
        "\n",
        "# Extract TP, TN, FP, FN for each class\n",
        "TP_0, FN_0 = conf_matrix[0, 0], conf_matrix[0, 1]\n",
        "FP_0, TN_0 = conf_matrix[1, 0], conf_matrix[1, 1]\n",
        "\n",
        "TP_1, FN_1 = conf_matrix[1, 1], conf_matrix[1, 0]\n",
        "FP_1, TN_1 = conf_matrix[0, 1], conf_matrix[0, 0]\n",
        "\n",
        "# Calculate accuracy for each class\n",
        "accuracy_class_0 = (TP_0 + TN_0) / (TP_0 + TN_0 + FP_0 + FN_0)\n",
        "accuracy_class_1 = (TP_1 + TN_1) / (TP_1 + TN_1 + FP_1 + FN_1)\n",
        "\n",
        "# Calculate overall accuracy\n",
        "overall_accuracy = accuracy_score(y_test, y_pred)\n",
        "\n",
        "print(f'Overall Accuracy: {overall_accuracy}')\n",
        "\n",
        "print(f'Class 0 - Precision: {precision_class[0]}, Recall: {recall_class[0]}, Accuracy: {accuracy_class_0}, F1-score: {f1_class[0]}')\n",
        "print(f'Class 1 - Precision: {precision_class[1]}, Recall: {recall_class[1]}, Accuracy: {accuracy_class_1}, F1-score: {f1_class[1]}')\n"
      ]
    },
    {
      "cell_type": "markdown",
      "metadata": {
        "id": "fZFdw4UAaflQ"
      },
      "source": [
        "## Overall"
      ]
    },
    {
      "cell_type": "code",
      "execution_count": null,
      "metadata": {
        "colab": {
          "base_uri": "https://localhost:8080/"
        },
        "id": "wKcXkDWMah5v",
        "outputId": "9f1b1ba8-b12e-4391-d710-d9b052051fd4"
      },
      "outputs": [
        {
          "output_type": "stream",
          "name": "stdout",
          "text": [
            "Overall Precision: 0.8170068027210884\n",
            "Overall Recall: 0.8044206296048225\n",
            "Overall F1-score: 0.8106648666891664\n",
            "Overall Accuracy: 0.8121861399397389\n"
          ]
        }
      ],
      "source": [
        "from sklearn.tree import DecisionTreeClassifier\n",
        "from sklearn.metrics import precision_recall_fscore_support, accuracy_score\n",
        "\n",
        "# Train DecisionTree model\n",
        "#dt_model = DecisionTreeClassifier()\n",
        "dt_model=DecisionTreeClassifier(\n",
        "    criterion='gini',          # Splitting criterion ('gini' for Gini impurity, or 'entropy' for information gain)\n",
        "    splitter='best',           # Chooses the best split at each node ('random' selects a random split)\n",
        "    max_depth=None,            # No depth limit (tree grows until all leaves are pure or min_samples_split is reached)\n",
        "    min_samples_split=2,       # Minimum samples required to split an internal node\n",
        "    min_samples_leaf=1,        # Minimum samples required to be a leaf node\n",
        "    min_weight_fraction_leaf=0.0, # Minimum weighted fraction of total samples required in a leaf node\n",
        "    max_features=None,         # No limit on the number of features considered for the best split\n",
        "    random_state=None,         # No fixed randomness by default\n",
        "    max_leaf_nodes=None,       # No limit on the number of leaf nodes\n",
        "    min_impurity_decrease=0.0, # A node splits if it decreases impurity by at least this amount\n",
        "    class_weight=None,         # No class weighting by default\n",
        "    ccp_alpha=0.0              # Complexity parameter for pruning (0 means no pruning)\n",
        ")\n",
        "dt_model = dt_model.fit(X_train, y_train)\n",
        "\n",
        "# Predict on the test set\n",
        "y_pred = dt_model.predict(X_test)\n",
        "\n",
        "# Compute overall precision, recall, and F1-score using average='binary' for binary classification\n",
        "precision, recall, f1, support = precision_recall_fscore_support(y_test, y_pred, average='binary')\n",
        "\n",
        "# Compute overall accuracy\n",
        "accuracy = accuracy_score(y_test, y_pred)\n",
        "\n",
        "# Print overall metrics\n",
        "print(f'Overall Precision: {precision}')\n",
        "print(f'Overall Recall: {recall}')\n",
        "print(f'Overall F1-score: {f1}')\n",
        "print(f'Overall Accuracy: {accuracy}')"
      ]
    },
    {
      "cell_type": "code",
      "execution_count": null,
      "metadata": {
        "colab": {
          "base_uri": "https://localhost:8080/",
          "height": 449
        },
        "id": "89YnkoXdGZKR",
        "outputId": "3cd37b6c-62d6-4706-e73d-6028f0979487"
      },
      "outputs": [
        {
          "output_type": "display_data",
          "data": {
            "text/plain": [
              "<Figure size 640x480 with 2 Axes>"
            ],
            "image/png": "[encoded data removed]"
          },
          "metadata": {}
        }
      ],
      "source": [
        "from sklearn.metrics import confusion_matrix\n",
        "import seaborn as sns\n",
        "import matplotlib.pyplot as plt\n",
        "\n",
        "cm = confusion_matrix(y_test, y_pred)\n",
        "sns.heatmap(cm, annot=True, fmt='d', cmap='Blues', xticklabels=['Predicted 0', 'Predicted 1'], yticklabels=['Actual 0', 'Actual 1'])\n",
        "plt.xlabel('Predicted')\n",
        "plt.ylabel('Actual')\n",
        "plt.show()"
      ]
    },
    {
      "cell_type": "markdown",
      "metadata": {
        "id": "U16ctiQOp9Z2"
      },
      "source": [
        "# LG_USE"
      ]
    },
    {
      "cell_type": "code",
      "execution_count": null,
      "metadata": {
        "colab": {
          "base_uri": "https://localhost:8080/"
        },
        "id": "o1cDTN4bp9Im",
        "outputId": "d3a7f5e8-2f25-48cf-fc3f-ada92dba8a48"
      },
      "outputs": [
        {
          "output_type": "stream",
          "name": "stdout",
          "text": [
            "Overall Accuracy: 0.9233344492802142\n",
            "Class 0 - Precision: 0.9147540983606557, Recall: 0.9337349397590361, Accuracy: 0.9233344492802142, F1-score: 0.9241470685657502\n",
            "Class 1 - Precision: 0.9322845417236663, Recall: 0.9129269926322839, Accuracy: 0.9233344492802142, F1-score: 0.9225042301184433\n"
          ]
        },
        {
          "output_type": "stream",
          "name": "stderr",
          "text": [
            "/usr/local/lib/python3.11/dist-packages/sklearn/linear_model/_logistic.py:1247: FutureWarning: 'multi_class' was deprecated in version 1.5 and will be removed in 1.7. From then on, it will always use 'multinomial'. Leave it to its default value to avoid this warning.\n",
            "  warnings.warn(\n"
          ]
        }
      ],
      "source": [
        "from sklearn.linear_model import LogisticRegression\n",
        "from sklearn.metrics import precision_recall_fscore_support, confusion_matrix\n",
        "#lg_model = LogisticRegression(C=5, penalty='l1', solver='liblinear')\n",
        "lg_model=LogisticRegression(\n",
        "    penalty='l2',      # Default is L2 regularization (Ridge)\n",
        "    dual=False,        # Dual formulation is only used when `penalty='l2'` and the number of samples > number of features\n",
        "    tol=1e-4,          # Tolerance for stopping criteria\n",
        "    C=1.0,             # Inverse of regularization strength (1.0 means moderate regularization)\n",
        "    fit_intercept=True,# Whether to include an intercept term\n",
        "    intercept_scaling=1, # Only relevant for `solver='liblinear'`\n",
        "    class_weight=None, # No class weighting by default\n",
        "    random_state=None, # No fixed randomness\n",
        "    solver='lbfgs',    # Default solver (good for most cases, but does not support `l1` penalty)\n",
        "    max_iter=100,      # Maximum number of iterations for convergence\n",
        "    multi_class='auto',# Automatically chooses between 'ovr' (one-vs-rest) and 'multinomial'\n",
        "    verbose=0,         # No verbosity (silent mode)\n",
        "    warm_start=False,  # Whether to reuse previous solution for faster convergence\n",
        "    n_jobs=None,       # No parallelization (only relevant for solvers like 'saga' or 'lbfgs')\n",
        "    l1_ratio=None      # Only used if `penalty='elasticnet'`\n",
        ")\n",
        "lg_model = lg_model.fit(X_train, y_train)\n",
        "y_pred = lg_model.predict(X_test)\n",
        "\n",
        "\n",
        "\n",
        "# Compute metrics for each class\n",
        "precision_class, recall_class, f1_class, support_class = precision_recall_fscore_support(y_test, y_pred, average=None, labels=[0, 1])\n",
        "\n",
        "# Compute confusion matrix\n",
        "conf_matrix = confusion_matrix(y_test, y_pred, labels=[0, 1])\n",
        "\n",
        "# Extract TP, TN, FP, FN for each class\n",
        "TP_0, FN_0 = conf_matrix[0, 0], conf_matrix[0, 1]\n",
        "FP_0, TN_0 = conf_matrix[1, 0], conf_matrix[1, 1]\n",
        "\n",
        "TP_1, FN_1 = conf_matrix[1, 1], conf_matrix[1, 0]\n",
        "FP_1, TN_1 = conf_matrix[0, 1], conf_matrix[0, 0]\n",
        "\n",
        "# Calculate accuracy for each class\n",
        "accuracy_class_0 = (TP_0 + TN_0) / (TP_0 + TN_0 + FP_0 + FN_0)\n",
        "accuracy_class_1 = (TP_1 + TN_1) / (TP_1 + TN_1 + FP_1 + FN_1)\n",
        "\n",
        "# Calculate overall accuracy\n",
        "overall_accuracy = accuracy_score(y_test, y_pred)\n",
        "\n",
        "print(f'Overall Accuracy: {overall_accuracy}')\n",
        "\n",
        "print(f'Class 0 - Precision: {precision_class[0]}, Recall: {recall_class[0]}, Accuracy: {accuracy_class_0}, F1-score: {f1_class[0]}')\n",
        "print(f'Class 1 - Precision: {precision_class[1]}, Recall: {recall_class[1]}, Accuracy: {accuracy_class_1}, F1-score: {f1_class[1]}')\n"
      ]
    },
    {
      "cell_type": "markdown",
      "metadata": {
        "id": "odf132pEaqBS"
      },
      "source": [
        "## Overall"
      ]
    },
    {
      "cell_type": "code",
      "execution_count": null,
      "metadata": {
        "colab": {
          "base_uri": "https://localhost:8080/"
        },
        "id": "jdRoB2Q8asuE",
        "outputId": "35f35bbe-d5e9-41b7-8eac-8509db786f2b"
      },
      "outputs": [
        {
          "output_type": "stream",
          "name": "stdout",
          "text": [
            "Overall Precision: 0.9322845417236663\n",
            "Overall Recall: 0.9129269926322839\n",
            "Overall F1-score: 0.9225042301184433\n",
            "Overall Accuracy: 0.9233344492802142\n"
          ]
        },
        {
          "output_type": "stream",
          "name": "stderr",
          "text": [
            "/usr/local/lib/python3.11/dist-packages/sklearn/linear_model/_logistic.py:1247: FutureWarning: 'multi_class' was deprecated in version 1.5 and will be removed in 1.7. From then on, it will always use 'multinomial'. Leave it to its default value to avoid this warning.\n",
            "  warnings.warn(\n"
          ]
        }
      ],
      "source": [
        "from sklearn.linear_model import LogisticRegression\n",
        "from sklearn.metrics import precision_recall_fscore_support, accuracy_score\n",
        "\n",
        "# Train Logistic Regression model\n",
        "#lg_model = LogisticRegression(C=5, penalty='l1', solver='liblinear')\n",
        "lg_model=LogisticRegression(\n",
        "    penalty='l2',      # Default is L2 regularization (Ridge)\n",
        "    dual=False,        # Dual formulation is only used when `penalty='l2'` and the number of samples > number of features\n",
        "    tol=1e-4,          # Tolerance for stopping criteria\n",
        "    C=1.0,             # Inverse of regularization strength (1.0 means moderate regularization)\n",
        "    fit_intercept=True,# Whether to include an intercept term\n",
        "    intercept_scaling=1, # Only relevant for `solver='liblinear'`\n",
        "    class_weight=None, # No class weighting by default\n",
        "    random_state=None, # No fixed randomness\n",
        "    solver='lbfgs',    # Default solver (good for most cases, but does not support `l1` penalty)\n",
        "    max_iter=100,      # Maximum number of iterations for convergence\n",
        "    multi_class='auto',# Automatically chooses between 'ovr' (one-vs-rest) and 'multinomial'\n",
        "    verbose=0,         # No verbosity (silent mode)\n",
        "    warm_start=False,  # Whether to reuse previous solution for faster convergence\n",
        "    n_jobs=None,       # No parallelization (only relevant for solvers like 'saga' or 'lbfgs')\n",
        "    l1_ratio=None      # Only used if `penalty='elasticnet'`\n",
        ")\n",
        "lg_model = lg_model.fit(X_train, y_train)\n",
        "\n",
        "# Predict on the test set\n",
        "y_pred = lg_model.predict(X_test)\n",
        "\n",
        "# Compute overall precision, recall, and F1-score using average='binary' for binary classification\n",
        "precision, recall, f1, support = precision_recall_fscore_support(y_test, y_pred, average='binary')\n",
        "\n",
        "# Compute overall accuracy\n",
        "overall_accuracy = accuracy_score(y_test, y_pred)\n",
        "\n",
        "# Print overall metrics\n",
        "print(f'Overall Precision: {precision}')\n",
        "print(f'Overall Recall: {recall}')\n",
        "print(f'Overall F1-score: {f1}')\n",
        "print(f'Overall Accuracy: {overall_accuracy}')"
      ]
    },
    {
      "cell_type": "code",
      "execution_count": null,
      "metadata": {
        "colab": {
          "base_uri": "https://localhost:8080/",
          "height": 449
        },
        "id": "bkgaYccLGa4r",
        "outputId": "91eb65a9-c5a7-438c-c881-35521b3fa185"
      },
      "outputs": [
        {
          "output_type": "display_data",
          "data": {
            "text/plain": [
              "<Figure size 640x480 with 2 Axes>"
            ],
            "image/png": "[encoded data removed]"
          },
          "metadata": {}
        }
      ],
      "source": [
        "from sklearn.metrics import confusion_matrix\n",
        "import seaborn as sns\n",
        "import matplotlib.pyplot as plt\n",
        "\n",
        "cm = confusion_matrix(y_test, y_pred)\n",
        "sns.heatmap(cm, annot=True, fmt='d', cmap='Blues', xticklabels=['Predicted 0', 'Predicted 1'], yticklabels=['Actual 0', 'Actual 1'])\n",
        "plt.xlabel('Predicted')\n",
        "plt.ylabel('Actual')\n",
        "plt.show()"
      ]
    },
    {
      "cell_type": "markdown",
      "metadata": {
        "id": "Eoo-NB-LntiQ"
      },
      "source": [
        "# SVM_USE"
      ]
    },
    {
      "cell_type": "code",
      "execution_count": null,
      "metadata": {
        "colab": {
          "base_uri": "https://localhost:8080/"
        },
        "id": "HEOVNG6il14f",
        "outputId": "3d36152f-316a-4b90-cd97-374e98ab1de4"
      },
      "outputs": [
        {
          "output_type": "stream",
          "name": "stdout",
          "text": [
            "Overall Accuracy: 0.9253431536658855\n",
            "Class 0 - Precision: 0.9167213114754098, Recall: 0.9357429718875502, Accuracy: 0.9253431536658855, F1-score: 0.9261344816164293\n",
            "Class 1 - Precision: 0.9343365253077975, Recall: 0.9149363697253852, Accuracy: 0.9253431536658855, F1-score: 0.9245346869712352\n"
          ]
        }
      ],
      "source": [
        "# Train the SVM model using the sentence embeddings\n",
        "from sklearn.metrics import precision_recall_fscore_support, confusion_matrix\n",
        "from sklearn.svm import LinearSVC\n",
        "#svm_model = LinearSVC()\n",
        "svm_model =LinearSVC(\n",
        "    penalty='l2',       # Uses L2 regularization by default\n",
        "    loss='squared_hinge', # Loss function (squared hinge loss for better optimization)\n",
        "    dual=True,          # Uses dual formulation when n_samples > n_features\n",
        "    tol=1e-4,           # Tolerance for stopping criteria\n",
        "    C=1.0,              # Regularization strength (inverse of lambda)\n",
        "    multi_class='ovr',  # One-vs-Rest (OvR) for multi-class classification\n",
        "    fit_intercept=True, # Includes an intercept term\n",
        "    intercept_scaling=1,# Scaling factor for intercept (only when fit_intercept=True)\n",
        "    class_weight=None,  # No class weighting by default\n",
        "    verbose=0,          # No logging output\n",
        "    random_state=None,  # No fixed randomness\n",
        "    max_iter=1000       # Maximum number of iterations for convergence\n",
        ")\n",
        "svm_model.fit(X_train, y_train)\n",
        "\n",
        "# Predict and evaluate\n",
        "y_pred = svm_model.predict(X_test)\n",
        "\n",
        "\n",
        "# Compute metrics for each class\n",
        "precision_class, recall_class, f1_class, support_class = precision_recall_fscore_support(y_test, y_pred, average=None, labels=[0, 1])\n",
        "\n",
        "# Compute confusion matrix\n",
        "conf_matrix = confusion_matrix(y_test, y_pred, labels=[0, 1])\n",
        "\n",
        "# Extract TP, TN, FP, FN for each class\n",
        "TP_0, FN_0 = conf_matrix[0, 0], conf_matrix[0, 1]\n",
        "FP_0, TN_0 = conf_matrix[1, 0], conf_matrix[1, 1]\n",
        "\n",
        "TP_1, FN_1 = conf_matrix[1, 1], conf_matrix[1, 0]\n",
        "FP_1, TN_1 = conf_matrix[0, 1], conf_matrix[0, 0]\n",
        "\n",
        "# Calculate accuracy for each class\n",
        "accuracy_class_0 = (TP_0 + TN_0) / (TP_0 + TN_0 + FP_0 + FN_0)\n",
        "accuracy_class_1 = (TP_1 + TN_1) / (TP_1 + TN_1 + FP_1 + FN_1)\n",
        "\n",
        "# Calculate overall accuracy\n",
        "overall_accuracy = accuracy_score(y_test, y_pred)\n",
        "\n",
        "print(f'Overall Accuracy: {overall_accuracy}')\n",
        "\n",
        "print(f'Class 0 - Precision: {precision_class[0]}, Recall: {recall_class[0]}, Accuracy: {accuracy_class_0}, F1-score: {f1_class[0]}')\n",
        "print(f'Class 1 - Precision: {precision_class[1]}, Recall: {recall_class[1]}, Accuracy: {accuracy_class_1}, F1-score: {f1_class[1]}')\n"
      ]
    },
    {
      "cell_type": "markdown",
      "metadata": {
        "id": "N7j-pfpdaycH"
      },
      "source": [
        "## Overall"
      ]
    },
    {
      "cell_type": "code",
      "execution_count": null,
      "metadata": {
        "colab": {
          "base_uri": "https://localhost:8080/"
        },
        "id": "9S0MXZ3Ya0Li",
        "outputId": "118c47c4-4859-4192-d792-ea0a4cc8efbc"
      },
      "outputs": [
        {
          "output_type": "stream",
          "name": "stdout",
          "text": [
            "Overall Precision: 0.9343365253077975\n",
            "Overall Recall: 0.9149363697253852\n",
            "Overall F1-score: 0.9245346869712352\n",
            "Overall Accuracy: 0.9253431536658855\n"
          ]
        }
      ],
      "source": [
        "from sklearn.svm import SVC\n",
        "from sklearn.svm import LinearSVC\n",
        "from sklearn.metrics import precision_recall_fscore_support, accuracy_score\n",
        "\n",
        "# Train the SVM model using the sentence embeddings\n",
        "#svm_model = LinearSVC()\n",
        "svm_model =LinearSVC(\n",
        "    penalty='l2',       # Uses L2 regularization by default\n",
        "    loss='squared_hinge', # Loss function (squared hinge loss for better optimization)\n",
        "    dual=True,          # Uses dual formulation when n_samples > n_features\n",
        "    tol=1e-4,           # Tolerance for stopping criteria\n",
        "    C=1.0,              # Regularization strength (inverse of lambda)\n",
        "    multi_class='ovr',  # One-vs-Rest (OvR) for multi-class classification\n",
        "    fit_intercept=True, # Includes an intercept term\n",
        "    intercept_scaling=1,# Scaling factor for intercept (only when fit_intercept=True)\n",
        "    class_weight=None,  # No class weighting by default\n",
        "    verbose=0,          # No logging output\n",
        "    random_state=None,  # No fixed randomness\n",
        "    max_iter=1000       # Maximum number of iterations for convergence\n",
        ")\n",
        "svm_model.fit(X_train, y_train)\n",
        "\n",
        "# Predict and evaluate\n",
        "y_pred = svm_model.predict(X_test)\n",
        "\n",
        "# Compute overall precision, recall, and F1-score using average='binary' for binary classification\n",
        "precision, recall, f1, support = precision_recall_fscore_support(y_test, y_pred, average='binary')\n",
        "\n",
        "# Compute overall accuracy\n",
        "overall_accuracy = accuracy_score(y_test, y_pred)\n",
        "\n",
        "# Print overall metrics\n",
        "print(f'Overall Precision: {precision}')\n",
        "print(f'Overall Recall: {recall}')\n",
        "print(f'Overall F1-score: {f1}')\n",
        "print(f'Overall Accuracy: {overall_accuracy}')"
      ]
    },
    {
      "cell_type": "code",
      "execution_count": null,
      "metadata": {
        "colab": {
          "base_uri": "https://localhost:8080/",
          "height": 449
        },
        "id": "mwVP2irtGcrq",
        "outputId": "2833873d-eeb5-490e-f5a7-dcfe58dfe19b"
      },
      "outputs": [
        {
          "output_type": "display_data",
          "data": {
            "text/plain": [
              "<Figure size 640x480 with 2 Axes>"
            ],
            "image/png": "[encoded data removed]"
          },
          "metadata": {}
        }
      ],
      "source": [
        "from sklearn.metrics import confusion_matrix\n",
        "import seaborn as sns\n",
        "import matplotlib.pyplot as plt\n",
        "\n",
        "cm = confusion_matrix(y_test, y_pred)\n",
        "sns.heatmap(cm, annot=True, fmt='d', cmap='Blues', xticklabels=['Predicted 0', 'Predicted 1'], yticklabels=['Actual 0', 'Actual 1'])\n",
        "plt.xlabel('Predicted')\n",
        "plt.ylabel('Actual')\n",
        "plt.show()"
      ]
    }
  ],
  "metadata": {
    "colab": {
      "provenance": [],
      "toc_visible": true,
      "include_colab_link": true
    },
    "kernelspec": {
      "display_name": "Python 3",
      "name": "python3"
    },
    "language_info": {
      "name": "python"
    }
  },
  "nbformat": 4,
  "nbformat_minor": 0
}